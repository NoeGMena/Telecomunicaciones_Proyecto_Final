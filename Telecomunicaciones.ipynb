{
 "cells": [
  {
   "cell_type": "markdown",
   "metadata": {},
   "source": [
    "# Proyecto Final: Telecomunicaciones: identificar operadores ineficaces"
   ]
  },
  {
   "cell_type": "markdown",
   "metadata": {},
   "source": [
    "El servicio de telefonía virtual CallMeMaybe está desarrollando una nueva función que brindará a los supervisores y las supervisores información sobre los operadores menos eficaces. Se considera que un operador es ineficaz si tiene una gran cantidad de llamadas entrantes perdidas (internas y externas) y un tiempo de espera prolongado para las llamadas entrantes. Además, si se supone que un operador debe realizar llamadas salientes, un número reducido de ellas también será un signo de ineficacia.\n",
    "\n",
    "- Lleva a cabo el análisis exploratorio de datos\n",
    "- Identificar operadores ineficaces\n",
    "- Prueba las hipótesis estadísticas"
   ]
  },
  {
   "cell_type": "markdown",
   "metadata": {},
   "source": [
    "## Descripción de los datos\n",
    "\n",
    "Los datasets contienen información sobre el uso del servicio de telefonía virtual CallMeMaybe. Sus clientes son organizaciones que necesitan distribuir gran cantidad de llamadas entrantes entre varios operadores, o realizar llamadas salientes a través de sus operadores. Los operadores también pueden realizar llamadas internas para comunicarse entre ellos. Estas llamadas se realizan a través de la red de CallMeMaybe.\n",
    "\n",
    "El dataset comprimido `telecom_dataset_us.csv` contiene las siguientes columnas:\n",
    "\n",
    "- `user_id`: ID de la cuenta de cliente\n",
    "- `date`: fecha en la que se recuperaron las estadísticas\n",
    "- `direction`: \"dirección\" de llamada (`out` para saliente, `in` para entrante)\n",
    "- `internal`: si la llamada fue interna (entre los operadores de un cliente o clienta)\n",
    "- `operator_id`: identificador del operador\n",
    "- `is_missed_call`: si fue una llamada perdida\n",
    "- `calls_count`: número de llamadas\n",
    "- `call_duration`: duración de la llamada (sin incluir el tiempo de espera)\n",
    "- `total_call_duration`: duración de la llamada (incluido el tiempo de espera)\n",
    "\n",
    "El conjunto de datos `telecom_clients_us.csv` tiene las siguientes columnas:\n",
    "\n",
    "- `user_id`: ID de usuario/a\n",
    "- `tariff_plan`: tarifa actual de la clientela\n",
    "- `date_start`: fecha de registro de la clientela"
   ]
  },
  {
   "cell_type": "markdown",
   "metadata": {},
   "source": [
    "## Objetivo principal\n",
    "Identificar a los operadores ineficaces debido a llamadas perdidas, tiempo de espera alto en contestar una llamada o pocas llamdas realizadas a clientes"
   ]
  },
  {
   "cell_type": "markdown",
   "metadata": {},
   "source": [
    "### Objetivos secundarios\n",
    "\n",
    "- Establecer la cantidad de llamadas perdidas para ser considerado ineficaz\n",
    "- Establecer la cantidad de tiempo tomado en responder una llamada para ser considerado ineficaz\n",
    "- Establecer la cantidad de llamadas realizadas.\n"
   ]
  },
  {
   "cell_type": "code",
   "execution_count": 1,
   "metadata": {},
   "outputs": [],
   "source": [
    "# Importanciónde librerías\n",
    "import pandas as pd\n",
    "import seaborn as sns\n",
    "import matplotlib.pyplot as plt\n",
    "import numpy as np\n",
    "from datetime import datetime\n",
    "from scipy.stats import shapiro\n",
    "from scipy.stats import mannwhitneyu"
   ]
  },
  {
   "cell_type": "markdown",
   "metadata": {},
   "source": [
    "## Descarga de los datos"
   ]
  },
  {
   "cell_type": "code",
   "execution_count": 2,
   "metadata": {},
   "outputs": [],
   "source": [
    "dataset = pd.read_csv(\"https://practicum-content.s3.us-west-1.amazonaws.com/datasets/telecom_dataset_us.csv\",\n",
    "                      dtype = {\"operator_id\" : \"object\",\n",
    "                               \"user_id\": \"object\",\n",
    "                              \"internal\" : \"boolean\"},\n",
    "                               parse_dates=['date'])\n",
    "clients = pd.read_csv(\"https://practicum-content.s3.us-west-1.amazonaws.com/datasets/telecom_clients_us.csv\",\n",
    "                     dtype = {\"user_id\": \"object\"},\n",
    "                     parse_dates=['date_start'])"
   ]
  },
  {
   "cell_type": "code",
   "execution_count": 3,
   "metadata": {},
   "outputs": [
    {
     "data": {
      "text/html": [
       "<div>\n",
       "<style scoped>\n",
       "    .dataframe tbody tr th:only-of-type {\n",
       "        vertical-align: middle;\n",
       "    }\n",
       "\n",
       "    .dataframe tbody tr th {\n",
       "        vertical-align: top;\n",
       "    }\n",
       "\n",
       "    .dataframe thead th {\n",
       "        text-align: right;\n",
       "    }\n",
       "</style>\n",
       "<table border=\"1\" class=\"dataframe\">\n",
       "  <thead>\n",
       "    <tr style=\"text-align: right;\">\n",
       "      <th></th>\n",
       "      <th>user_id</th>\n",
       "      <th>date</th>\n",
       "      <th>direction</th>\n",
       "      <th>internal</th>\n",
       "      <th>operator_id</th>\n",
       "      <th>is_missed_call</th>\n",
       "      <th>calls_count</th>\n",
       "      <th>call_duration</th>\n",
       "      <th>total_call_duration</th>\n",
       "    </tr>\n",
       "  </thead>\n",
       "  <tbody>\n",
       "    <tr>\n",
       "      <th>0</th>\n",
       "      <td>166377</td>\n",
       "      <td>2019-08-04 00:00:00+03:00</td>\n",
       "      <td>in</td>\n",
       "      <td>False</td>\n",
       "      <td>NaN</td>\n",
       "      <td>True</td>\n",
       "      <td>2</td>\n",
       "      <td>0</td>\n",
       "      <td>4</td>\n",
       "    </tr>\n",
       "    <tr>\n",
       "      <th>1</th>\n",
       "      <td>166377</td>\n",
       "      <td>2019-08-05 00:00:00+03:00</td>\n",
       "      <td>out</td>\n",
       "      <td>True</td>\n",
       "      <td>880022</td>\n",
       "      <td>True</td>\n",
       "      <td>3</td>\n",
       "      <td>0</td>\n",
       "      <td>5</td>\n",
       "    </tr>\n",
       "    <tr>\n",
       "      <th>2</th>\n",
       "      <td>166377</td>\n",
       "      <td>2019-08-05 00:00:00+03:00</td>\n",
       "      <td>out</td>\n",
       "      <td>True</td>\n",
       "      <td>880020</td>\n",
       "      <td>True</td>\n",
       "      <td>1</td>\n",
       "      <td>0</td>\n",
       "      <td>1</td>\n",
       "    </tr>\n",
       "    <tr>\n",
       "      <th>3</th>\n",
       "      <td>166377</td>\n",
       "      <td>2019-08-05 00:00:00+03:00</td>\n",
       "      <td>out</td>\n",
       "      <td>True</td>\n",
       "      <td>880020</td>\n",
       "      <td>False</td>\n",
       "      <td>1</td>\n",
       "      <td>10</td>\n",
       "      <td>18</td>\n",
       "    </tr>\n",
       "    <tr>\n",
       "      <th>4</th>\n",
       "      <td>166377</td>\n",
       "      <td>2019-08-05 00:00:00+03:00</td>\n",
       "      <td>out</td>\n",
       "      <td>False</td>\n",
       "      <td>880022</td>\n",
       "      <td>True</td>\n",
       "      <td>3</td>\n",
       "      <td>0</td>\n",
       "      <td>25</td>\n",
       "    </tr>\n",
       "    <tr>\n",
       "      <th>...</th>\n",
       "      <td>...</td>\n",
       "      <td>...</td>\n",
       "      <td>...</td>\n",
       "      <td>...</td>\n",
       "      <td>...</td>\n",
       "      <td>...</td>\n",
       "      <td>...</td>\n",
       "      <td>...</td>\n",
       "      <td>...</td>\n",
       "    </tr>\n",
       "    <tr>\n",
       "      <th>53897</th>\n",
       "      <td>168606</td>\n",
       "      <td>2019-11-10 00:00:00+03:00</td>\n",
       "      <td>out</td>\n",
       "      <td>True</td>\n",
       "      <td>957922</td>\n",
       "      <td>True</td>\n",
       "      <td>1</td>\n",
       "      <td>0</td>\n",
       "      <td>38</td>\n",
       "    </tr>\n",
       "    <tr>\n",
       "      <th>53898</th>\n",
       "      <td>168606</td>\n",
       "      <td>2019-11-11 00:00:00+03:00</td>\n",
       "      <td>out</td>\n",
       "      <td>True</td>\n",
       "      <td>957922</td>\n",
       "      <td>False</td>\n",
       "      <td>2</td>\n",
       "      <td>479</td>\n",
       "      <td>501</td>\n",
       "    </tr>\n",
       "    <tr>\n",
       "      <th>53899</th>\n",
       "      <td>168606</td>\n",
       "      <td>2019-11-15 00:00:00+03:00</td>\n",
       "      <td>out</td>\n",
       "      <td>True</td>\n",
       "      <td>957922</td>\n",
       "      <td>False</td>\n",
       "      <td>4</td>\n",
       "      <td>3130</td>\n",
       "      <td>3190</td>\n",
       "    </tr>\n",
       "    <tr>\n",
       "      <th>53900</th>\n",
       "      <td>168606</td>\n",
       "      <td>2019-11-15 00:00:00+03:00</td>\n",
       "      <td>out</td>\n",
       "      <td>True</td>\n",
       "      <td>957922</td>\n",
       "      <td>False</td>\n",
       "      <td>4</td>\n",
       "      <td>3130</td>\n",
       "      <td>3190</td>\n",
       "    </tr>\n",
       "    <tr>\n",
       "      <th>53901</th>\n",
       "      <td>168606</td>\n",
       "      <td>2019-11-19 00:00:00+03:00</td>\n",
       "      <td>in</td>\n",
       "      <td>False</td>\n",
       "      <td>NaN</td>\n",
       "      <td>True</td>\n",
       "      <td>2</td>\n",
       "      <td>0</td>\n",
       "      <td>64</td>\n",
       "    </tr>\n",
       "  </tbody>\n",
       "</table>\n",
       "<p>53902 rows × 9 columns</p>\n",
       "</div>"
      ],
      "text/plain": [
       "      user_id                      date direction  internal operator_id  \\\n",
       "0      166377 2019-08-04 00:00:00+03:00        in     False         NaN   \n",
       "1      166377 2019-08-05 00:00:00+03:00       out      True      880022   \n",
       "2      166377 2019-08-05 00:00:00+03:00       out      True      880020   \n",
       "3      166377 2019-08-05 00:00:00+03:00       out      True      880020   \n",
       "4      166377 2019-08-05 00:00:00+03:00       out     False      880022   \n",
       "...       ...                       ...       ...       ...         ...   \n",
       "53897  168606 2019-11-10 00:00:00+03:00       out      True      957922   \n",
       "53898  168606 2019-11-11 00:00:00+03:00       out      True      957922   \n",
       "53899  168606 2019-11-15 00:00:00+03:00       out      True      957922   \n",
       "53900  168606 2019-11-15 00:00:00+03:00       out      True      957922   \n",
       "53901  168606 2019-11-19 00:00:00+03:00        in     False         NaN   \n",
       "\n",
       "       is_missed_call  calls_count  call_duration  total_call_duration  \n",
       "0                True            2              0                    4  \n",
       "1                True            3              0                    5  \n",
       "2                True            1              0                    1  \n",
       "3               False            1             10                   18  \n",
       "4                True            3              0                   25  \n",
       "...               ...          ...            ...                  ...  \n",
       "53897            True            1              0                   38  \n",
       "53898           False            2            479                  501  \n",
       "53899           False            4           3130                 3190  \n",
       "53900           False            4           3130                 3190  \n",
       "53901            True            2              0                   64  \n",
       "\n",
       "[53902 rows x 9 columns]"
      ]
     },
     "metadata": {},
     "output_type": "display_data"
    },
    {
     "data": {
      "text/html": [
       "<div>\n",
       "<style scoped>\n",
       "    .dataframe tbody tr th:only-of-type {\n",
       "        vertical-align: middle;\n",
       "    }\n",
       "\n",
       "    .dataframe tbody tr th {\n",
       "        vertical-align: top;\n",
       "    }\n",
       "\n",
       "    .dataframe thead th {\n",
       "        text-align: right;\n",
       "    }\n",
       "</style>\n",
       "<table border=\"1\" class=\"dataframe\">\n",
       "  <thead>\n",
       "    <tr style=\"text-align: right;\">\n",
       "      <th></th>\n",
       "      <th>user_id</th>\n",
       "      <th>tariff_plan</th>\n",
       "      <th>date_start</th>\n",
       "    </tr>\n",
       "  </thead>\n",
       "  <tbody>\n",
       "    <tr>\n",
       "      <th>0</th>\n",
       "      <td>166713</td>\n",
       "      <td>A</td>\n",
       "      <td>2019-08-15</td>\n",
       "    </tr>\n",
       "    <tr>\n",
       "      <th>1</th>\n",
       "      <td>166901</td>\n",
       "      <td>A</td>\n",
       "      <td>2019-08-23</td>\n",
       "    </tr>\n",
       "    <tr>\n",
       "      <th>2</th>\n",
       "      <td>168527</td>\n",
       "      <td>A</td>\n",
       "      <td>2019-10-29</td>\n",
       "    </tr>\n",
       "    <tr>\n",
       "      <th>3</th>\n",
       "      <td>167097</td>\n",
       "      <td>A</td>\n",
       "      <td>2019-09-01</td>\n",
       "    </tr>\n",
       "    <tr>\n",
       "      <th>4</th>\n",
       "      <td>168193</td>\n",
       "      <td>A</td>\n",
       "      <td>2019-10-16</td>\n",
       "    </tr>\n",
       "    <tr>\n",
       "      <th>...</th>\n",
       "      <td>...</td>\n",
       "      <td>...</td>\n",
       "      <td>...</td>\n",
       "    </tr>\n",
       "    <tr>\n",
       "      <th>727</th>\n",
       "      <td>166554</td>\n",
       "      <td>B</td>\n",
       "      <td>2019-08-08</td>\n",
       "    </tr>\n",
       "    <tr>\n",
       "      <th>728</th>\n",
       "      <td>166911</td>\n",
       "      <td>B</td>\n",
       "      <td>2019-08-23</td>\n",
       "    </tr>\n",
       "    <tr>\n",
       "      <th>729</th>\n",
       "      <td>167012</td>\n",
       "      <td>B</td>\n",
       "      <td>2019-08-28</td>\n",
       "    </tr>\n",
       "    <tr>\n",
       "      <th>730</th>\n",
       "      <td>166867</td>\n",
       "      <td>B</td>\n",
       "      <td>2019-08-22</td>\n",
       "    </tr>\n",
       "    <tr>\n",
       "      <th>731</th>\n",
       "      <td>166565</td>\n",
       "      <td>B</td>\n",
       "      <td>2019-08-08</td>\n",
       "    </tr>\n",
       "  </tbody>\n",
       "</table>\n",
       "<p>732 rows × 3 columns</p>\n",
       "</div>"
      ],
      "text/plain": [
       "    user_id tariff_plan date_start\n",
       "0    166713           A 2019-08-15\n",
       "1    166901           A 2019-08-23\n",
       "2    168527           A 2019-10-29\n",
       "3    167097           A 2019-09-01\n",
       "4    168193           A 2019-10-16\n",
       "..      ...         ...        ...\n",
       "727  166554           B 2019-08-08\n",
       "728  166911           B 2019-08-23\n",
       "729  167012           B 2019-08-28\n",
       "730  166867           B 2019-08-22\n",
       "731  166565           B 2019-08-08\n",
       "\n",
       "[732 rows x 3 columns]"
      ]
     },
     "metadata": {},
     "output_type": "display_data"
    }
   ],
   "source": [
    "# Visualización de los datasets\n",
    "display(dataset, clients)"
   ]
  },
  {
   "cell_type": "markdown",
   "metadata": {},
   "source": [
    "## Preprocesamiento de datos"
   ]
  },
  {
   "cell_type": "code",
   "execution_count": 46,
   "metadata": {},
   "outputs": [],
   "source": [
    "# Función para revisión de dataset\n",
    "def revision(data):\n",
    "    '''\n",
    "    Función para automatizar la revisión de un dataset\n",
    "    Se agrega un dataframe como input\n",
    "    Da una descripción del dataset como output\n",
    "    '''\n",
    "    display(data.head())\n",
    "    print()\n",
    "    print(data.columns)\n",
    "    print()\n",
    "    print(data.info())\n",
    "    print()\n",
    "    display(data.describe(include = \"all\", percentiles = [0.90,0.95,0.99]))\n",
    "    print(\"Filas duplicadas: \",data.duplicated().sum())\n",
    "    print(data.shape)"
   ]
  },
  {
   "cell_type": "markdown",
   "metadata": {},
   "source": [
    "Documentación:\n",
    "\n",
    "Los percentiles pueden ser obtenidos en una serie o directamente de la función Describe, el cual da de antemano ciertos percentiles, pero se pueden agregar mas usando el parámetro \"percentiles\", tal como lo muestra la documentación\n",
    "\n",
    "https://pandas.pydata.org/pandas-docs/stable/reference/api/pandas.DataFrame.describe.html"
   ]
  },
  {
   "cell_type": "markdown",
   "metadata": {},
   "source": [
    "### dataset"
   ]
  },
  {
   "cell_type": "code",
   "execution_count": 5,
   "metadata": {},
   "outputs": [
    {
     "data": {
      "text/html": [
       "<div>\n",
       "<style scoped>\n",
       "    .dataframe tbody tr th:only-of-type {\n",
       "        vertical-align: middle;\n",
       "    }\n",
       "\n",
       "    .dataframe tbody tr th {\n",
       "        vertical-align: top;\n",
       "    }\n",
       "\n",
       "    .dataframe thead th {\n",
       "        text-align: right;\n",
       "    }\n",
       "</style>\n",
       "<table border=\"1\" class=\"dataframe\">\n",
       "  <thead>\n",
       "    <tr style=\"text-align: right;\">\n",
       "      <th></th>\n",
       "      <th>user_id</th>\n",
       "      <th>date</th>\n",
       "      <th>direction</th>\n",
       "      <th>internal</th>\n",
       "      <th>operator_id</th>\n",
       "      <th>is_missed_call</th>\n",
       "      <th>calls_count</th>\n",
       "      <th>call_duration</th>\n",
       "      <th>total_call_duration</th>\n",
       "    </tr>\n",
       "  </thead>\n",
       "  <tbody>\n",
       "    <tr>\n",
       "      <th>0</th>\n",
       "      <td>166377</td>\n",
       "      <td>2019-08-04 00:00:00+03:00</td>\n",
       "      <td>in</td>\n",
       "      <td>False</td>\n",
       "      <td>NaN</td>\n",
       "      <td>True</td>\n",
       "      <td>2</td>\n",
       "      <td>0</td>\n",
       "      <td>4</td>\n",
       "    </tr>\n",
       "    <tr>\n",
       "      <th>1</th>\n",
       "      <td>166377</td>\n",
       "      <td>2019-08-05 00:00:00+03:00</td>\n",
       "      <td>out</td>\n",
       "      <td>True</td>\n",
       "      <td>880022</td>\n",
       "      <td>True</td>\n",
       "      <td>3</td>\n",
       "      <td>0</td>\n",
       "      <td>5</td>\n",
       "    </tr>\n",
       "    <tr>\n",
       "      <th>2</th>\n",
       "      <td>166377</td>\n",
       "      <td>2019-08-05 00:00:00+03:00</td>\n",
       "      <td>out</td>\n",
       "      <td>True</td>\n",
       "      <td>880020</td>\n",
       "      <td>True</td>\n",
       "      <td>1</td>\n",
       "      <td>0</td>\n",
       "      <td>1</td>\n",
       "    </tr>\n",
       "    <tr>\n",
       "      <th>3</th>\n",
       "      <td>166377</td>\n",
       "      <td>2019-08-05 00:00:00+03:00</td>\n",
       "      <td>out</td>\n",
       "      <td>True</td>\n",
       "      <td>880020</td>\n",
       "      <td>False</td>\n",
       "      <td>1</td>\n",
       "      <td>10</td>\n",
       "      <td>18</td>\n",
       "    </tr>\n",
       "    <tr>\n",
       "      <th>4</th>\n",
       "      <td>166377</td>\n",
       "      <td>2019-08-05 00:00:00+03:00</td>\n",
       "      <td>out</td>\n",
       "      <td>False</td>\n",
       "      <td>880022</td>\n",
       "      <td>True</td>\n",
       "      <td>3</td>\n",
       "      <td>0</td>\n",
       "      <td>25</td>\n",
       "    </tr>\n",
       "  </tbody>\n",
       "</table>\n",
       "</div>"
      ],
      "text/plain": [
       "  user_id                      date direction  internal operator_id  \\\n",
       "0  166377 2019-08-04 00:00:00+03:00        in     False         NaN   \n",
       "1  166377 2019-08-05 00:00:00+03:00       out      True      880022   \n",
       "2  166377 2019-08-05 00:00:00+03:00       out      True      880020   \n",
       "3  166377 2019-08-05 00:00:00+03:00       out      True      880020   \n",
       "4  166377 2019-08-05 00:00:00+03:00       out     False      880022   \n",
       "\n",
       "   is_missed_call  calls_count  call_duration  total_call_duration  \n",
       "0            True            2              0                    4  \n",
       "1            True            3              0                    5  \n",
       "2            True            1              0                    1  \n",
       "3           False            1             10                   18  \n",
       "4            True            3              0                   25  "
      ]
     },
     "metadata": {},
     "output_type": "display_data"
    },
    {
     "name": "stdout",
     "output_type": "stream",
     "text": [
      "\n",
      "Index(['user_id', 'date', 'direction', 'internal', 'operator_id',\n",
      "       'is_missed_call', 'calls_count', 'call_duration',\n",
      "       'total_call_duration'],\n",
      "      dtype='object')\n",
      "\n",
      "<class 'pandas.core.frame.DataFrame'>\n",
      "RangeIndex: 53902 entries, 0 to 53901\n",
      "Data columns (total 9 columns):\n",
      " #   Column               Non-Null Count  Dtype                                \n",
      "---  ------               --------------  -----                                \n",
      " 0   user_id              53902 non-null  object                               \n",
      " 1   date                 53902 non-null  datetime64[ns, pytz.FixedOffset(180)]\n",
      " 2   direction            53902 non-null  object                               \n",
      " 3   internal             53785 non-null  boolean                              \n",
      " 4   operator_id          45730 non-null  object                               \n",
      " 5   is_missed_call       53902 non-null  bool                                 \n",
      " 6   calls_count          53902 non-null  int64                                \n",
      " 7   call_duration        53902 non-null  int64                                \n",
      " 8   total_call_duration  53902 non-null  int64                                \n",
      "dtypes: bool(1), boolean(1), datetime64[ns, pytz.FixedOffset(180)](1), int64(3), object(3)\n",
      "memory usage: 3.0+ MB\n",
      "None\n",
      "\n"
     ]
    },
    {
     "data": {
      "text/html": [
       "<div>\n",
       "<style scoped>\n",
       "    .dataframe tbody tr th:only-of-type {\n",
       "        vertical-align: middle;\n",
       "    }\n",
       "\n",
       "    .dataframe tbody tr th {\n",
       "        vertical-align: top;\n",
       "    }\n",
       "\n",
       "    .dataframe thead th {\n",
       "        text-align: right;\n",
       "    }\n",
       "</style>\n",
       "<table border=\"1\" class=\"dataframe\">\n",
       "  <thead>\n",
       "    <tr style=\"text-align: right;\">\n",
       "      <th></th>\n",
       "      <th>user_id</th>\n",
       "      <th>date</th>\n",
       "      <th>direction</th>\n",
       "      <th>internal</th>\n",
       "      <th>operator_id</th>\n",
       "      <th>is_missed_call</th>\n",
       "      <th>calls_count</th>\n",
       "      <th>call_duration</th>\n",
       "      <th>total_call_duration</th>\n",
       "    </tr>\n",
       "  </thead>\n",
       "  <tbody>\n",
       "    <tr>\n",
       "      <th>count</th>\n",
       "      <td>53902</td>\n",
       "      <td>53902</td>\n",
       "      <td>53902</td>\n",
       "      <td>53785</td>\n",
       "      <td>45730</td>\n",
       "      <td>53902</td>\n",
       "      <td>53902.000000</td>\n",
       "      <td>53902.000000</td>\n",
       "      <td>53902.000000</td>\n",
       "    </tr>\n",
       "    <tr>\n",
       "      <th>unique</th>\n",
       "      <td>307</td>\n",
       "      <td>119</td>\n",
       "      <td>2</td>\n",
       "      <td>2</td>\n",
       "      <td>1092</td>\n",
       "      <td>2</td>\n",
       "      <td>NaN</td>\n",
       "      <td>NaN</td>\n",
       "      <td>NaN</td>\n",
       "    </tr>\n",
       "    <tr>\n",
       "      <th>top</th>\n",
       "      <td>168187</td>\n",
       "      <td>2019-11-25 00:00:00+03:00</td>\n",
       "      <td>out</td>\n",
       "      <td>False</td>\n",
       "      <td>901884</td>\n",
       "      <td>False</td>\n",
       "      <td>NaN</td>\n",
       "      <td>NaN</td>\n",
       "      <td>NaN</td>\n",
       "    </tr>\n",
       "    <tr>\n",
       "      <th>freq</th>\n",
       "      <td>2580</td>\n",
       "      <td>1220</td>\n",
       "      <td>31917</td>\n",
       "      <td>47621</td>\n",
       "      <td>348</td>\n",
       "      <td>30334</td>\n",
       "      <td>NaN</td>\n",
       "      <td>NaN</td>\n",
       "      <td>NaN</td>\n",
       "    </tr>\n",
       "    <tr>\n",
       "      <th>first</th>\n",
       "      <td>NaN</td>\n",
       "      <td>2019-08-02 00:00:00+03:00</td>\n",
       "      <td>NaN</td>\n",
       "      <td>NaN</td>\n",
       "      <td>NaN</td>\n",
       "      <td>NaN</td>\n",
       "      <td>NaN</td>\n",
       "      <td>NaN</td>\n",
       "      <td>NaN</td>\n",
       "    </tr>\n",
       "    <tr>\n",
       "      <th>last</th>\n",
       "      <td>NaN</td>\n",
       "      <td>2019-11-28 00:00:00+03:00</td>\n",
       "      <td>NaN</td>\n",
       "      <td>NaN</td>\n",
       "      <td>NaN</td>\n",
       "      <td>NaN</td>\n",
       "      <td>NaN</td>\n",
       "      <td>NaN</td>\n",
       "      <td>NaN</td>\n",
       "    </tr>\n",
       "    <tr>\n",
       "      <th>mean</th>\n",
       "      <td>NaN</td>\n",
       "      <td>NaN</td>\n",
       "      <td>NaN</td>\n",
       "      <td>NaN</td>\n",
       "      <td>NaN</td>\n",
       "      <td>NaN</td>\n",
       "      <td>16.451245</td>\n",
       "      <td>866.684427</td>\n",
       "      <td>1157.133297</td>\n",
       "    </tr>\n",
       "    <tr>\n",
       "      <th>std</th>\n",
       "      <td>NaN</td>\n",
       "      <td>NaN</td>\n",
       "      <td>NaN</td>\n",
       "      <td>NaN</td>\n",
       "      <td>NaN</td>\n",
       "      <td>NaN</td>\n",
       "      <td>62.917170</td>\n",
       "      <td>3731.791202</td>\n",
       "      <td>4403.468763</td>\n",
       "    </tr>\n",
       "    <tr>\n",
       "      <th>min</th>\n",
       "      <td>NaN</td>\n",
       "      <td>NaN</td>\n",
       "      <td>NaN</td>\n",
       "      <td>NaN</td>\n",
       "      <td>NaN</td>\n",
       "      <td>NaN</td>\n",
       "      <td>1.000000</td>\n",
       "      <td>0.000000</td>\n",
       "      <td>0.000000</td>\n",
       "    </tr>\n",
       "    <tr>\n",
       "      <th>50%</th>\n",
       "      <td>NaN</td>\n",
       "      <td>NaN</td>\n",
       "      <td>NaN</td>\n",
       "      <td>NaN</td>\n",
       "      <td>NaN</td>\n",
       "      <td>NaN</td>\n",
       "      <td>4.000000</td>\n",
       "      <td>38.000000</td>\n",
       "      <td>210.000000</td>\n",
       "    </tr>\n",
       "    <tr>\n",
       "      <th>90%</th>\n",
       "      <td>NaN</td>\n",
       "      <td>NaN</td>\n",
       "      <td>NaN</td>\n",
       "      <td>NaN</td>\n",
       "      <td>NaN</td>\n",
       "      <td>NaN</td>\n",
       "      <td>35.000000</td>\n",
       "      <td>2105.000000</td>\n",
       "      <td>2626.000000</td>\n",
       "    </tr>\n",
       "    <tr>\n",
       "      <th>95%</th>\n",
       "      <td>NaN</td>\n",
       "      <td>NaN</td>\n",
       "      <td>NaN</td>\n",
       "      <td>NaN</td>\n",
       "      <td>NaN</td>\n",
       "      <td>NaN</td>\n",
       "      <td>62.000000</td>\n",
       "      <td>3739.950000</td>\n",
       "      <td>4540.000000</td>\n",
       "    </tr>\n",
       "    <tr>\n",
       "      <th>99%</th>\n",
       "      <td>NaN</td>\n",
       "      <td>NaN</td>\n",
       "      <td>NaN</td>\n",
       "      <td>NaN</td>\n",
       "      <td>NaN</td>\n",
       "      <td>NaN</td>\n",
       "      <td>166.000000</td>\n",
       "      <td>10333.900000</td>\n",
       "      <td>12955.650000</td>\n",
       "    </tr>\n",
       "    <tr>\n",
       "      <th>max</th>\n",
       "      <td>NaN</td>\n",
       "      <td>NaN</td>\n",
       "      <td>NaN</td>\n",
       "      <td>NaN</td>\n",
       "      <td>NaN</td>\n",
       "      <td>NaN</td>\n",
       "      <td>4817.000000</td>\n",
       "      <td>144395.000000</td>\n",
       "      <td>166155.000000</td>\n",
       "    </tr>\n",
       "  </tbody>\n",
       "</table>\n",
       "</div>"
      ],
      "text/plain": [
       "       user_id                       date direction internal operator_id  \\\n",
       "count    53902                      53902     53902    53785       45730   \n",
       "unique     307                        119         2        2        1092   \n",
       "top     168187  2019-11-25 00:00:00+03:00       out    False      901884   \n",
       "freq      2580                       1220     31917    47621         348   \n",
       "first      NaN  2019-08-02 00:00:00+03:00       NaN      NaN         NaN   \n",
       "last       NaN  2019-11-28 00:00:00+03:00       NaN      NaN         NaN   \n",
       "mean       NaN                        NaN       NaN      NaN         NaN   \n",
       "std        NaN                        NaN       NaN      NaN         NaN   \n",
       "min        NaN                        NaN       NaN      NaN         NaN   \n",
       "50%        NaN                        NaN       NaN      NaN         NaN   \n",
       "90%        NaN                        NaN       NaN      NaN         NaN   \n",
       "95%        NaN                        NaN       NaN      NaN         NaN   \n",
       "99%        NaN                        NaN       NaN      NaN         NaN   \n",
       "max        NaN                        NaN       NaN      NaN         NaN   \n",
       "\n",
       "       is_missed_call   calls_count  call_duration  total_call_duration  \n",
       "count           53902  53902.000000   53902.000000         53902.000000  \n",
       "unique              2           NaN            NaN                  NaN  \n",
       "top             False           NaN            NaN                  NaN  \n",
       "freq            30334           NaN            NaN                  NaN  \n",
       "first             NaN           NaN            NaN                  NaN  \n",
       "last              NaN           NaN            NaN                  NaN  \n",
       "mean              NaN     16.451245     866.684427          1157.133297  \n",
       "std               NaN     62.917170    3731.791202          4403.468763  \n",
       "min               NaN      1.000000       0.000000             0.000000  \n",
       "50%               NaN      4.000000      38.000000           210.000000  \n",
       "90%               NaN     35.000000    2105.000000          2626.000000  \n",
       "95%               NaN     62.000000    3739.950000          4540.000000  \n",
       "99%               NaN    166.000000   10333.900000         12955.650000  \n",
       "max               NaN   4817.000000  144395.000000        166155.000000  "
      ]
     },
     "metadata": {},
     "output_type": "display_data"
    },
    {
     "name": "stdout",
     "output_type": "stream",
     "text": [
      "Filas duplicadas:  4900\n",
      "(53902, 9)\n"
     ]
    }
   ],
   "source": [
    "# revisión del dataset para iniciar el preprocesamiento de datos\n",
    "revision(dataset)"
   ]
  },
  {
   "cell_type": "markdown",
   "metadata": {},
   "source": [
    "Se observa lo siguiente:\n",
    "- Los nombres de las columnas están escritos de forma correcta\n",
    "- Hay valores nulos en las columnas \"operator_id\" e \"internal\"\n",
    "- Antes de analizar el dataset, se eliminarán las filas vacías de la columna \"internal\" dado que representan menos del 1% de los datos\n",
    "- Los valores nulos de \"operator_id\" se eliminarán, representan cerca del 15% de los datos, sin embargo, dado que la intención es identificar a los operadores ineficientes, no se puede hacer un estudio en donde no se conozca que operador está aportando dicha información.\n",
    "- Se cambiarán las columnas de duración de llamdas a minutos para ser mas sencillo de interpretar\n",
    "- Al igual, existen 4900 filas duplicadas que deben de ser eliminadas."
   ]
  },
  {
   "cell_type": "markdown",
   "metadata": {},
   "source": [
    "#### Eliminación de valores nulos"
   ]
  },
  {
   "cell_type": "code",
   "execution_count": 6,
   "metadata": {},
   "outputs": [],
   "source": [
    "# Eliminacion de valores nulos para \"internal\"\n",
    "dataset = dataset.dropna(subset = [\"internal\",\"operator_id\"])"
   ]
  },
  {
   "cell_type": "markdown",
   "metadata": {},
   "source": [
    "#### Eliminación de duplicados"
   ]
  },
  {
   "cell_type": "code",
   "execution_count": 7,
   "metadata": {},
   "outputs": [],
   "source": [
    "# Eliminacipon de filas duplicadas.\n",
    "dataset = dataset.drop_duplicates()"
   ]
  },
  {
   "cell_type": "markdown",
   "metadata": {},
   "source": [
    "### Conversión de tipo de datos y creación de columnas"
   ]
  },
  {
   "cell_type": "code",
   "execution_count": 8,
   "metadata": {},
   "outputs": [],
   "source": [
    "# Cambio de segundos a minutos en las llamadas.\n",
    "\n",
    "dataset[\"call_duration\"] = dataset[\"call_duration\"]/60\n",
    "dataset[\"total_call_duration\"] = dataset[\"total_call_duration\"]/60\n",
    "\n",
    "# Creación de columna de tiempo de espera\n",
    "dataset[\"waiting_time\"] = dataset[\"total_call_duration\"] - dataset[\"call_duration\"]"
   ]
  },
  {
   "cell_type": "code",
   "execution_count": 9,
   "metadata": {},
   "outputs": [
    {
     "data": {
      "text/html": [
       "<div>\n",
       "<style scoped>\n",
       "    .dataframe tbody tr th:only-of-type {\n",
       "        vertical-align: middle;\n",
       "    }\n",
       "\n",
       "    .dataframe tbody tr th {\n",
       "        vertical-align: top;\n",
       "    }\n",
       "\n",
       "    .dataframe thead th {\n",
       "        text-align: right;\n",
       "    }\n",
       "</style>\n",
       "<table border=\"1\" class=\"dataframe\">\n",
       "  <thead>\n",
       "    <tr style=\"text-align: right;\">\n",
       "      <th></th>\n",
       "      <th>user_id</th>\n",
       "      <th>date</th>\n",
       "      <th>direction</th>\n",
       "      <th>internal</th>\n",
       "      <th>operator_id</th>\n",
       "      <th>is_missed_call</th>\n",
       "      <th>calls_count</th>\n",
       "      <th>call_duration</th>\n",
       "      <th>total_call_duration</th>\n",
       "      <th>waiting_time</th>\n",
       "    </tr>\n",
       "  </thead>\n",
       "  <tbody>\n",
       "    <tr>\n",
       "      <th>1</th>\n",
       "      <td>166377</td>\n",
       "      <td>2019-08-05 00:00:00+03:00</td>\n",
       "      <td>out</td>\n",
       "      <td>True</td>\n",
       "      <td>880022</td>\n",
       "      <td>True</td>\n",
       "      <td>3</td>\n",
       "      <td>0.000000</td>\n",
       "      <td>0.083333</td>\n",
       "      <td>0.083333</td>\n",
       "    </tr>\n",
       "    <tr>\n",
       "      <th>2</th>\n",
       "      <td>166377</td>\n",
       "      <td>2019-08-05 00:00:00+03:00</td>\n",
       "      <td>out</td>\n",
       "      <td>True</td>\n",
       "      <td>880020</td>\n",
       "      <td>True</td>\n",
       "      <td>1</td>\n",
       "      <td>0.000000</td>\n",
       "      <td>0.016667</td>\n",
       "      <td>0.016667</td>\n",
       "    </tr>\n",
       "    <tr>\n",
       "      <th>3</th>\n",
       "      <td>166377</td>\n",
       "      <td>2019-08-05 00:00:00+03:00</td>\n",
       "      <td>out</td>\n",
       "      <td>True</td>\n",
       "      <td>880020</td>\n",
       "      <td>False</td>\n",
       "      <td>1</td>\n",
       "      <td>0.166667</td>\n",
       "      <td>0.300000</td>\n",
       "      <td>0.133333</td>\n",
       "    </tr>\n",
       "    <tr>\n",
       "      <th>4</th>\n",
       "      <td>166377</td>\n",
       "      <td>2019-08-05 00:00:00+03:00</td>\n",
       "      <td>out</td>\n",
       "      <td>False</td>\n",
       "      <td>880022</td>\n",
       "      <td>True</td>\n",
       "      <td>3</td>\n",
       "      <td>0.000000</td>\n",
       "      <td>0.416667</td>\n",
       "      <td>0.416667</td>\n",
       "    </tr>\n",
       "    <tr>\n",
       "      <th>5</th>\n",
       "      <td>166377</td>\n",
       "      <td>2019-08-05 00:00:00+03:00</td>\n",
       "      <td>out</td>\n",
       "      <td>False</td>\n",
       "      <td>880020</td>\n",
       "      <td>False</td>\n",
       "      <td>2</td>\n",
       "      <td>0.050000</td>\n",
       "      <td>0.483333</td>\n",
       "      <td>0.433333</td>\n",
       "    </tr>\n",
       "  </tbody>\n",
       "</table>\n",
       "</div>"
      ],
      "text/plain": [
       "  user_id                      date direction  internal operator_id  \\\n",
       "1  166377 2019-08-05 00:00:00+03:00       out      True      880022   \n",
       "2  166377 2019-08-05 00:00:00+03:00       out      True      880020   \n",
       "3  166377 2019-08-05 00:00:00+03:00       out      True      880020   \n",
       "4  166377 2019-08-05 00:00:00+03:00       out     False      880022   \n",
       "5  166377 2019-08-05 00:00:00+03:00       out     False      880020   \n",
       "\n",
       "   is_missed_call  calls_count  call_duration  total_call_duration  \\\n",
       "1            True            3       0.000000             0.083333   \n",
       "2            True            1       0.000000             0.016667   \n",
       "3           False            1       0.166667             0.300000   \n",
       "4            True            3       0.000000             0.416667   \n",
       "5           False            2       0.050000             0.483333   \n",
       "\n",
       "   waiting_time  \n",
       "1      0.083333  \n",
       "2      0.016667  \n",
       "3      0.133333  \n",
       "4      0.416667  \n",
       "5      0.433333  "
      ]
     },
     "metadata": {},
     "output_type": "display_data"
    },
    {
     "name": "stdout",
     "output_type": "stream",
     "text": [
      "\n",
      "Index(['user_id', 'date', 'direction', 'internal', 'operator_id',\n",
      "       'is_missed_call', 'calls_count', 'call_duration', 'total_call_duration',\n",
      "       'waiting_time'],\n",
      "      dtype='object')\n",
      "\n",
      "<class 'pandas.core.frame.DataFrame'>\n",
      "Int64Index: 41491 entries, 1 to 53899\n",
      "Data columns (total 10 columns):\n",
      " #   Column               Non-Null Count  Dtype                                \n",
      "---  ------               --------------  -----                                \n",
      " 0   user_id              41491 non-null  object                               \n",
      " 1   date                 41491 non-null  datetime64[ns, pytz.FixedOffset(180)]\n",
      " 2   direction            41491 non-null  object                               \n",
      " 3   internal             41491 non-null  boolean                              \n",
      " 4   operator_id          41491 non-null  object                               \n",
      " 5   is_missed_call       41491 non-null  bool                                 \n",
      " 6   calls_count          41491 non-null  int64                                \n",
      " 7   call_duration        41491 non-null  float64                              \n",
      " 8   total_call_duration  41491 non-null  float64                              \n",
      " 9   waiting_time         41491 non-null  float64                              \n",
      "dtypes: bool(1), boolean(1), datetime64[ns, pytz.FixedOffset(180)](1), float64(3), int64(1), object(3)\n",
      "memory usage: 3.0+ MB\n",
      "None\n",
      "\n"
     ]
    },
    {
     "data": {
      "text/html": [
       "<div>\n",
       "<style scoped>\n",
       "    .dataframe tbody tr th:only-of-type {\n",
       "        vertical-align: middle;\n",
       "    }\n",
       "\n",
       "    .dataframe tbody tr th {\n",
       "        vertical-align: top;\n",
       "    }\n",
       "\n",
       "    .dataframe thead th {\n",
       "        text-align: right;\n",
       "    }\n",
       "</style>\n",
       "<table border=\"1\" class=\"dataframe\">\n",
       "  <thead>\n",
       "    <tr style=\"text-align: right;\">\n",
       "      <th></th>\n",
       "      <th>user_id</th>\n",
       "      <th>date</th>\n",
       "      <th>direction</th>\n",
       "      <th>internal</th>\n",
       "      <th>operator_id</th>\n",
       "      <th>is_missed_call</th>\n",
       "      <th>calls_count</th>\n",
       "      <th>call_duration</th>\n",
       "      <th>total_call_duration</th>\n",
       "      <th>waiting_time</th>\n",
       "    </tr>\n",
       "  </thead>\n",
       "  <tbody>\n",
       "    <tr>\n",
       "      <th>count</th>\n",
       "      <td>41491</td>\n",
       "      <td>41491</td>\n",
       "      <td>41491</td>\n",
       "      <td>41491</td>\n",
       "      <td>41491</td>\n",
       "      <td>41491</td>\n",
       "      <td>41491.000000</td>\n",
       "      <td>41491.000000</td>\n",
       "      <td>41491.000000</td>\n",
       "      <td>41491.000000</td>\n",
       "    </tr>\n",
       "    <tr>\n",
       "      <th>unique</th>\n",
       "      <td>290</td>\n",
       "      <td>118</td>\n",
       "      <td>2</td>\n",
       "      <td>2</td>\n",
       "      <td>1092</td>\n",
       "      <td>2</td>\n",
       "      <td>NaN</td>\n",
       "      <td>NaN</td>\n",
       "      <td>NaN</td>\n",
       "      <td>NaN</td>\n",
       "    </tr>\n",
       "    <tr>\n",
       "      <th>top</th>\n",
       "      <td>168187</td>\n",
       "      <td>2019-11-25 00:00:00+03:00</td>\n",
       "      <td>out</td>\n",
       "      <td>False</td>\n",
       "      <td>901884</td>\n",
       "      <td>False</td>\n",
       "      <td>NaN</td>\n",
       "      <td>NaN</td>\n",
       "      <td>NaN</td>\n",
       "      <td>NaN</td>\n",
       "    </tr>\n",
       "    <tr>\n",
       "      <th>freq</th>\n",
       "      <td>2267</td>\n",
       "      <td>987</td>\n",
       "      <td>28813</td>\n",
       "      <td>36161</td>\n",
       "      <td>323</td>\n",
       "      <td>27382</td>\n",
       "      <td>NaN</td>\n",
       "      <td>NaN</td>\n",
       "      <td>NaN</td>\n",
       "      <td>NaN</td>\n",
       "    </tr>\n",
       "    <tr>\n",
       "      <th>first</th>\n",
       "      <td>NaN</td>\n",
       "      <td>2019-08-02 00:00:00+03:00</td>\n",
       "      <td>NaN</td>\n",
       "      <td>NaN</td>\n",
       "      <td>NaN</td>\n",
       "      <td>NaN</td>\n",
       "      <td>NaN</td>\n",
       "      <td>NaN</td>\n",
       "      <td>NaN</td>\n",
       "      <td>NaN</td>\n",
       "    </tr>\n",
       "    <tr>\n",
       "      <th>last</th>\n",
       "      <td>NaN</td>\n",
       "      <td>2019-11-28 00:00:00+03:00</td>\n",
       "      <td>NaN</td>\n",
       "      <td>NaN</td>\n",
       "      <td>NaN</td>\n",
       "      <td>NaN</td>\n",
       "      <td>NaN</td>\n",
       "      <td>NaN</td>\n",
       "      <td>NaN</td>\n",
       "      <td>NaN</td>\n",
       "    </tr>\n",
       "    <tr>\n",
       "      <th>mean</th>\n",
       "      <td>NaN</td>\n",
       "      <td>NaN</td>\n",
       "      <td>NaN</td>\n",
       "      <td>NaN</td>\n",
       "      <td>NaN</td>\n",
       "      <td>NaN</td>\n",
       "      <td>16.921381</td>\n",
       "      <td>16.849000</td>\n",
       "      <td>22.052554</td>\n",
       "      <td>5.203554</td>\n",
       "    </tr>\n",
       "    <tr>\n",
       "      <th>std</th>\n",
       "      <td>NaN</td>\n",
       "      <td>NaN</td>\n",
       "      <td>NaN</td>\n",
       "      <td>NaN</td>\n",
       "      <td>NaN</td>\n",
       "      <td>NaN</td>\n",
       "      <td>59.786187</td>\n",
       "      <td>67.777775</td>\n",
       "      <td>79.815886</td>\n",
       "      <td>19.601716</td>\n",
       "    </tr>\n",
       "    <tr>\n",
       "      <th>min</th>\n",
       "      <td>NaN</td>\n",
       "      <td>NaN</td>\n",
       "      <td>NaN</td>\n",
       "      <td>NaN</td>\n",
       "      <td>NaN</td>\n",
       "      <td>NaN</td>\n",
       "      <td>1.000000</td>\n",
       "      <td>0.000000</td>\n",
       "      <td>0.000000</td>\n",
       "      <td>0.000000</td>\n",
       "    </tr>\n",
       "    <tr>\n",
       "      <th>50%</th>\n",
       "      <td>NaN</td>\n",
       "      <td>NaN</td>\n",
       "      <td>NaN</td>\n",
       "      <td>NaN</td>\n",
       "      <td>NaN</td>\n",
       "      <td>NaN</td>\n",
       "      <td>4.000000</td>\n",
       "      <td>1.766667</td>\n",
       "      <td>4.816667</td>\n",
       "      <td>1.000000</td>\n",
       "    </tr>\n",
       "    <tr>\n",
       "      <th>90%</th>\n",
       "      <td>NaN</td>\n",
       "      <td>NaN</td>\n",
       "      <td>NaN</td>\n",
       "      <td>NaN</td>\n",
       "      <td>NaN</td>\n",
       "      <td>NaN</td>\n",
       "      <td>37.000000</td>\n",
       "      <td>40.116667</td>\n",
       "      <td>48.916667</td>\n",
       "      <td>10.983333</td>\n",
       "    </tr>\n",
       "    <tr>\n",
       "      <th>95%</th>\n",
       "      <td>NaN</td>\n",
       "      <td>NaN</td>\n",
       "      <td>NaN</td>\n",
       "      <td>NaN</td>\n",
       "      <td>NaN</td>\n",
       "      <td>NaN</td>\n",
       "      <td>65.000000</td>\n",
       "      <td>69.358333</td>\n",
       "      <td>83.925000</td>\n",
       "      <td>20.575000</td>\n",
       "    </tr>\n",
       "    <tr>\n",
       "      <th>99%</th>\n",
       "      <td>NaN</td>\n",
       "      <td>NaN</td>\n",
       "      <td>NaN</td>\n",
       "      <td>NaN</td>\n",
       "      <td>NaN</td>\n",
       "      <td>NaN</td>\n",
       "      <td>165.100000</td>\n",
       "      <td>183.138333</td>\n",
       "      <td>227.568333</td>\n",
       "      <td>58.256667</td>\n",
       "    </tr>\n",
       "    <tr>\n",
       "      <th>max</th>\n",
       "      <td>NaN</td>\n",
       "      <td>NaN</td>\n",
       "      <td>NaN</td>\n",
       "      <td>NaN</td>\n",
       "      <td>NaN</td>\n",
       "      <td>NaN</td>\n",
       "      <td>4817.000000</td>\n",
       "      <td>2406.583333</td>\n",
       "      <td>2769.250000</td>\n",
       "      <td>774.566667</td>\n",
       "    </tr>\n",
       "  </tbody>\n",
       "</table>\n",
       "</div>"
      ],
      "text/plain": [
       "       user_id                       date direction internal operator_id  \\\n",
       "count    41491                      41491     41491    41491       41491   \n",
       "unique     290                        118         2        2        1092   \n",
       "top     168187  2019-11-25 00:00:00+03:00       out    False      901884   \n",
       "freq      2267                        987     28813    36161         323   \n",
       "first      NaN  2019-08-02 00:00:00+03:00       NaN      NaN         NaN   \n",
       "last       NaN  2019-11-28 00:00:00+03:00       NaN      NaN         NaN   \n",
       "mean       NaN                        NaN       NaN      NaN         NaN   \n",
       "std        NaN                        NaN       NaN      NaN         NaN   \n",
       "min        NaN                        NaN       NaN      NaN         NaN   \n",
       "50%        NaN                        NaN       NaN      NaN         NaN   \n",
       "90%        NaN                        NaN       NaN      NaN         NaN   \n",
       "95%        NaN                        NaN       NaN      NaN         NaN   \n",
       "99%        NaN                        NaN       NaN      NaN         NaN   \n",
       "max        NaN                        NaN       NaN      NaN         NaN   \n",
       "\n",
       "       is_missed_call   calls_count  call_duration  total_call_duration  \\\n",
       "count           41491  41491.000000   41491.000000         41491.000000   \n",
       "unique              2           NaN            NaN                  NaN   \n",
       "top             False           NaN            NaN                  NaN   \n",
       "freq            27382           NaN            NaN                  NaN   \n",
       "first             NaN           NaN            NaN                  NaN   \n",
       "last              NaN           NaN            NaN                  NaN   \n",
       "mean              NaN     16.921381      16.849000            22.052554   \n",
       "std               NaN     59.786187      67.777775            79.815886   \n",
       "min               NaN      1.000000       0.000000             0.000000   \n",
       "50%               NaN      4.000000       1.766667             4.816667   \n",
       "90%               NaN     37.000000      40.116667            48.916667   \n",
       "95%               NaN     65.000000      69.358333            83.925000   \n",
       "99%               NaN    165.100000     183.138333           227.568333   \n",
       "max               NaN   4817.000000    2406.583333          2769.250000   \n",
       "\n",
       "        waiting_time  \n",
       "count   41491.000000  \n",
       "unique           NaN  \n",
       "top              NaN  \n",
       "freq             NaN  \n",
       "first            NaN  \n",
       "last             NaN  \n",
       "mean        5.203554  \n",
       "std        19.601716  \n",
       "min         0.000000  \n",
       "50%         1.000000  \n",
       "90%        10.983333  \n",
       "95%        20.575000  \n",
       "99%        58.256667  \n",
       "max       774.566667  "
      ]
     },
     "metadata": {},
     "output_type": "display_data"
    },
    {
     "name": "stdout",
     "output_type": "stream",
     "text": [
      "Filas duplicadas:  0\n",
      "(41491, 10)\n"
     ]
    }
   ],
   "source": [
    "# revisión del dataset para iniciar el preprocesamiento de datos\n",
    "revision(dataset)"
   ]
  },
  {
   "cell_type": "markdown",
   "metadata": {},
   "source": [
    "Descripción de los datos:\n",
    "- user_id:\n",
    "    - Los 41,491 eventos provienen de 307 usuarios.\n",
    "    - El usuario 168187 realizó el mayor número de llamadas, con 2,267 eventos.\n",
    "- date:\n",
    "    - El día con mayor número de eventos fue el 2019-11-25\n",
    "- direction:\n",
    "    - Llamadas de tipo \"out\" tienen la mayor cantidad de eventos, con mas del 50%\n",
    "- internal\n",
    "    - Cerca del 90% de las llamadas son de tipo externas.\n",
    "- operator_id:\n",
    "    - Hay 1092 operadores distintos.\n",
    "    - El operador 901884 tiene la mayor cantidad de eventos registrados, con un total de 323 eventos.\n",
    "- is_missed_call:\n",
    "    - Cerca del 65% de las llamadas fueron respondidas.\n",
    "- calls_count:\n",
    "    - El promedio de llamadas por usuario es de 16, sin embargo el 50% de los datos tiene menos de 5 llamadas y hay una gran desviación estandar, por lo que existen valores atípicos.\n",
    "- call_duration:\n",
    "    - Se tiene un promedio de 16 min por llamada, pero con una desviación estandar muy alta, por lo que hay valores atípicos.\n",
    "- total_call_duration:\n",
    "    - Se tiene un promedio de 22 min de llamada con una muy grande desviación estandar, por lo que hay valores atípicos.\n",
    "- waiting_time:\n",
    "    - Se tiene un promedio de 5 min de tiempo de espera, con una alta desviación estandar."
   ]
  },
  {
   "cell_type": "markdown",
   "metadata": {},
   "source": [
    "### clients"
   ]
  },
  {
   "cell_type": "code",
   "execution_count": 10,
   "metadata": {},
   "outputs": [
    {
     "data": {
      "text/html": [
       "<div>\n",
       "<style scoped>\n",
       "    .dataframe tbody tr th:only-of-type {\n",
       "        vertical-align: middle;\n",
       "    }\n",
       "\n",
       "    .dataframe tbody tr th {\n",
       "        vertical-align: top;\n",
       "    }\n",
       "\n",
       "    .dataframe thead th {\n",
       "        text-align: right;\n",
       "    }\n",
       "</style>\n",
       "<table border=\"1\" class=\"dataframe\">\n",
       "  <thead>\n",
       "    <tr style=\"text-align: right;\">\n",
       "      <th></th>\n",
       "      <th>user_id</th>\n",
       "      <th>tariff_plan</th>\n",
       "      <th>date_start</th>\n",
       "    </tr>\n",
       "  </thead>\n",
       "  <tbody>\n",
       "    <tr>\n",
       "      <th>0</th>\n",
       "      <td>166713</td>\n",
       "      <td>A</td>\n",
       "      <td>2019-08-15</td>\n",
       "    </tr>\n",
       "    <tr>\n",
       "      <th>1</th>\n",
       "      <td>166901</td>\n",
       "      <td>A</td>\n",
       "      <td>2019-08-23</td>\n",
       "    </tr>\n",
       "    <tr>\n",
       "      <th>2</th>\n",
       "      <td>168527</td>\n",
       "      <td>A</td>\n",
       "      <td>2019-10-29</td>\n",
       "    </tr>\n",
       "    <tr>\n",
       "      <th>3</th>\n",
       "      <td>167097</td>\n",
       "      <td>A</td>\n",
       "      <td>2019-09-01</td>\n",
       "    </tr>\n",
       "    <tr>\n",
       "      <th>4</th>\n",
       "      <td>168193</td>\n",
       "      <td>A</td>\n",
       "      <td>2019-10-16</td>\n",
       "    </tr>\n",
       "  </tbody>\n",
       "</table>\n",
       "</div>"
      ],
      "text/plain": [
       "  user_id tariff_plan date_start\n",
       "0  166713           A 2019-08-15\n",
       "1  166901           A 2019-08-23\n",
       "2  168527           A 2019-10-29\n",
       "3  167097           A 2019-09-01\n",
       "4  168193           A 2019-10-16"
      ]
     },
     "metadata": {},
     "output_type": "display_data"
    },
    {
     "name": "stdout",
     "output_type": "stream",
     "text": [
      "\n",
      "Index(['user_id', 'tariff_plan', 'date_start'], dtype='object')\n",
      "\n",
      "<class 'pandas.core.frame.DataFrame'>\n",
      "RangeIndex: 732 entries, 0 to 731\n",
      "Data columns (total 3 columns):\n",
      " #   Column       Non-Null Count  Dtype         \n",
      "---  ------       --------------  -----         \n",
      " 0   user_id      732 non-null    object        \n",
      " 1   tariff_plan  732 non-null    object        \n",
      " 2   date_start   732 non-null    datetime64[ns]\n",
      "dtypes: datetime64[ns](1), object(2)\n",
      "memory usage: 17.3+ KB\n",
      "None\n",
      "\n"
     ]
    },
    {
     "data": {
      "text/html": [
       "<div>\n",
       "<style scoped>\n",
       "    .dataframe tbody tr th:only-of-type {\n",
       "        vertical-align: middle;\n",
       "    }\n",
       "\n",
       "    .dataframe tbody tr th {\n",
       "        vertical-align: top;\n",
       "    }\n",
       "\n",
       "    .dataframe thead th {\n",
       "        text-align: right;\n",
       "    }\n",
       "</style>\n",
       "<table border=\"1\" class=\"dataframe\">\n",
       "  <thead>\n",
       "    <tr style=\"text-align: right;\">\n",
       "      <th></th>\n",
       "      <th>user_id</th>\n",
       "      <th>tariff_plan</th>\n",
       "      <th>date_start</th>\n",
       "    </tr>\n",
       "  </thead>\n",
       "  <tbody>\n",
       "    <tr>\n",
       "      <th>count</th>\n",
       "      <td>732</td>\n",
       "      <td>732</td>\n",
       "      <td>732</td>\n",
       "    </tr>\n",
       "    <tr>\n",
       "      <th>unique</th>\n",
       "      <td>732</td>\n",
       "      <td>3</td>\n",
       "      <td>73</td>\n",
       "    </tr>\n",
       "    <tr>\n",
       "      <th>top</th>\n",
       "      <td>167645</td>\n",
       "      <td>C</td>\n",
       "      <td>2019-09-24 00:00:00</td>\n",
       "    </tr>\n",
       "    <tr>\n",
       "      <th>freq</th>\n",
       "      <td>1</td>\n",
       "      <td>395</td>\n",
       "      <td>24</td>\n",
       "    </tr>\n",
       "    <tr>\n",
       "      <th>first</th>\n",
       "      <td>NaN</td>\n",
       "      <td>NaN</td>\n",
       "      <td>2019-08-01 00:00:00</td>\n",
       "    </tr>\n",
       "    <tr>\n",
       "      <th>last</th>\n",
       "      <td>NaN</td>\n",
       "      <td>NaN</td>\n",
       "      <td>2019-10-31 00:00:00</td>\n",
       "    </tr>\n",
       "  </tbody>\n",
       "</table>\n",
       "</div>"
      ],
      "text/plain": [
       "       user_id tariff_plan           date_start\n",
       "count      732         732                  732\n",
       "unique     732           3                   73\n",
       "top     167645           C  2019-09-24 00:00:00\n",
       "freq         1         395                   24\n",
       "first      NaN         NaN  2019-08-01 00:00:00\n",
       "last       NaN         NaN  2019-10-31 00:00:00"
      ]
     },
     "metadata": {},
     "output_type": "display_data"
    },
    {
     "name": "stdout",
     "output_type": "stream",
     "text": [
      "Filas duplicadas:  0\n",
      "(732, 3)\n"
     ]
    }
   ],
   "source": [
    "# revisión del dataframe para iniciar el preprocesamiento de datos\n",
    "revision(clients)"
   ]
  },
  {
   "cell_type": "markdown",
   "metadata": {},
   "source": [
    "Se observa lo siguiente:\n",
    "- Los nombres de las columnas están escritos correctamente\n",
    "- No hay valores nulos en los registros.\n",
    "- El plan C tiene la mayor cantidad de usuarios.\n",
    "- La fecha 2019-09-24 es el día con mayor registro de usuarios."
   ]
  },
  {
   "cell_type": "code",
   "execution_count": 11,
   "metadata": {},
   "outputs": [
    {
     "data": {
      "image/png": "[encoded data removed]",
      "text/plain": [
       "<Figure size 640x480 with 1 Axes>"
      ]
     },
     "metadata": {},
     "output_type": "display_data"
    }
   ],
   "source": [
    "# Distribución de registros por tiempo\n",
    "\n",
    "sns.histplot(clients[\"date_start\"], bins = 20)\n",
    "plt.xticks(rotation=90)\n",
    "plt.show()"
   ]
  },
  {
   "cell_type": "markdown",
   "metadata": {},
   "source": [
    "## Análisis exploratorio de datos"
   ]
  },
  {
   "cell_type": "markdown",
   "metadata": {},
   "source": [
    "### Unificacion de DFs"
   ]
  },
  {
   "cell_type": "code",
   "execution_count": 12,
   "metadata": {},
   "outputs": [],
   "source": [
    "# Unión de datframes con merge.\n",
    "merge_data = dataset.merge(clients, how = \"inner\", on = \"user_id\")"
   ]
  },
  {
   "cell_type": "markdown",
   "metadata": {},
   "source": [
    "### Visualización de datos"
   ]
  },
  {
   "cell_type": "code",
   "execution_count": 48,
   "metadata": {},
   "outputs": [
    {
     "data": {
      "image/png": "[encoded data removed]",
      "text/plain": [
       "<Figure size 900x300 with 3 Axes>"
      ]
     },
     "metadata": {},
     "output_type": "display_data"
    },
    {
     "data": {
      "image/png": "[encoded data removed]",
      "text/plain": [
       "<Figure size 900x300 with 3 Axes>"
      ]
     },
     "metadata": {},
     "output_type": "display_data"
    },
    {
     "data": {
      "image/png": "[encoded data removed]",
      "text/plain": [
       "<Figure size 900x300 with 3 Axes>"
      ]
     },
     "metadata": {},
     "output_type": "display_data"
    },
    {
     "name": "stderr",
     "output_type": "stream",
     "text": [
      "<__array_function__ internals>:5: RuntimeWarning: Converting input from bool to <class 'numpy.uint8'> for compatibility.\n",
      "<__array_function__ internals>:5: RuntimeWarning: Converting input from bool to <class 'numpy.uint8'> for compatibility.\n",
      "<__array_function__ internals>:5: RuntimeWarning: Converting input from bool to <class 'numpy.uint8'> for compatibility.\n",
      "<__array_function__ internals>:5: RuntimeWarning: Converting input from bool to <class 'numpy.uint8'> for compatibility.\n",
      "<__array_function__ internals>:5: RuntimeWarning: Converting input from bool to <class 'numpy.uint8'> for compatibility.\n",
      "<__array_function__ internals>:5: RuntimeWarning: Converting input from bool to <class 'numpy.uint8'> for compatibility.\n"
     ]
    },
    {
     "data": {
      "image/png": "[encoded data removed]",
      "text/plain": [
       "<Figure size 900x300 with 3 Axes>"
      ]
     },
     "metadata": {},
     "output_type": "display_data"
    },
    {
     "data": {
      "image/png": "[encoded data removed]",
      "text/plain": [
       "<Figure size 900x300 with 3 Axes>"
      ]
     },
     "metadata": {},
     "output_type": "display_data"
    },
    {
     "data": {
      "image/png": "[encoded data removed]",
      "text/plain": [
       "<Figure size 900x300 with 3 Axes>"
      ]
     },
     "metadata": {},
     "output_type": "display_data"
    },
    {
     "data": {
      "image/png": "[encoded data removed]",
      "text/plain": [
       "<Figure size 900x300 with 3 Axes>"
      ]
     },
     "metadata": {},
     "output_type": "display_data"
    },
    {
     "data": {
      "image/png": "[encoded data removed]",
      "text/plain": [
       "<Figure size 900x300 with 3 Axes>"
      ]
     },
     "metadata": {},
     "output_type": "display_data"
    }
   ],
   "source": [
    "# Distribución de datos por tipo de plan\n",
    "\n",
    "list = [\"date\", \"direction\", \"internal\", \"is_missed_call\", \"calls_count\", \"call_duration\", \"total_call_duration\", \"waiting_time\"]\n",
    "for feature in list:\n",
    "    g = sns.FacetGrid(merge_data, col = \"tariff_plan\")\n",
    "    g.map(sns.histplot, feature, bins=20)\n",
    "    plt.show()"
   ]
  },
  {
   "cell_type": "markdown",
   "metadata": {},
   "source": [
    "Documentación:\n",
    "\n",
    "En este caso se está usando una visualización gráfica de histogramas por cada una de las características, en un mapa de gráficos, usanado sns.FacetGrid y colocando en el parámetro \"col\" la categoría de interés para dividir los datos.\n",
    "Esto se usó de acuerdo a la documentación:\n",
    "https://seaborn.pydata.org/generated/seaborn.FacetGrid.html"
   ]
  },
  {
   "cell_type": "markdown",
   "metadata": {},
   "source": [
    "#### Distribución de llamadas perdidas"
   ]
  },
  {
   "cell_type": "code",
   "execution_count": 14,
   "metadata": {},
   "outputs": [
    {
     "data": {
      "image/png": "[encoded data removed]",
      "text/plain": [
       "<Figure size 640x480 with 1 Axes>"
      ]
     },
     "metadata": {},
     "output_type": "display_data"
    }
   ],
   "source": [
    "# Separación de llamadas por llamadas perdidas\n",
    "\n",
    "n_missed_calls = merge_data.groupby(\"is_missed_call\").size().reset_index(name = \"n_calls\")\n",
    "n_missed_calls.plot(x = \"is_missed_call\", kind='bar')\n",
    "plt.title('Distribución de llamadas perdidaspor operadores')\n",
    "plt.xlabel('Es una llamada perdida')\n",
    "plt.ylabel('Cantidad de llamadas')\n",
    "plt.show()"
   ]
  },
  {
   "cell_type": "markdown",
   "metadata": {},
   "source": [
    "Se observa que hay una gran cantidad de llamadas respondidas, sin embargo, las llamadas perdidas también representan una cantidad considerable de datos."
   ]
  },
  {
   "cell_type": "markdown",
   "metadata": {},
   "source": [
    "Documentación: \n",
    "\n",
    "Cuando se usa la función .size() para obtener el tamaño de cada agrupación, se obtiene una nueva columna con nombre \"0\", esta puede sustituirse directamente desde reset_index() usando el parámetro name()\n",
    "\n",
    "https://pandas.pydata.org/docs/reference/api/pandas.DataFrame.reset_index.html"
   ]
  },
  {
   "cell_type": "markdown",
   "metadata": {},
   "source": [
    "#### Distribución de tiempos de espera"
   ]
  },
  {
   "cell_type": "code",
   "execution_count": 15,
   "metadata": {},
   "outputs": [
    {
     "data": {
      "image/png": "[encoded data removed]",
      "text/plain": [
       "<Figure size 640x480 with 1 Axes>"
      ]
     },
     "metadata": {},
     "output_type": "display_data"
    }
   ],
   "source": [
    "# Histograma para observar el comportamiento de los tiempos de espera\n",
    "\n",
    "sns.histplot(data = merge_data[\"waiting_time\"], kde = True, bins = 30)\n",
    "plt.title('Distribución de tiempos de espera por llamada')\n",
    "plt.xlabel('Tiempo de espera (min)')\n",
    "plt.ylabel('Cantidad de llamadas')\n",
    "plt.show()"
   ]
  },
  {
   "cell_type": "code",
   "execution_count": 16,
   "metadata": {},
   "outputs": [
    {
     "name": "stdout",
     "output_type": "stream",
     "text": [
      "El tiempo promedio de espera es de 5.20 minutos\n",
      "El tiempo medio de espera es de 1.00 minutos\n",
      "El 90% de los tiempos de espera se encuentra por debajo de 10.98 minutos\n"
     ]
    }
   ],
   "source": [
    "# Tiempo medio y promedio\n",
    "mean = merge_data[\"waiting_time\"].mean()\n",
    "median = merge_data[\"waiting_time\"].median()\n",
    "print(f\"El tiempo promedio de espera es de {mean:.2f} minutos\")\n",
    "print(f\"El tiempo medio de espera es de {median:.2f} minutos\")\n",
    "# Obtención de percentil 90\n",
    "p_90 = np.percentile(merge_data[\"waiting_time\"], 90)\n",
    "print(f\"El 90% de los tiempos de espera se encuentra por debajo de {p_90:.2f} minutos\")\n"
   ]
  },
  {
   "cell_type": "markdown",
   "metadata": {},
   "source": [
    "Tanto visual como numéricamente (al ser tan diferentes la media y mediana) se oserva que hay valores atípicos."
   ]
  },
  {
   "cell_type": "code",
   "execution_count": 17,
   "metadata": {},
   "outputs": [
    {
     "data": {
      "image/png": "[encoded data removed]",
      "text/plain": [
       "<Figure size 640x480 with 1 Axes>"
      ]
     },
     "metadata": {},
     "output_type": "display_data"
    }
   ],
   "source": [
    "# Histograma para observar el comportamiento de los tiempos de espera menor al percentil 90\n",
    ",\n",
    "sns.histplot(data = merge_data[merge_data[\"waiting_time\"] < p_90][\"waiting_time\"], kde = True, bins = 30)\n",
    "plt.title('Distribución de tiempos de espera por llamada')\n",
    "plt.xlabel('Tiempo de espera (min)')\n",
    "plt.ylabel('Cantidad de llamadas')\n",
    "plt.show()"
   ]
  },
  {
   "cell_type": "markdown",
   "metadata": {},
   "source": [
    "#### Distribución de llamadas salientes"
   ]
  },
  {
   "cell_type": "code",
   "execution_count": 18,
   "metadata": {},
   "outputs": [
    {
     "data": {
      "image/png": "[encoded data removed]",
      "text/plain": [
       "<Figure size 640x480 with 1 Axes>"
      ]
     },
     "metadata": {},
     "output_type": "display_data"
    }
   ],
   "source": [
    "merge_data['direction'].value_counts().sort_values(ascending=True).plot(kind='bar')\n",
    "plt.title('Distribución de llamadas salientes/entrantes')\n",
    "plt.xlabel('Saliente (out) o entrante (in)')\n",
    "plt.ylabel('Cantidad de llamadas')\n",
    "plt.show()"
   ]
  },
  {
   "cell_type": "markdown",
   "metadata": {},
   "source": [
    "La gran  mayoría de las llamadas son entrantes, cerca del 30% de las llamadas son entrantes"
   ]
  },
  {
   "cell_type": "markdown",
   "metadata": {},
   "source": [
    "### Correlación de variables"
   ]
  },
  {
   "cell_type": "code",
   "execution_count": 19,
   "metadata": {},
   "outputs": [
    {
     "data": {
      "text/html": [
       "<div>\n",
       "<style scoped>\n",
       "    .dataframe tbody tr th:only-of-type {\n",
       "        vertical-align: middle;\n",
       "    }\n",
       "\n",
       "    .dataframe tbody tr th {\n",
       "        vertical-align: top;\n",
       "    }\n",
       "\n",
       "    .dataframe thead th {\n",
       "        text-align: right;\n",
       "    }\n",
       "</style>\n",
       "<table border=\"1\" class=\"dataframe\">\n",
       "  <thead>\n",
       "    <tr style=\"text-align: right;\">\n",
       "      <th></th>\n",
       "      <th>user_id</th>\n",
       "      <th>date</th>\n",
       "      <th>direction</th>\n",
       "      <th>internal</th>\n",
       "      <th>operator_id</th>\n",
       "      <th>is_missed_call</th>\n",
       "      <th>calls_count</th>\n",
       "      <th>call_duration</th>\n",
       "      <th>total_call_duration</th>\n",
       "      <th>waiting_time</th>\n",
       "      <th>tariff_plan</th>\n",
       "      <th>date_start</th>\n",
       "      <th>is_missed_call_numerical</th>\n",
       "      <th>direction_numerical</th>\n",
       "    </tr>\n",
       "  </thead>\n",
       "  <tbody>\n",
       "    <tr>\n",
       "      <th>0</th>\n",
       "      <td>166377</td>\n",
       "      <td>2019-08-05 00:00:00+03:00</td>\n",
       "      <td>out</td>\n",
       "      <td>True</td>\n",
       "      <td>880022</td>\n",
       "      <td>True</td>\n",
       "      <td>3</td>\n",
       "      <td>0.000000</td>\n",
       "      <td>0.083333</td>\n",
       "      <td>0.083333</td>\n",
       "      <td>B</td>\n",
       "      <td>2019-08-01</td>\n",
       "      <td>1</td>\n",
       "      <td>0</td>\n",
       "    </tr>\n",
       "    <tr>\n",
       "      <th>1</th>\n",
       "      <td>166377</td>\n",
       "      <td>2019-08-05 00:00:00+03:00</td>\n",
       "      <td>out</td>\n",
       "      <td>True</td>\n",
       "      <td>880020</td>\n",
       "      <td>True</td>\n",
       "      <td>1</td>\n",
       "      <td>0.000000</td>\n",
       "      <td>0.016667</td>\n",
       "      <td>0.016667</td>\n",
       "      <td>B</td>\n",
       "      <td>2019-08-01</td>\n",
       "      <td>1</td>\n",
       "      <td>0</td>\n",
       "    </tr>\n",
       "    <tr>\n",
       "      <th>2</th>\n",
       "      <td>166377</td>\n",
       "      <td>2019-08-05 00:00:00+03:00</td>\n",
       "      <td>out</td>\n",
       "      <td>True</td>\n",
       "      <td>880020</td>\n",
       "      <td>False</td>\n",
       "      <td>1</td>\n",
       "      <td>0.166667</td>\n",
       "      <td>0.300000</td>\n",
       "      <td>0.133333</td>\n",
       "      <td>B</td>\n",
       "      <td>2019-08-01</td>\n",
       "      <td>0</td>\n",
       "      <td>0</td>\n",
       "    </tr>\n",
       "    <tr>\n",
       "      <th>3</th>\n",
       "      <td>166377</td>\n",
       "      <td>2019-08-05 00:00:00+03:00</td>\n",
       "      <td>out</td>\n",
       "      <td>False</td>\n",
       "      <td>880022</td>\n",
       "      <td>True</td>\n",
       "      <td>3</td>\n",
       "      <td>0.000000</td>\n",
       "      <td>0.416667</td>\n",
       "      <td>0.416667</td>\n",
       "      <td>B</td>\n",
       "      <td>2019-08-01</td>\n",
       "      <td>1</td>\n",
       "      <td>0</td>\n",
       "    </tr>\n",
       "    <tr>\n",
       "      <th>4</th>\n",
       "      <td>166377</td>\n",
       "      <td>2019-08-05 00:00:00+03:00</td>\n",
       "      <td>out</td>\n",
       "      <td>False</td>\n",
       "      <td>880020</td>\n",
       "      <td>False</td>\n",
       "      <td>2</td>\n",
       "      <td>0.050000</td>\n",
       "      <td>0.483333</td>\n",
       "      <td>0.433333</td>\n",
       "      <td>B</td>\n",
       "      <td>2019-08-01</td>\n",
       "      <td>0</td>\n",
       "      <td>0</td>\n",
       "    </tr>\n",
       "  </tbody>\n",
       "</table>\n",
       "</div>"
      ],
      "text/plain": [
       "  user_id                      date direction  internal operator_id  \\\n",
       "0  166377 2019-08-05 00:00:00+03:00       out      True      880022   \n",
       "1  166377 2019-08-05 00:00:00+03:00       out      True      880020   \n",
       "2  166377 2019-08-05 00:00:00+03:00       out      True      880020   \n",
       "3  166377 2019-08-05 00:00:00+03:00       out     False      880022   \n",
       "4  166377 2019-08-05 00:00:00+03:00       out     False      880020   \n",
       "\n",
       "   is_missed_call  calls_count  call_duration  total_call_duration  \\\n",
       "0            True            3       0.000000             0.083333   \n",
       "1            True            1       0.000000             0.016667   \n",
       "2           False            1       0.166667             0.300000   \n",
       "3            True            3       0.000000             0.416667   \n",
       "4           False            2       0.050000             0.483333   \n",
       "\n",
       "   waiting_time tariff_plan date_start  is_missed_call_numerical  \\\n",
       "0      0.083333           B 2019-08-01                         1   \n",
       "1      0.016667           B 2019-08-01                         1   \n",
       "2      0.133333           B 2019-08-01                         0   \n",
       "3      0.416667           B 2019-08-01                         1   \n",
       "4      0.433333           B 2019-08-01                         0   \n",
       "\n",
       "   direction_numerical  \n",
       "0                    0  \n",
       "1                    0  \n",
       "2                    0  \n",
       "3                    0  \n",
       "4                    0  "
      ]
     },
     "execution_count": 19,
     "metadata": {},
     "output_type": "execute_result"
    }
   ],
   "source": [
    "# Verificación de correlación entre las variables.\n",
    "# Valor de 0 para llamadas exitosas, 1 para llamadas perdidas.\n",
    "merge_data['is_missed_call_numerical'] = np.where(merge_data['is_missed_call'] == False, 0, 1)\n",
    "\n",
    " # Valor de 0 para llamadas salientes, 1 para llamadas entrantes.\n",
    "merge_data['direction_numerical'] = np.where(merge_data['direction'] == 'out', 0, 1)\n",
    "merge_data.head()"
   ]
  },
  {
   "cell_type": "markdown",
   "metadata": {},
   "source": [
    "Documentación:\n",
    "\n",
    "El uso de la función np.where() puede ser usado de forma similar a .apply(), sin embargo, para algunos casos where() será mas resumida y eficiente.\n",
    "\n",
    "https://numpy.org/doc/stable/reference/generated/numpy.where.html"
   ]
  },
  {
   "cell_type": "code",
   "execution_count": 20,
   "metadata": {},
   "outputs": [
    {
     "data": {
      "image/png": "[encoded data removed]",
      "text/plain": [
       "<Figure size 640x480 with 2 Axes>"
      ]
     },
     "metadata": {},
     "output_type": "display_data"
    }
   ],
   "source": [
    "# Creación de matriz de correlación\n",
    "# Características: \"direction_numerical\", \"is_missed_call_numerical\", \"waiting_time\", \"calls_count\"\n",
    "\n",
    "correlation = merge_data[[\"direction_numerical\", \"is_missed_call_numerical\", \"waiting_time\", \"calls_count\"]].corr()\n",
    "\n",
    "# Mapa de calor para correlaciones:\n",
    "sns.heatmap(correlation, annot=True, fmt=\".2f\")\n",
    "plt.title('Matriz de correlación entre la dirección de llamadas, llamadas perdidas, tiempos de espera y cantidad de llamadas')\n",
    "plt.show()"
   ]
  },
  {
   "cell_type": "markdown",
   "metadata": {},
   "source": [
    "Se observa una fuerte correlación entre \"waiting_time\" y \"calls_count\", sin embargo, esta correlación era de esperarse, ya que a mayo número de llamdas es mas probable que se tengan tiempos de espera."
   ]
  },
  {
   "cell_type": "markdown",
   "metadata": {},
   "source": [
    "### Definición de métricas de evaluación"
   ]
  },
  {
   "cell_type": "markdown",
   "metadata": {},
   "source": [
    "Recordando las características a evaluar para criterio.\n",
    "Se considera que un operador es ineficiente si:\n",
    "- Tiene muchas llamadas perdidas.\n",
    "- Altos tiempos de espera\n",
    "- Realiza pocas llamadas."
   ]
  },
  {
   "cell_type": "markdown",
   "metadata": {},
   "source": [
    "#### Llamadas perdidas"
   ]
  },
  {
   "cell_type": "code",
   "execution_count": 21,
   "metadata": {},
   "outputs": [],
   "source": [
    "# Dataframe con solo llamadas perdidas\n",
    "missed_calls = merge_data[merge_data[\"is_missed_call_numerical\"] == 1]"
   ]
  },
  {
   "cell_type": "code",
   "execution_count": 22,
   "metadata": {},
   "outputs": [
    {
     "data": {
      "image/png": "[encoded data removed]",
      "text/plain": [
       "<Figure size 640x480 with 1 Axes>"
      ]
     },
     "metadata": {},
     "output_type": "display_data"
    }
   ],
   "source": [
    "# Gráfico de caja y bigotes de llamdas perdidas por operador\n",
    "missed_calls_per_operator = missed_calls.groupby(\"operator_id\")[\"calls_count\"].sum().reset_index()\n",
    "plt.boxplot(missed_calls_per_operator[\"calls_count\"])\n",
    "plt.title(\"Distribución de Valores por llamadas perdidas\", fontsize=16)\n",
    "plt.xlabel(\"Llamadas perdidas por operador\", fontsize=14)\n",
    "plt.ylabel(\"Valores\", fontsize=14)\n",
    "plt.show()"
   ]
  },
  {
   "cell_type": "markdown",
   "metadata": {},
   "source": [
    "##### Rango interquartil para llamadas perdidas"
   ]
  },
  {
   "cell_type": "code",
   "execution_count": 23,
   "metadata": {},
   "outputs": [
    {
     "name": "stdout",
     "output_type": "stream",
     "text": [
      "Se considerará ineficiente si el operador tiene un total de llamadas perdidas mayor a 340 llamadas\n"
     ]
    }
   ],
   "source": [
    "# Obtención de métricas para \"is_missed_call\".\n",
    "# Se usará el rango intercuartil para obtener los valores atipicos, los cuales serán usados para definir la ineficiencia.\n",
    "\n",
    "# Q1 + (1.5 * IQR)\n",
    "Q1 = np.percentile(missed_calls_per_operator[\"calls_count\"], 25)\n",
    "Q3 = np.percentile(missed_calls_per_operator[\"calls_count\"], 75)\n",
    "IQR = Q3 - Q1\n",
    "limit_missed_calls = Q1 + (1.5 * IQR)\n",
    "print(f\"Se considerará ineficiente si el operador tiene un total de llamadas perdidas mayor a {limit_missed_calls:.0f} llamadas\")"
   ]
  },
  {
   "cell_type": "markdown",
   "metadata": {},
   "source": [
    "Documentación:\n",
    "\n",
    "El rango inerquartil ayuda a establecer un valor o límite a una cantidad de datos, de esta forma se puede establecer cuando un valor es atípico de forma objetiva, esto evita que se elija un quartil para la decisión.\n",
    "\n",
    "https://online.stat.psu.edu/stat200/lesson/3/3.2"
   ]
  },
  {
   "cell_type": "markdown",
   "metadata": {},
   "source": [
    "#### Waiting time"
   ]
  },
  {
   "cell_type": "code",
   "execution_count": 24,
   "metadata": {},
   "outputs": [
    {
     "data": {
      "image/png": "[encoded data removed]",
      "text/plain": [
       "<Figure size 640x480 with 1 Axes>"
      ]
     },
     "metadata": {},
     "output_type": "display_data"
    }
   ],
   "source": [
    "# Cálculo promedio de tiempos de espera por operador\n",
    "mean_waiting_time_per_operator = merge_data.groupby(\"operator_id\")[\"waiting_time\"].mean().reset_index()\n",
    "mean_waiting_time_per_operator.columns = [\"operator_id\", \"mean_waiting_time\"]\n",
    "\n",
    "# Gráfico de caja y bigotes para visualizar la distribución promedio\n",
    "plt.boxplot(mean_waiting_time_per_operator[\"mean_waiting_time\"])\n",
    "plt.title(\"Distribución de Valores promedio por tiempo de espera\", fontsize=16)\n",
    "plt.xlabel(\"Tiempo de espera promedio por operador\", fontsize=14)\n",
    "plt.ylabel(\"Valores\", fontsize=14)\n",
    "plt.show()"
   ]
  },
  {
   "cell_type": "markdown",
   "metadata": {},
   "source": [
    "##### Rango interquartil para waiting_time"
   ]
  },
  {
   "cell_type": "code",
   "execution_count": 25,
   "metadata": {},
   "outputs": [
    {
     "name": "stdout",
     "output_type": "stream",
     "text": [
      "Se considerará ineficiente si el operador tiene un tiempo promedio de espera mayor a 3.80 minutos\n"
     ]
    }
   ],
   "source": [
    "# Obtención de métricas para \"waiting_time\".\n",
    "# Se usará el rango intercuartil para obtener los valores atipicos, los cuales serán usados para definir la ineficiencia.\n",
    "\n",
    "# Q1 + (1.5 * IQR)\n",
    "Q1 = np.percentile(mean_waiting_time_per_operator[\"mean_waiting_time\"], 25)\n",
    "Q3 = np.percentile(mean_waiting_time_per_operator[\"mean_waiting_time\"], 75)\n",
    "IQR = Q3 - Q1\n",
    "limit_time = Q1 + (1.5 * IQR)\n",
    "print(f\"Se considerará ineficiente si el operador tiene un tiempo promedio de espera mayor a {limit_time:.2f} minutos\")"
   ]
  },
  {
   "cell_type": "markdown",
   "metadata": {},
   "source": [
    "#### Llamadas externas realizadas"
   ]
  },
  {
   "cell_type": "code",
   "execution_count": 26,
   "metadata": {},
   "outputs": [],
   "source": [
    "# Obtención de Dataframe de llamadas realizadas\n",
    "out_calls =dataset[dataset[\"direction\"] == \"out\"]"
   ]
  },
  {
   "cell_type": "code",
   "execution_count": 27,
   "metadata": {},
   "outputs": [
    {
     "data": {
      "image/png": "[encoded data removed]",
      "text/plain": [
       "<Figure size 640x480 with 1 Axes>"
      ]
     },
     "metadata": {},
     "output_type": "display_data"
    },
    {
     "data": {
      "text/html": [
       "<div>\n",
       "<style scoped>\n",
       "    .dataframe tbody tr th:only-of-type {\n",
       "        vertical-align: middle;\n",
       "    }\n",
       "\n",
       "    .dataframe tbody tr th {\n",
       "        vertical-align: top;\n",
       "    }\n",
       "\n",
       "    .dataframe thead th {\n",
       "        text-align: right;\n",
       "    }\n",
       "</style>\n",
       "<table border=\"1\" class=\"dataframe\">\n",
       "  <thead>\n",
       "    <tr style=\"text-align: right;\">\n",
       "      <th></th>\n",
       "      <th>calls_count</th>\n",
       "    </tr>\n",
       "  </thead>\n",
       "  <tbody>\n",
       "    <tr>\n",
       "      <th>count</th>\n",
       "      <td>882.000000</td>\n",
       "    </tr>\n",
       "    <tr>\n",
       "      <th>mean</th>\n",
       "      <td>689.731293</td>\n",
       "    </tr>\n",
       "    <tr>\n",
       "      <th>std</th>\n",
       "      <td>3122.953946</td>\n",
       "    </tr>\n",
       "    <tr>\n",
       "      <th>min</th>\n",
       "      <td>1.000000</td>\n",
       "    </tr>\n",
       "    <tr>\n",
       "      <th>25%</th>\n",
       "      <td>11.000000</td>\n",
       "    </tr>\n",
       "    <tr>\n",
       "      <th>50%</th>\n",
       "      <td>90.000000</td>\n",
       "    </tr>\n",
       "    <tr>\n",
       "      <th>75%</th>\n",
       "      <td>597.250000</td>\n",
       "    </tr>\n",
       "    <tr>\n",
       "      <th>max</th>\n",
       "      <td>58977.000000</td>\n",
       "    </tr>\n",
       "  </tbody>\n",
       "</table>\n",
       "</div>"
      ],
      "text/plain": [
       "        calls_count\n",
       "count    882.000000\n",
       "mean     689.731293\n",
       "std     3122.953946\n",
       "min        1.000000\n",
       "25%       11.000000\n",
       "50%       90.000000\n",
       "75%      597.250000\n",
       "max    58977.000000"
      ]
     },
     "metadata": {},
     "output_type": "display_data"
    }
   ],
   "source": [
    "# Agrupación y visualización de los datos\n",
    "\n",
    "out_calls_per_operator = out_calls.groupby(\"operator_id\")[\"calls_count\"].sum().reset_index()\n",
    "sns.boxplot(data = out_calls_per_operator, y = \"calls_count\")\n",
    "plt.title(\"Distribución de Valores por llamadas salientes por operador\", fontsize=16)\n",
    "plt.xlabel(\"llamadas salientes realizadas\", fontsize=14)\n",
    "plt.ylabel(\"Valores\", fontsize=14)\n",
    "plt.show()\n",
    "\n",
    "display(out_calls_per_operator.describe())"
   ]
  },
  {
   "cell_type": "code",
   "execution_count": 28,
   "metadata": {},
   "outputs": [
    {
     "name": "stdout",
     "output_type": "stream",
     "text": [
      "Se considerará ineficiente si el operador tiene menos de 3 llamadas externas salientes\n"
     ]
    }
   ],
   "source": [
    "# Obtención de métricas para \"llamadas salientes\".\n",
    "# Se considerará ineficiente a los operadores que tengan menos llamadas que el percetnil 10 de los operadores \n",
    "\n",
    "limit_calls = np.percentile(out_calls_per_operator[\"calls_count\"], 10)\n",
    "print(f\"Se considerará ineficiente si el operador tiene menos de {limit_calls:.0f} llamadas externas salientes\")"
   ]
  },
  {
   "cell_type": "markdown",
   "metadata": {},
   "source": [
    "### Métricas de ineficiencia"
   ]
  },
  {
   "cell_type": "markdown",
   "metadata": {},
   "source": [
    "Métricas obtenidas de ineficiencia:\n",
    "Se considerará ineficiente si cumple con:\n",
    "- Más de 340 llamadas perdidas\n",
    "- Mas de 3.8 minutos promedio de espera\n",
    "- Menos de 3 llamadas salientes"
   ]
  },
  {
   "cell_type": "markdown",
   "metadata": {},
   "source": [
    "## Identificación de operadores ineficientes"
   ]
  },
  {
   "cell_type": "code",
   "execution_count": 29,
   "metadata": {},
   "outputs": [
    {
     "data": {
      "text/html": [
       "<div>\n",
       "<style scoped>\n",
       "    .dataframe tbody tr th:only-of-type {\n",
       "        vertical-align: middle;\n",
       "    }\n",
       "\n",
       "    .dataframe tbody tr th {\n",
       "        vertical-align: top;\n",
       "    }\n",
       "\n",
       "    .dataframe thead th {\n",
       "        text-align: right;\n",
       "    }\n",
       "</style>\n",
       "<table border=\"1\" class=\"dataframe\">\n",
       "  <thead>\n",
       "    <tr style=\"text-align: right;\">\n",
       "      <th></th>\n",
       "      <th>operator_id</th>\n",
       "      <th>missed_calls</th>\n",
       "      <th>mean_waiting_time</th>\n",
       "      <th>n_out_calls</th>\n",
       "    </tr>\n",
       "  </thead>\n",
       "  <tbody>\n",
       "    <tr>\n",
       "      <th>0</th>\n",
       "      <td>880022</td>\n",
       "      <td>105.0</td>\n",
       "      <td>0.899524</td>\n",
       "      <td>189.0</td>\n",
       "    </tr>\n",
       "    <tr>\n",
       "      <th>1</th>\n",
       "      <td>880020</td>\n",
       "      <td>22.0</td>\n",
       "      <td>0.233333</td>\n",
       "      <td>38.0</td>\n",
       "    </tr>\n",
       "    <tr>\n",
       "      <th>2</th>\n",
       "      <td>881278</td>\n",
       "      <td>17.0</td>\n",
       "      <td>0.162500</td>\n",
       "      <td>20.0</td>\n",
       "    </tr>\n",
       "    <tr>\n",
       "      <th>3</th>\n",
       "      <td>880028</td>\n",
       "      <td>993.0</td>\n",
       "      <td>3.502970</td>\n",
       "      <td>2497.0</td>\n",
       "    </tr>\n",
       "    <tr>\n",
       "      <th>4</th>\n",
       "      <td>880026</td>\n",
       "      <td>648.0</td>\n",
       "      <td>2.032967</td>\n",
       "      <td>2208.0</td>\n",
       "    </tr>\n",
       "    <tr>\n",
       "      <th>...</th>\n",
       "      <td>...</td>\n",
       "      <td>...</td>\n",
       "      <td>...</td>\n",
       "      <td>...</td>\n",
       "    </tr>\n",
       "    <tr>\n",
       "      <th>1087</th>\n",
       "      <td>958394</td>\n",
       "      <td>NaN</td>\n",
       "      <td>0.279630</td>\n",
       "      <td>NaN</td>\n",
       "    </tr>\n",
       "    <tr>\n",
       "      <th>1088</th>\n",
       "      <td>952914</td>\n",
       "      <td>246.0</td>\n",
       "      <td>3.175510</td>\n",
       "      <td>580.0</td>\n",
       "    </tr>\n",
       "    <tr>\n",
       "      <th>1089</th>\n",
       "      <td>952916</td>\n",
       "      <td>1.0</td>\n",
       "      <td>0.666667</td>\n",
       "      <td>7.0</td>\n",
       "    </tr>\n",
       "    <tr>\n",
       "      <th>1090</th>\n",
       "      <td>959118</td>\n",
       "      <td>4.0</td>\n",
       "      <td>0.783333</td>\n",
       "      <td>14.0</td>\n",
       "    </tr>\n",
       "    <tr>\n",
       "      <th>1091</th>\n",
       "      <td>957922</td>\n",
       "      <td>4.0</td>\n",
       "      <td>0.603704</td>\n",
       "      <td>16.0</td>\n",
       "    </tr>\n",
       "  </tbody>\n",
       "</table>\n",
       "<p>1092 rows × 4 columns</p>\n",
       "</div>"
      ],
      "text/plain": [
       "     operator_id  missed_calls  mean_waiting_time  n_out_calls\n",
       "0         880022         105.0           0.899524        189.0\n",
       "1         880020          22.0           0.233333         38.0\n",
       "2         881278          17.0           0.162500         20.0\n",
       "3         880028         993.0           3.502970       2497.0\n",
       "4         880026         648.0           2.032967       2208.0\n",
       "...          ...           ...                ...          ...\n",
       "1087      958394           NaN           0.279630          NaN\n",
       "1088      952914         246.0           3.175510        580.0\n",
       "1089      952916           1.0           0.666667          7.0\n",
       "1090      959118           4.0           0.783333         14.0\n",
       "1091      957922           4.0           0.603704         16.0\n",
       "\n",
       "[1092 rows x 4 columns]"
      ]
     },
     "execution_count": 29,
     "metadata": {},
     "output_type": "execute_result"
    }
   ],
   "source": [
    "# Lista de operadores únicos\n",
    "events_operators_id = merge_data[\"operator_id\"].unique()\n",
    "operators_id = pd.DataFrame({\"operator_id\":events_operators_id})\n",
    "\n",
    "# Unión con df de llamadas perdidas\n",
    "merge_1 = operators_id.merge(missed_calls_per_operator, how = \"left\", on = \"operator_id\")\n",
    "\n",
    "# Unión con df de waiting_time\n",
    "merge_2 =merge_1.merge(mean_waiting_time_per_operator, how = \"left\", on = \"operator_id\")\n",
    "\n",
    "# Unión con df de llamdas salientes por operador\n",
    "total_data = merge_2.merge(out_calls_per_operator, how = \"left\", on = \"operator_id\")\n",
    "total_data.columns = [\"operator_id\", \"missed_calls\", \"mean_waiting_time\", \"n_out_calls\"]\n",
    "total_data"
   ]
  },
  {
   "cell_type": "code",
   "execution_count": 30,
   "metadata": {},
   "outputs": [
    {
     "data": {
      "text/html": [
       "<div>\n",
       "<style scoped>\n",
       "    .dataframe tbody tr th:only-of-type {\n",
       "        vertical-align: middle;\n",
       "    }\n",
       "\n",
       "    .dataframe tbody tr th {\n",
       "        vertical-align: top;\n",
       "    }\n",
       "\n",
       "    .dataframe thead th {\n",
       "        text-align: right;\n",
       "    }\n",
       "</style>\n",
       "<table border=\"1\" class=\"dataframe\">\n",
       "  <thead>\n",
       "    <tr style=\"text-align: right;\">\n",
       "      <th></th>\n",
       "      <th>operator_id</th>\n",
       "      <th>missed_calls</th>\n",
       "      <th>mean_waiting_time</th>\n",
       "      <th>n_out_calls</th>\n",
       "      <th>is_missed_call_inefficiency</th>\n",
       "      <th>mean_waiting_time_inefficiency</th>\n",
       "      <th>n_out_calls_inefficiency</th>\n",
       "    </tr>\n",
       "  </thead>\n",
       "  <tbody>\n",
       "    <tr>\n",
       "      <th>0</th>\n",
       "      <td>880022</td>\n",
       "      <td>105.0</td>\n",
       "      <td>0.899524</td>\n",
       "      <td>189.0</td>\n",
       "      <td>False</td>\n",
       "      <td>False</td>\n",
       "      <td>False</td>\n",
       "    </tr>\n",
       "    <tr>\n",
       "      <th>1</th>\n",
       "      <td>880020</td>\n",
       "      <td>22.0</td>\n",
       "      <td>0.233333</td>\n",
       "      <td>38.0</td>\n",
       "      <td>False</td>\n",
       "      <td>False</td>\n",
       "      <td>False</td>\n",
       "    </tr>\n",
       "    <tr>\n",
       "      <th>2</th>\n",
       "      <td>881278</td>\n",
       "      <td>17.0</td>\n",
       "      <td>0.162500</td>\n",
       "      <td>20.0</td>\n",
       "      <td>False</td>\n",
       "      <td>False</td>\n",
       "      <td>False</td>\n",
       "    </tr>\n",
       "    <tr>\n",
       "      <th>3</th>\n",
       "      <td>880028</td>\n",
       "      <td>993.0</td>\n",
       "      <td>3.502970</td>\n",
       "      <td>2497.0</td>\n",
       "      <td>True</td>\n",
       "      <td>False</td>\n",
       "      <td>False</td>\n",
       "    </tr>\n",
       "    <tr>\n",
       "      <th>4</th>\n",
       "      <td>880026</td>\n",
       "      <td>648.0</td>\n",
       "      <td>2.032967</td>\n",
       "      <td>2208.0</td>\n",
       "      <td>True</td>\n",
       "      <td>False</td>\n",
       "      <td>False</td>\n",
       "    </tr>\n",
       "    <tr>\n",
       "      <th>...</th>\n",
       "      <td>...</td>\n",
       "      <td>...</td>\n",
       "      <td>...</td>\n",
       "      <td>...</td>\n",
       "      <td>...</td>\n",
       "      <td>...</td>\n",
       "      <td>...</td>\n",
       "    </tr>\n",
       "    <tr>\n",
       "      <th>1087</th>\n",
       "      <td>958394</td>\n",
       "      <td>NaN</td>\n",
       "      <td>0.279630</td>\n",
       "      <td>NaN</td>\n",
       "      <td>False</td>\n",
       "      <td>False</td>\n",
       "      <td>False</td>\n",
       "    </tr>\n",
       "    <tr>\n",
       "      <th>1088</th>\n",
       "      <td>952914</td>\n",
       "      <td>246.0</td>\n",
       "      <td>3.175510</td>\n",
       "      <td>580.0</td>\n",
       "      <td>False</td>\n",
       "      <td>False</td>\n",
       "      <td>False</td>\n",
       "    </tr>\n",
       "    <tr>\n",
       "      <th>1089</th>\n",
       "      <td>952916</td>\n",
       "      <td>1.0</td>\n",
       "      <td>0.666667</td>\n",
       "      <td>7.0</td>\n",
       "      <td>False</td>\n",
       "      <td>False</td>\n",
       "      <td>False</td>\n",
       "    </tr>\n",
       "    <tr>\n",
       "      <th>1090</th>\n",
       "      <td>959118</td>\n",
       "      <td>4.0</td>\n",
       "      <td>0.783333</td>\n",
       "      <td>14.0</td>\n",
       "      <td>False</td>\n",
       "      <td>False</td>\n",
       "      <td>False</td>\n",
       "    </tr>\n",
       "    <tr>\n",
       "      <th>1091</th>\n",
       "      <td>957922</td>\n",
       "      <td>4.0</td>\n",
       "      <td>0.603704</td>\n",
       "      <td>16.0</td>\n",
       "      <td>False</td>\n",
       "      <td>False</td>\n",
       "      <td>False</td>\n",
       "    </tr>\n",
       "  </tbody>\n",
       "</table>\n",
       "<p>1092 rows × 7 columns</p>\n",
       "</div>"
      ],
      "text/plain": [
       "     operator_id  missed_calls  mean_waiting_time  n_out_calls  \\\n",
       "0         880022         105.0           0.899524        189.0   \n",
       "1         880020          22.0           0.233333         38.0   \n",
       "2         881278          17.0           0.162500         20.0   \n",
       "3         880028         993.0           3.502970       2497.0   \n",
       "4         880026         648.0           2.032967       2208.0   \n",
       "...          ...           ...                ...          ...   \n",
       "1087      958394           NaN           0.279630          NaN   \n",
       "1088      952914         246.0           3.175510        580.0   \n",
       "1089      952916           1.0           0.666667          7.0   \n",
       "1090      959118           4.0           0.783333         14.0   \n",
       "1091      957922           4.0           0.603704         16.0   \n",
       "\n",
       "      is_missed_call_inefficiency  mean_waiting_time_inefficiency  \\\n",
       "0                           False                           False   \n",
       "1                           False                           False   \n",
       "2                           False                           False   \n",
       "3                            True                           False   \n",
       "4                            True                           False   \n",
       "...                           ...                             ...   \n",
       "1087                        False                           False   \n",
       "1088                        False                           False   \n",
       "1089                        False                           False   \n",
       "1090                        False                           False   \n",
       "1091                        False                           False   \n",
       "\n",
       "      n_out_calls_inefficiency  \n",
       "0                        False  \n",
       "1                        False  \n",
       "2                        False  \n",
       "3                        False  \n",
       "4                        False  \n",
       "...                        ...  \n",
       "1087                     False  \n",
       "1088                     False  \n",
       "1089                     False  \n",
       "1090                     False  \n",
       "1091                     False  \n",
       "\n",
       "[1092 rows x 7 columns]"
      ]
     },
     "execution_count": 30,
     "metadata": {},
     "output_type": "execute_result"
    }
   ],
   "source": [
    "# Métricas\n",
    "llamadas_perdidas = 340\n",
    "tiempo_de_espera = 3.8\n",
    "llamadas_salientes = 3\n",
    "\n",
    "\n",
    "# Creación de columas que identifique la ineficiencia por métrica\n",
    "# En donde False se usará como Eficiencia y True como Ineficiencia\n",
    "\n",
    "total_data[\"is_missed_call_inefficiency\"] = (\n",
    "    total_data.apply(lambda x: True if x[\"missed_calls\"] > llamadas_perdidas else False, axis = 1)\n",
    ")\n",
    "\n",
    "total_data[\"mean_waiting_time_inefficiency\"] = (\n",
    "    total_data.apply(lambda x: True if x[\"mean_waiting_time\"] > tiempo_de_espera else False, axis = 1)\n",
    ")\n",
    "\n",
    "total_data[\"n_out_calls_inefficiency\"] = (\n",
    "    total_data.apply(lambda x: True if x[\"n_out_calls\"] < llamadas_salientes else False, axis = 1)\n",
    ")\n",
    "\n",
    "total_data"
   ]
  },
  {
   "cell_type": "code",
   "execution_count": 31,
   "metadata": {},
   "outputs": [
    {
     "name": "stdout",
     "output_type": "stream",
     "text": [
      "Hay 175 operadores ineficicentes por llamadas perdidas\n",
      "Hay 214 operadores ineficicentes por tiempo de espera\n",
      "Hay 88 operadores ineficicentes por llamadas salientes\n"
     ]
    },
    {
     "data": {
      "image/png": "[encoded data removed]",
      "text/plain": [
       "<Figure size 640x480 with 1 Axes>"
      ]
     },
     "metadata": {},
     "output_type": "display_data"
    }
   ],
   "source": [
    "# Cantidad de operadores ineficientes por característica\n",
    "n_is_missed_call_inefficiency = len(total_data[total_data[\"is_missed_call_inefficiency\"] == True])\n",
    "n_mean_waiting_time_inefficiency = len(total_data[total_data[\"mean_waiting_time_inefficiency\"] == True])\n",
    "n_n_out_calls_inefficiency = len(total_data[total_data[\"n_out_calls_inefficiency\"] == True])\n",
    "\n",
    "print(f\"Hay {n_is_missed_call_inefficiency} operadores ineficicentes por llamadas perdidas\")\n",
    "print(f\"Hay {n_mean_waiting_time_inefficiency} operadores ineficicentes por tiempo de espera\")\n",
    "print(f\"Hay {n_n_out_calls_inefficiency} operadores ineficicentes por llamadas salientes\")\n",
    "\n",
    "n_oper_ineficient_per_metric = pd.DataFrame({\"caracteristica\":[\"Llamadas perdidas\",\"Tiempo de espera\",\"Llamadas salientes\"],\n",
    "                                 \"n_operadores\":[n_is_missed_call_inefficiency,n_mean_waiting_time_inefficiency, n_n_out_calls_inefficiency]}).sort_values(by = \"n_operadores\", ascending = False)\n",
    "\n",
    "\n",
    "plt.bar(n_oper_ineficient_per_metric[\"caracteristica\"], n_oper_ineficient_per_metric[\"n_operadores\"])\n",
    "plt.title('Operadores Ineficientes por característica')\n",
    "plt.xlabel('Característica')\n",
    "plt.ylabel('Cantidad de operadores')\n",
    "plt.show()"
   ]
  },
  {
   "cell_type": "code",
   "execution_count": 32,
   "metadata": {},
   "outputs": [
    {
     "name": "stdout",
     "output_type": "stream",
     "text": [
      "Hay 331 operadores con al menos 1 ineficicencia\n",
      "Operadores con al menos 1 ineficiencias: ['880028' '880026' '882478' '882686' '902510' '882690' '939470' '939476'\n",
      " '879898' '887282' '907174' '906866' '883940' '883942' '883018' '883898'\n",
      " '891410' '891414' '884946' '890234' '892028' '893674' '891192' '930510'\n",
      " '884478' '900192' '908834' '885890' '885876' '925922' '890404' '890406'\n",
      " '890416' '890402' '890412' '890410' '900892' '917234' '919418' '932502'\n",
      " '932500' '932498' '943050' '954642' '960294' '972410' '899082' '891250'\n",
      " '891918' '889754' '891976' '895266' '893804' '899250' '900180' '954318'\n",
      " '903254' '902720' '895598' '917890' '894656' '928282' '928284' '955094'\n",
      " '955068' '955086' '910594' '896382' '896386' '914626' '901884' '901880'\n",
      " '901886' '903318' '905432' '905430' '909502' '899788' '899932' '899968'\n",
      " '899790' '899964' '899076' '962904' '910530' '923526' '903292' '913938'\n",
      " '913942' '963716' '907998' '904016' '904014' '951648' '902238' '901992'\n",
      " '902746' '902782' '902742' '902744' '902748' '902778' '902774' '902776'\n",
      " '905542' '905538' '905844' '905842' '905480' '932246' '906070' '906076'\n",
      " '905862' '949420' '908080' '929542' '919554' '919552' '908640' '924572'\n",
      " '914440' '914256' '914272' '935956' '921818' '915556' '914052' '919790'\n",
      " '919792' '919794' '944246' '944560' '917858' '917876' '919214' '937372'\n",
      " '937366' '960666' '960674' '954086' '919194' '919166' '919188' '919196'\n",
      " '919482' '919190' '919314' '919318' '919490' '919192' '919202' '919374'\n",
      " '919376' '919910' '919310' '919364' '919206' '919504' '919370' '919378'\n",
      " '919302' '919204' '919464' '919362' '919456' '919476' '919906' '919162'\n",
      " '919372' '919306' '919390' '920416' '920414' '919200' '921594' '921574'\n",
      " '919382' '919198' '921592' '921596' '921584' '922710' '923666' '925134'\n",
      " '928518' '934426' '919128' '919126' '921318' '931458' '939706' '918986'\n",
      " '918978' '918988' '926486' '938896' '925104' '928312' '929424' '929426'\n",
      " '929428' '952968' '939698' '930820' '930816' '930326' '941192' '934000'\n",
      " '934188' '945902' '945894' '945900' '945904' '939224' '939222' '938078'\n",
      " '938072' '933070' '938074' '938080' '938070' '938022' '971102' '947604'\n",
      " '947616' '947652' '947658' '947592' '947646' '947640' '947654' '947620'\n",
      " '952392' '947650' '947638' '947614' '947648' '947642' '947618' '947596'\n",
      " '939762' '941826' '941816' '954284' '958456' '958480' '958458' '941390'\n",
      " '937650' '939370' '939376' '969288' '937956' '937902' '937888' '937966'\n",
      " '937760' '937860' '937808' '937752' '937780' '937736' '937872' '937720'\n",
      " '937710' '937772' '937778' '937770' '937874' '937716' '946072' '970244'\n",
      " '970258' '970240' '970250' '940616' '940624' '940634' '940610' '940842'\n",
      " '940596' '940658' '940652' '940614' '940622' '940848' '940814' '950972'\n",
      " '961064' '964666' '966686' '952948' '954650' '945058' '969262' '969284'\n",
      " '945322' '945282' '945290' '945302' '945298' '945312' '945284' '945278'\n",
      " '945280' '945286' '945316' '945274' '945294' '945296' '945308' '945314'\n",
      " '945310' '945324' '945304' '945318' '945288' '945320' '965544' '965540'\n",
      " '965538' '965542' '952458' '952466' '952462' '952468' '953462' '952114'\n",
      " '952116' '956292' '952196']\n",
      "\n",
      "Hay 146 operadores con al menos 2 ineficicencias\n",
      "Operadores con al menos 2 ineficiencias: ['882686' '902510' '882690' '879898' '887282' '907174' '884946' '892028'\n",
      " '893674' '884478' '885890' '885876' '925922' '917234' '932500' '893804'\n",
      " '900180' '902720' '899932' '899790' '910530' '904016' '904014' '902746'\n",
      " '902782' '902742' '902744' '902748' '902778' '902774' '902776' '906076'\n",
      " '908640' '921818' '915556' '914052' '937372' '919194' '919196' '919482'\n",
      " '919314' '919318' '919490' '919192' '919202' '919374' '919376' '919310'\n",
      " '919364' '919206' '919504' '919370' '919378' '919302' '919464' '919362'\n",
      " '919456' '919476' '919906' '919162' '919372' '919306' '919390' '920416'\n",
      " '920414' '919200' '921594' '921574' '919382' '919198' '921592' '921596'\n",
      " '921584' '922710' '923666' '919128' '921318' '931458' '918986' '918978'\n",
      " '926486' '938896' '928312' '929424' '929426' '929428' '941192' '945902'\n",
      " '945894' '945900' '945904' '938078' '933070' '947604' '947616' '947658'\n",
      " '947592' '947646' '947654' '947620' '952392' '947650' '947638' '947614'\n",
      " '947648' '947642' '947618' '939762' '939376' '937902' '937888' '937860'\n",
      " '937808' '937752' '937780' '937736' '940616' '940624' '940634' '940658'\n",
      " '940652' '961064' '945322' '945282' '945290' '945302' '945312' '945284'\n",
      " '945278' '945280' '945286' '945316' '945294' '945296' '945308' '945314'\n",
      " '945310' '945324' '945304' '945318' '945288' '945320' '965544' '952458'\n",
      " '952468' '953462']\n",
      "\n",
      "Hay 0 operadores con al menos 3 ineficicencias\n",
      "Operadores con al menos 3 ineficiencias: []\n"
     ]
    }
   ],
   "source": [
    "# Sumar los valores True en las últimas tres columnas para cada operador\n",
    "total_data['inefficiency_count'] = total_data[['is_missed_call_inefficiency', 'mean_waiting_time_inefficiency', 'n_out_calls_inefficiency']].sum(axis=1)\n",
    "\n",
    "# Operadores que tienen al menos 1 Ineficicencia\n",
    "inefficient_operators_1 = total_data[total_data['inefficiency_count'] >= 1]['operator_id'].unique()\n",
    "print(f\"Hay {len(inefficient_operators_1)} operadores con al menos 1 ineficicencia\")\n",
    "print(\"Operadores con al menos 1 ineficiencias:\", inefficient_operators_1)\n",
    "print()\n",
    "\n",
    "\n",
    "# Operadores que tienen al menos 2 Ineficicencias\n",
    "inefficient_operators_2 = total_data[total_data['inefficiency_count'] >= 2]['operator_id'].unique()\n",
    "print(f\"Hay {len(inefficient_operators_2)} operadores con al menos 2 ineficicencias\")\n",
    "print(\"Operadores con al menos 2 ineficiencias:\", inefficient_operators_2)\n",
    "print()\n",
    "\n",
    "\n",
    "# Operadores que tienen al menos 3 Ineficicencias\n",
    "inefficient_operators_3 = total_data[total_data['inefficiency_count'] >= 3]['operator_id'].unique()\n",
    "print(f\"Hay {len(inefficient_operators_3)} operadores con al menos 3 ineficicencias\")\n",
    "print(\"Operadores con al menos 3 ineficiencias:\", inefficient_operators_3)"
   ]
  },
  {
   "cell_type": "code",
   "execution_count": 33,
   "metadata": {},
   "outputs": [
    {
     "data": {
      "image/png": "[encoded data removed]",
      "text/plain": [
       "<Figure size 640x480 with 1 Axes>"
      ]
     },
     "metadata": {},
     "output_type": "display_data"
    }
   ],
   "source": [
    "# Gráfico de operadores con ineficicencias\n",
    "\n",
    "n_oper_ineficient = pd.DataFrame({\"n_areas_ineficiencia\":[\"1\",\"2\",\"3\"],\n",
    "                                 \"n_operadores\":[len(inefficient_operators_1),len(inefficient_operators_2), len(inefficient_operators_3)]})\n",
    "n_oper_ineficient\n",
    "\n",
    "\n",
    "plt.bar(n_oper_ineficient[\"n_areas_ineficiencia\"], n_oper_ineficient[\"n_operadores\"])\n",
    "plt.title('Operadores con 1 o mas ineficiencias')\n",
    "plt.xlabel('Ineficiencias')\n",
    "plt.ylabel('Cantidad de operadores')\n",
    "plt.show()\n"
   ]
  },
  {
   "cell_type": "markdown",
   "metadata": {},
   "source": [
    "De las 3 áreas a evaluar, no existe algun operador que sea ineficiente en las 3. Sin embargo mas de 300 operadores son ineficientes en al menos un área, lo cual representa el 30% de los operadores."
   ]
  },
  {
   "cell_type": "markdown",
   "metadata": {},
   "source": [
    "## Pruebas de hipótesis"
   ]
  },
  {
   "cell_type": "markdown",
   "metadata": {},
   "source": [
    "### Los operadores ineficientes en llamadas perdidas tienen un comportamiento parecido para llamadas salientes, en comparación con los operadores ineficientes en tiempos de espera"
   ]
  },
  {
   "cell_type": "code",
   "execution_count": 34,
   "metadata": {},
   "outputs": [
    {
     "data": {
      "image/png": "[encoded data removed]",
      "text/plain": [
       "<Figure size 1400x600 with 2 Axes>"
      ]
     },
     "metadata": {},
     "output_type": "display_data"
    }
   ],
   "source": [
    "# Distribución de los datos\n",
    "fig, axes = plt.subplots(1, 2, figsize=(14, 6), sharey=True)\n",
    "\n",
    "# Llamadas salientes de operadores ineficientes en llamadas perdidas, considerando valores menores al percentil 95\n",
    "out_calls_oper_missed_call = total_data[(total_data[\"is_missed_call_inefficiency\"] == True) & (total_data[\"n_out_calls\"] < 5215)][\"n_out_calls\"]\n",
    "sns.histplot(out_calls_oper_missed_call, bins=20, ax=axes[0])\n",
    "axes[0].set_title(\"Llamadas Salientes - Ineficiencia en Llamadas Perdidas\")\n",
    "axes[0].set_xlabel(\"Número de Llamadas Salientes\")\n",
    "axes[0].set_ylabel(\"Frecuencia\")\n",
    "\n",
    "# Llamadas salientes de operadores ineficientes en tiempos de espera, considerando valores menores al percentil 95\n",
    "out_calls_oper_waiting_time = total_data[(total_data[\"mean_waiting_time_inefficiency\"] == True) & (total_data[\"n_out_calls\"] < 5215)][\"n_out_calls\"]\n",
    "sns.histplot(out_calls_oper_waiting_time, bins=20, ax=axes[1])\n",
    "axes[1].set_title(\"Llamadas Salientes - Ineficiencia en Tiempos de Espera\")\n",
    "axes[1].set_xlabel(\"Número de Llamadas Salientes\")\n",
    "\n",
    "plt.tight_layout()\n",
    "plt.show()"
   ]
  },
  {
   "cell_type": "code",
   "execution_count": 35,
   "metadata": {},
   "outputs": [
    {
     "name": "stdout",
     "output_type": "stream",
     "text": [
      "Valor p: 6.761644577579773e-09\n",
      "Se rechaza la hipótesis nula: la muestra no tiene una distribución normal\n"
     ]
    }
   ],
   "source": [
    "# Test de shapiro para evaluar si \"out_calls_oper_missed_call\" tiene distribución normal\n",
    "p_value = shapiro(out_calls_oper_missed_call)[1]\n",
    "\n",
    "print(\"Valor p:\", p_value)\n",
    "\n",
    "alpha = 0.05\n",
    "if p_value > alpha:\n",
    "    print(\"No se rechaza la hipótesis nula: la muestra tiene una distribución normal\")\n",
    "else:\n",
    "    print(\"Se rechaza la hipótesis nula: la muestra no tiene una distribución normal\")"
   ]
  },
  {
   "cell_type": "code",
   "execution_count": 36,
   "metadata": {},
   "outputs": [
    {
     "name": "stdout",
     "output_type": "stream",
     "text": [
      "Valor p: 3.6478489562341565e-08\n",
      "Se rechaza la hipótesis nula: la muestra no tiene una distribución normal\n"
     ]
    }
   ],
   "source": [
    "# Test de shapiro para evaluar si \"out_calls_oper_waiting_time\" tiene distribución normal\n",
    "p_value = shapiro(out_calls_oper_waiting_time)[1]\n",
    "\n",
    "print(\"Valor p:\", p_value)\n",
    "\n",
    "alpha = 0.05\n",
    "if p_value > alpha:\n",
    "    print(\"No se rechaza la hipótesis nula: la muestra tiene una distribución normal\")\n",
    "else:\n",
    "    print(\"Se rechaza la hipótesis nula: la muestra no tiene una distribución normal\")"
   ]
  },
  {
   "cell_type": "markdown",
   "metadata": {},
   "source": [
    "Las muestras no tienen una distribución normal, por lo que se realizará una prueba de mannwhitneyu"
   ]
  },
  {
   "cell_type": "code",
   "execution_count": 37,
   "metadata": {},
   "outputs": [
    {
     "name": "stdout",
     "output_type": "stream",
     "text": [
      "Valor p: 3.35873207971604e-07\n",
      "Se rechaza la hipótesis nula: hay una diferencia significativa entre las medianas de las muestras.\n"
     ]
    }
   ],
   "source": [
    "p_value = mannwhitneyu(out_calls_oper_missed_call, out_calls_oper_waiting_time, alternative='two-sided')[1]\n",
    "\n",
    "# Muestra los resultados\n",
    "alpha = 0.05\n",
    "\n",
    "print(\"Valor p:\", p_value)\n",
    "\n",
    "if p_value < alpha:\n",
    "    print(\"Se rechaza la hipótesis nula: hay una diferencia significativa entre las medianas de las muestras.\")\n",
    "else:\n",
    "    print(\"No se rechaza la hipótesis nula: no hay una diferencia significativa entre las medianas de las muestras.\")"
   ]
  },
  {
   "cell_type": "markdown",
   "metadata": {},
   "source": [
    "Los operadores que son ineficientes en llamadas perdidas, tienen un comportamiento distinto en llamadas salientes respecto los operadores que son ineficientes en tiempos de espera."
   ]
  },
  {
   "cell_type": "markdown",
   "metadata": {},
   "source": [
    "### Los operadores ineficientes en llamadas perdidas tienen un comportamiento parecido para tiempos de espera, en comparación con los operadores ineficientes en llamadas salientes"
   ]
  },
  {
   "cell_type": "code",
   "execution_count": 38,
   "metadata": {},
   "outputs": [
    {
     "data": {
      "image/png": "[encoded data removed]",
      "text/plain": [
       "<Figure size 1400x600 with 2 Axes>"
      ]
     },
     "metadata": {},
     "output_type": "display_data"
    }
   ],
   "source": [
    "# Distribución de los datos\n",
    "fig, axes = plt.subplots(1, 2, figsize=(14, 6), sharey=True)\n",
    "\n",
    "# Tiempos de espera de operadores ineficientes en llamadas perdidas\n",
    "waiting_time_oper_missed_call = total_data[total_data[\"is_missed_call_inefficiency\"] == True][\"mean_waiting_time\"]\n",
    "sns.histplot(waiting_time_oper_missed_call, bins=20, ax=axes[0])\n",
    "axes[0].set_title(\"Tiempo de espera - Ineficiencia en Llamadas Perdidas\")\n",
    "axes[0].set_xlabel(\"Tiempos de espera (min)\")\n",
    "axes[0].set_ylabel(\"Frecuencia\")\n",
    "\n",
    "# Tiempos de espera de operadores ineficientes en llamadas salientes\n",
    "waiting_time_oper_out_calls = total_data[total_data[\"n_out_calls_inefficiency\"] == True][\"mean_waiting_time\"]\n",
    "sns.histplot(waiting_time_oper_out_calls, bins=20, ax=axes[1])\n",
    "axes[1].set_title(\"Tiempo de espera - Ineficiencia en Tiempos de Llamadas salientes\")\n",
    "axes[1].set_xlabel(\"Tiempos de espera (min)\")\n",
    "\n",
    "plt.tight_layout()\n",
    "plt.show()"
   ]
  },
  {
   "cell_type": "code",
   "execution_count": 39,
   "metadata": {},
   "outputs": [
    {
     "name": "stdout",
     "output_type": "stream",
     "text": [
      "Valor p: 2.103453461528855e-17\n",
      "Se rechaza la hipótesis nula: la muestra no tiene una distribución normal\n"
     ]
    }
   ],
   "source": [
    "# Test de shapiro para evaluar si \"waiting_time_oper_missed_call\" tiene distribución normal\n",
    "p_value = shapiro(waiting_time_oper_missed_call)[1]\n",
    "\n",
    "print(\"Valor p:\", p_value)\n",
    "\n",
    "alpha = 0.05\n",
    "if p_value > alpha:\n",
    "    print(\"No se rechaza la hipótesis nula: la muestra tiene una distribución normal\")\n",
    "else:\n",
    "    print(\"Se rechaza la hipótesis nula: la muestra no tiene una distribución normal\")"
   ]
  },
  {
   "cell_type": "code",
   "execution_count": 40,
   "metadata": {},
   "outputs": [
    {
     "name": "stdout",
     "output_type": "stream",
     "text": [
      "Valor p: 5.034583099515718e-18\n",
      "Se rechaza la hipótesis nula: la muestra no tiene una distribución normal\n"
     ]
    }
   ],
   "source": [
    "# Test de shapiro para evaluar si \"waiting_time_oper_out_calls\" tiene distribución normal\n",
    "p_value = shapiro(waiting_time_oper_out_calls)[1]\n",
    "\n",
    "print(\"Valor p:\", p_value)\n",
    "\n",
    "alpha = 0.05\n",
    "if p_value > alpha:\n",
    "    print(\"No se rechaza la hipótesis nula: la muestra tiene una distribución normal\")\n",
    "else:\n",
    "    print(\"Se rechaza la hipótesis nula: la muestra no tiene una distribución normal\")"
   ]
  },
  {
   "cell_type": "markdown",
   "metadata": {},
   "source": [
    "Las muestras no tienen una distribución normal, por lo que se realizará una prueba de mannwhitneyu"
   ]
  },
  {
   "cell_type": "code",
   "execution_count": 41,
   "metadata": {},
   "outputs": [
    {
     "name": "stdout",
     "output_type": "stream",
     "text": [
      "Valor p: 1.804506741104255e-38\n",
      "Se rechaza la hipótesis nula: hay una diferencia significativa entre las medianas de las muestras.\n"
     ]
    }
   ],
   "source": [
    "p_value = mannwhitneyu(waiting_time_oper_missed_call, waiting_time_oper_out_calls, alternative='two-sided')[1]\n",
    "\n",
    "# Muestra los resultados\n",
    "alpha = 0.05\n",
    "\n",
    "print(\"Valor p:\", p_value)\n",
    "\n",
    "if p_value < alpha:\n",
    "    print(\"Se rechaza la hipótesis nula: hay una diferencia significativa entre las medianas de las muestras.\")\n",
    "else:\n",
    "    print(\"No se rechaza la hipótesis nula: no hay una diferencia significativa entre las medianas de las muestras.\")"
   ]
  },
  {
   "cell_type": "markdown",
   "metadata": {},
   "source": [
    "Los operadores que son ineficientes en llamadas perdidas, tienen un comportamiento distinto en tiempos de espera respecto los operadores que son ineficientes en llamadas salientes."
   ]
  },
  {
   "cell_type": "markdown",
   "metadata": {},
   "source": [
    "### Los operadores ineficientes en tiempos de espera tienen un comportamiento parecido para llamadas perdidas, en comparación con los operadores ineficientes en llamadas salientes"
   ]
  },
  {
   "cell_type": "code",
   "execution_count": 42,
   "metadata": {},
   "outputs": [
    {
     "data": {
      "image/png": "[encoded data removed]",
      "text/plain": [
       "<Figure size 1400x600 with 2 Axes>"
      ]
     },
     "metadata": {},
     "output_type": "display_data"
    }
   ],
   "source": [
    "# Distribución de los datos\n",
    "fig, axes = plt.subplots(1, 2, figsize=(14, 6), sharey=True)\n",
    "\n",
    "# Llamadas perdidas de operadores ineficientes en tiempos de esperas, considerando valores menores al percentil 95\n",
    "missed_calls_oper_missed_call = total_data[(total_data[\"mean_waiting_time_inefficiency\"] == True) & (total_data[\"missed_calls\"] < 1047)][\"missed_calls\"]\n",
    "sns.histplot(missed_calls_oper_missed_call, bins=20, ax=axes[0])\n",
    "axes[0].set_title(\"Llamadas perdidas - Ineficiencia en Tiempos de espera\")\n",
    "axes[0].set_xlabel(\"Llamadas perdidas\")\n",
    "axes[0].set_ylabel(\"Frecuencia\")\n",
    "\n",
    "# Llamadas salientes de operadores ineficientes en tiempos de espera, considerando valores menores al percentil 95\n",
    "missed_calls_oper_out_calls = total_data[(total_data[\"n_out_calls_inefficiency\"] == True) & (total_data[\"missed_calls\"] < 1047)][\"missed_calls\"]\n",
    "sns.histplot(missed_calls_oper_out_calls, bins=20, ax=axes[1])\n",
    "axes[1].set_title(\"Llamadas perdidas - Ineficiencia en Tiempos de Llamadas salientes\")\n",
    "axes[1].set_xlabel(\"Llamadas perdidas\")\n",
    "\n",
    "plt.tight_layout()\n",
    "plt.show()"
   ]
  },
  {
   "cell_type": "code",
   "execution_count": 43,
   "metadata": {},
   "outputs": [
    {
     "name": "stdout",
     "output_type": "stream",
     "text": [
      "Valor p: 4.345610796008259e-05\n",
      "Se rechaza la hipótesis nula: la muestra no tiene una distribución normal\n"
     ]
    }
   ],
   "source": [
    "# Test de shapiro para evaluar si \"missed_calls_oper_missed_call\" tiene distribución normal\n",
    "p_value = shapiro(missed_calls_oper_missed_call)[1]\n",
    "\n",
    "print(\"Valor p:\", p_value)\n",
    "\n",
    "alpha = 0.05\n",
    "if p_value > alpha:\n",
    "    print(\"No se rechaza la hipótesis nula: la muestra tiene una distribución normal\")\n",
    "else:\n",
    "    print(\"Se rechaza la hipótesis nula: la muestra no tiene una distribución normal\")"
   ]
  },
  {
   "cell_type": "code",
   "execution_count": 44,
   "metadata": {},
   "outputs": [
    {
     "name": "stdout",
     "output_type": "stream",
     "text": [
      "Valor p: 2.980541864139037e-15\n",
      "Se rechaza la hipótesis nula: la muestra no tiene una distribución normal\n"
     ]
    }
   ],
   "source": [
    "# Test de shapiro para evaluar si \"missed_calls_oper_out_calls\" tiene distribución normal\n",
    "p_value = shapiro(missed_calls_oper_out_calls)[1]\n",
    "\n",
    "print(\"Valor p:\", p_value)\n",
    "\n",
    "alpha = 0.05\n",
    "if p_value > alpha:\n",
    "    print(\"No se rechaza la hipótesis nula: la muestra tiene una distribución normal\")\n",
    "else:\n",
    "    print(\"Se rechaza la hipótesis nula: la muestra no tiene una distribución normal\")"
   ]
  },
  {
   "cell_type": "markdown",
   "metadata": {},
   "source": [
    "Las muestras no tienen una distribución normal, por lo que se realizará una prueba de mannwhitneyu"
   ]
  },
  {
   "cell_type": "code",
   "execution_count": 45,
   "metadata": {},
   "outputs": [
    {
     "name": "stdout",
     "output_type": "stream",
     "text": [
      "Valor p: 1.7493142931526023e-29\n",
      "Se rechaza la hipótesis nula: hay una diferencia significativa entre las medianas de las muestras.\n"
     ]
    }
   ],
   "source": [
    "p_value = mannwhitneyu(missed_calls_oper_missed_call, missed_calls_oper_out_calls, alternative='two-sided')[1]\n",
    "\n",
    "# Muestra los resultados\n",
    "alpha = 0.05\n",
    "\n",
    "print(\"Valor p:\", p_value)\n",
    "\n",
    "if p_value < alpha:\n",
    "    print(\"Se rechaza la hipótesis nula: hay una diferencia significativa entre las medianas de las muestras.\")\n",
    "else:\n",
    "    print(\"No se rechaza la hipótesis nula: no hay una diferencia significativa entre las medianas de las muestras.\")"
   ]
  },
  {
   "cell_type": "markdown",
   "metadata": {},
   "source": [
    "## Conclusiones"
   ]
  },
  {
   "cell_type": "markdown",
   "metadata": {},
   "source": [
    "Los datos iniciales muestran valores bastante atípicos, sin embargo, no se eliminaron para poder obtener las métricas correspondientes.\n",
    "\n",
    "Las métricas establecidas para definir si un operador es ineficiente fueron las siguientes:\n",
    "Se considerará ineficiente si cumple con al menos 2 de las 3 métricas:\n",
    "- Más de 340 llamadas perdidas\n",
    "- Mas de 3.8 minutos promedio de espera\n",
    "- Menos de 3 llamadas salientes\n",
    "\n",
    "Considerando las métricas anteriores, se obtuvo que:\n",
    "- Hay 175 operadores ineficicentes por llamadas perdidas\n",
    "- Hay 214 operadores ineficicentes por tiempo de espera\n",
    "- Hay 88 operadores ineficicentes por llamadas salientes\n",
    "\n",
    "Por tanto puede haber operadores que sean ineficientes en mas de una métrica_\n",
    "- Hay 331 operadores que son ineficientes en al menos una métrica.\n",
    "- Hay 146 operadores que son ineficientes en al menos dos métricas.\n",
    "- No hay operadores que sean ineficientes en las 3 métricas.\n",
    "\n",
    "De los 1,092 operadores que hay 331 operadores que son ineficientes es al menos una métrica, esto representa el 30% del personal, por lo que se tiene que poner atención en la causa raíz, recomendariía comenzar a enfocarse en el tiempo de espera, que es donde mas se presentan las ineficiencias, posteriormente a los operadores con mas llamadas perdidas y finalmente los operadores con menos llamadas salientes.\n",
    "\n",
    "Saber la causa raíz y realizar acciones para mejorar el rendimiento de los operadores puede ayudar a disminuir el índice de ineficiiencias presentadas.\n",
    "\n",
    "Por otro lado, las hipótesis nos muestran que operadores ineficientes de dos métrcias distintas, presenten un comportamiento similar para la 3ra métrica."
   ]
  }
 ],
 "metadata": {
  "ExecuteTimeLog": [
   {
    "duration": 293,
    "start_time": "2024-11-01T21:36:14.261Z"
   },
   {
    "duration": 511,
    "start_time": "2024-11-01T21:39:23.029Z"
   },
   {
    "duration": 61,
    "start_time": "2024-11-01T21:41:58.543Z"
   },
   {
    "duration": 508,
    "start_time": "2024-11-01T21:45:34.449Z"
   },
   {
    "duration": 846,
    "start_time": "2024-11-01T21:45:56.390Z"
   },
   {
    "duration": 993,
    "start_time": "2024-11-01T21:46:49.928Z"
   },
   {
    "duration": 344,
    "start_time": "2024-11-02T00:24:36.132Z"
   },
   {
    "duration": 1110,
    "start_time": "2024-11-02T00:24:36.478Z"
   },
   {
    "duration": 21,
    "start_time": "2024-11-02T00:25:08.953Z"
   },
   {
    "duration": 5,
    "start_time": "2024-11-02T01:40:23.263Z"
   },
   {
    "duration": 76,
    "start_time": "2024-11-02T01:45:25.367Z"
   },
   {
    "duration": 4,
    "start_time": "2024-11-02T01:45:51.454Z"
   },
   {
    "duration": 67,
    "start_time": "2024-11-02T01:45:53.369Z"
   },
   {
    "duration": 295,
    "start_time": "2024-11-03T01:27:23.689Z"
   },
   {
    "duration": 1125,
    "start_time": "2024-11-03T01:27:24.521Z"
   },
   {
    "duration": 22,
    "start_time": "2024-11-03T01:27:25.648Z"
   },
   {
    "duration": 3,
    "start_time": "2024-11-03T01:27:25.886Z"
   },
   {
    "duration": 62,
    "start_time": "2024-11-03T01:27:26.781Z"
   },
   {
    "duration": 301,
    "start_time": "2024-11-03T02:34:08.291Z"
   },
   {
    "duration": 1112,
    "start_time": "2024-11-03T02:34:08.594Z"
   },
   {
    "duration": 20,
    "start_time": "2024-11-03T02:34:09.707Z"
   },
   {
    "duration": 3,
    "start_time": "2024-11-03T02:34:09.729Z"
   },
   {
    "duration": 65,
    "start_time": "2024-11-03T02:34:09.734Z"
   },
   {
    "duration": 6,
    "start_time": "2024-11-03T02:34:48.206Z"
   },
   {
    "duration": 3,
    "start_time": "2024-11-03T02:37:08.349Z"
   },
   {
    "duration": 476,
    "start_time": "2024-11-03T02:37:10.549Z"
   },
   {
    "duration": 3,
    "start_time": "2024-11-03T02:37:50.201Z"
   },
   {
    "duration": 66,
    "start_time": "2024-11-03T02:37:52.011Z"
   },
   {
    "duration": 60,
    "start_time": "2024-11-03T03:28:34.062Z"
   },
   {
    "duration": 78,
    "start_time": "2024-11-03T03:29:42.578Z"
   },
   {
    "duration": 65,
    "start_time": "2024-11-03T03:29:49.432Z"
   },
   {
    "duration": 1264,
    "start_time": "2024-11-03T03:37:14.113Z"
   },
   {
    "duration": 55,
    "start_time": "2024-11-03T03:37:18.561Z"
   },
   {
    "duration": 1200,
    "start_time": "2024-11-03T03:38:34.136Z"
   },
   {
    "duration": 1525,
    "start_time": "2024-11-03T03:38:41.834Z"
   },
   {
    "duration": 762,
    "start_time": "2024-11-03T03:39:00.269Z"
   },
   {
    "duration": 758,
    "start_time": "2024-11-03T03:42:53.507Z"
   },
   {
    "duration": 1170,
    "start_time": "2024-11-03T03:43:06.853Z"
   },
   {
    "duration": 71,
    "start_time": "2024-11-03T03:43:12.106Z"
   },
   {
    "duration": 732,
    "start_time": "2024-11-03T03:44:01.721Z"
   },
   {
    "duration": 794,
    "start_time": "2024-11-03T03:44:11.126Z"
   },
   {
    "duration": 757,
    "start_time": "2024-11-03T03:44:24.654Z"
   },
   {
    "duration": 1242,
    "start_time": "2024-11-03T03:44:58.044Z"
   },
   {
    "duration": 67,
    "start_time": "2024-11-03T03:45:01.507Z"
   },
   {
    "duration": 3,
    "start_time": "2024-11-03T03:50:21.148Z"
   },
   {
    "duration": 13,
    "start_time": "2024-11-03T03:50:59.290Z"
   },
   {
    "duration": 11,
    "start_time": "2024-11-03T03:51:02.935Z"
   },
   {
    "duration": 5,
    "start_time": "2024-11-03T03:51:06.152Z"
   },
   {
    "duration": 4,
    "start_time": "2024-11-03T03:51:12.044Z"
   },
   {
    "duration": 4,
    "start_time": "2024-11-03T03:53:05.606Z"
   },
   {
    "duration": 5,
    "start_time": "2024-11-03T03:55:41.945Z"
   },
   {
    "duration": 4,
    "start_time": "2024-11-03T03:57:19.428Z"
   },
   {
    "duration": 3,
    "start_time": "2024-11-03T03:57:24.362Z"
   },
   {
    "duration": 465,
    "start_time": "2024-11-03T04:10:23.825Z"
   },
   {
    "duration": 7,
    "start_time": "2024-11-03T04:11:07.101Z"
   },
   {
    "duration": 65,
    "start_time": "2024-11-03T04:11:31.359Z"
   },
   {
    "duration": 1328,
    "start_time": "2024-11-03T04:16:52.552Z"
   },
   {
    "duration": 62,
    "start_time": "2024-11-03T04:16:57.326Z"
   },
   {
    "duration": 62,
    "start_time": "2024-11-03T04:17:10.529Z"
   },
   {
    "duration": 327,
    "start_time": "2024-11-03T23:51:34.837Z"
   },
   {
    "duration": 1265,
    "start_time": "2024-11-03T23:51:35.167Z"
   },
   {
    "duration": 21,
    "start_time": "2024-11-03T23:51:36.435Z"
   },
   {
    "duration": 3,
    "start_time": "2024-11-03T23:51:36.458Z"
   },
   {
    "duration": 63,
    "start_time": "2024-11-03T23:51:36.463Z"
   },
   {
    "duration": 6,
    "start_time": "2024-11-03T23:51:36.528Z"
   },
   {
    "duration": 63,
    "start_time": "2024-11-03T23:51:36.535Z"
   },
   {
    "duration": 209,
    "start_time": "2024-11-03T23:53:27.959Z"
   },
   {
    "duration": 13,
    "start_time": "2024-11-03T23:53:31.913Z"
   },
   {
    "duration": 2320,
    "start_time": "2024-11-03T23:53:42.782Z"
   },
   {
    "duration": 4150,
    "start_time": "2024-11-03T23:53:47.161Z"
   },
   {
    "duration": 2,
    "start_time": "2024-11-03T23:54:01.622Z"
   },
   {
    "duration": 6882,
    "start_time": "2024-11-03T23:54:05.251Z"
   },
   {
    "duration": 7,
    "start_time": "2024-11-03T23:56:23.929Z"
   },
   {
    "duration": 2638,
    "start_time": "2024-11-03T23:56:35.423Z"
   },
   {
    "duration": 2798,
    "start_time": "2024-11-03T23:56:45.657Z"
   },
   {
    "duration": 802,
    "start_time": "2024-11-03T23:57:04.085Z"
   },
   {
    "duration": 2770,
    "start_time": "2024-11-03T23:57:11.941Z"
   },
   {
    "duration": 26,
    "start_time": "2024-11-03T23:59:25.952Z"
   },
   {
    "duration": 5,
    "start_time": "2024-11-04T00:01:01.677Z"
   },
   {
    "duration": 1274,
    "start_time": "2024-11-04T00:01:11.840Z"
   },
   {
    "duration": 21,
    "start_time": "2024-11-04T00:01:20.347Z"
   },
   {
    "duration": 5,
    "start_time": "2024-11-04T00:07:59.099Z"
   },
   {
    "duration": 4,
    "start_time": "2024-11-04T00:08:11.181Z"
   },
   {
    "duration": 5,
    "start_time": "2024-11-04T00:08:47.664Z"
   },
   {
    "duration": 71,
    "start_time": "2024-11-04T00:08:51.196Z"
   },
   {
    "duration": 5,
    "start_time": "2024-11-04T00:09:31.373Z"
   },
   {
    "duration": 74,
    "start_time": "2024-11-04T00:09:35.927Z"
   },
   {
    "duration": 833,
    "start_time": "2024-11-04T00:09:41.402Z"
   },
   {
    "duration": 1396,
    "start_time": "2024-11-04T00:09:42.238Z"
   },
   {
    "duration": 20,
    "start_time": "2024-11-04T00:09:43.636Z"
   },
   {
    "duration": 3,
    "start_time": "2024-11-04T00:09:43.658Z"
   },
   {
    "duration": 65,
    "start_time": "2024-11-04T00:09:43.665Z"
   },
   {
    "duration": 6,
    "start_time": "2024-11-04T00:09:43.732Z"
   },
   {
    "duration": 6,
    "start_time": "2024-11-04T00:09:43.740Z"
   },
   {
    "duration": 87,
    "start_time": "2024-11-04T00:09:43.747Z"
   },
   {
    "duration": 19,
    "start_time": "2024-11-04T00:09:43.836Z"
   },
   {
    "duration": 2634,
    "start_time": "2024-11-04T00:09:43.858Z"
   },
   {
    "duration": 2655,
    "start_time": "2024-11-04T00:10:58.066Z"
   },
   {
    "duration": 697,
    "start_time": "2024-11-04T00:11:56.930Z"
   },
   {
    "duration": 44,
    "start_time": "2024-11-04T00:12:02.577Z"
   },
   {
    "duration": 18,
    "start_time": "2024-11-04T00:12:09.357Z"
   },
   {
    "duration": 84,
    "start_time": "2024-11-04T00:12:28.223Z"
   },
   {
    "duration": 85,
    "start_time": "2024-11-04T00:12:35.275Z"
   },
   {
    "duration": 85,
    "start_time": "2024-11-04T00:15:20.797Z"
   },
   {
    "duration": 71,
    "start_time": "2024-11-04T00:16:14.366Z"
   },
   {
    "duration": 91,
    "start_time": "2024-11-04T00:17:14.901Z"
   },
   {
    "duration": 97,
    "start_time": "2024-11-04T00:20:11.815Z"
   },
   {
    "duration": 96,
    "start_time": "2024-11-04T00:20:33.106Z"
   },
   {
    "duration": 113,
    "start_time": "2024-11-04T00:20:38.985Z"
   },
   {
    "duration": 105,
    "start_time": "2024-11-04T00:20:51.204Z"
   },
   {
    "duration": 3,
    "start_time": "2024-11-04T00:22:19.428Z"
   },
   {
    "duration": 46,
    "start_time": "2024-11-04T00:22:24.869Z"
   },
   {
    "duration": 132,
    "start_time": "2024-11-04T00:22:34.446Z"
   },
   {
    "duration": 224,
    "start_time": "2024-11-04T00:23:47.940Z"
   },
   {
    "duration": 136,
    "start_time": "2024-11-04T00:23:53.928Z"
   },
   {
    "duration": 156,
    "start_time": "2024-11-04T00:24:21.039Z"
   },
   {
    "duration": 14,
    "start_time": "2024-11-04T00:29:31.377Z"
   },
   {
    "duration": 28,
    "start_time": "2024-11-04T00:29:38.548Z"
   },
   {
    "duration": 3,
    "start_time": "2024-11-04T00:29:53.389Z"
   },
   {
    "duration": 3,
    "start_time": "2024-11-04T00:29:58.991Z"
   },
   {
    "duration": 4,
    "start_time": "2024-11-04T00:30:02.668Z"
   },
   {
    "duration": 4,
    "start_time": "2024-11-04T00:31:19.410Z"
   },
   {
    "duration": 6,
    "start_time": "2024-11-04T00:31:22.535Z"
   },
   {
    "duration": 6,
    "start_time": "2024-11-04T00:31:38.909Z"
   },
   {
    "duration": 6,
    "start_time": "2024-11-04T00:31:45.321Z"
   },
   {
    "duration": 6,
    "start_time": "2024-11-04T00:32:00.283Z"
   },
   {
    "duration": 9,
    "start_time": "2024-11-04T00:32:06.229Z"
   },
   {
    "duration": 6,
    "start_time": "2024-11-04T00:33:22.418Z"
   },
   {
    "duration": 7,
    "start_time": "2024-11-04T00:33:39.584Z"
   },
   {
    "duration": 8,
    "start_time": "2024-11-04T00:34:22.211Z"
   },
   {
    "duration": 4,
    "start_time": "2024-11-04T00:36:11.818Z"
   },
   {
    "duration": 5,
    "start_time": "2024-11-04T00:36:52.801Z"
   },
   {
    "duration": 5,
    "start_time": "2024-11-04T00:37:08.044Z"
   },
   {
    "duration": 5,
    "start_time": "2024-11-04T00:37:16.891Z"
   },
   {
    "duration": 2988,
    "start_time": "2024-11-04T00:48:53.454Z"
   },
   {
    "duration": 108,
    "start_time": "2024-11-04T00:49:15.383Z"
   },
   {
    "duration": 121,
    "start_time": "2024-11-04T00:49:33.119Z"
   },
   {
    "duration": 125,
    "start_time": "2024-11-04T00:49:48.315Z"
   },
   {
    "duration": 2,
    "start_time": "2024-11-04T00:51:50.019Z"
   },
   {
    "duration": 13,
    "start_time": "2024-11-04T00:53:26.315Z"
   },
   {
    "duration": 105,
    "start_time": "2024-11-04T00:54:14.747Z"
   },
   {
    "duration": 186,
    "start_time": "2024-11-04T00:55:54.150Z"
   },
   {
    "duration": 4,
    "start_time": "2024-11-04T00:57:16.747Z"
   },
   {
    "duration": 334,
    "start_time": "2024-11-04T01:03:17.340Z"
   },
   {
    "duration": 19,
    "start_time": "2024-11-04T01:08:02.065Z"
   },
   {
    "duration": 18,
    "start_time": "2024-11-04T01:18:40.393Z"
   },
   {
    "duration": 27,
    "start_time": "2024-11-04T01:19:41.156Z"
   },
   {
    "duration": 27,
    "start_time": "2024-11-04T01:19:44.226Z"
   },
   {
    "duration": 211,
    "start_time": "2024-11-04T01:19:56.111Z"
   },
   {
    "duration": 104,
    "start_time": "2024-11-04T01:20:16.851Z"
   },
   {
    "duration": 103,
    "start_time": "2024-11-04T01:20:53.515Z"
   },
   {
    "duration": 11,
    "start_time": "2024-11-04T01:21:05.300Z"
   },
   {
    "duration": 24427,
    "start_time": "2024-11-04T01:22:31.229Z"
   },
   {
    "duration": 164,
    "start_time": "2024-11-04T01:27:06.022Z"
   },
   {
    "duration": 68,
    "start_time": "2024-11-04T01:27:18.863Z"
   },
   {
    "duration": 4,
    "start_time": "2024-11-04T01:27:35.142Z"
   },
   {
    "duration": 9,
    "start_time": "2024-11-04T01:28:33.419Z"
   },
   {
    "duration": 8,
    "start_time": "2024-11-04T01:29:10.497Z"
   },
   {
    "duration": 20,
    "start_time": "2024-11-04T01:29:15.042Z"
   },
   {
    "duration": 18,
    "start_time": "2024-11-04T01:29:17.872Z"
   },
   {
    "duration": 40,
    "start_time": "2024-11-04T01:30:26.649Z"
   },
   {
    "duration": 4,
    "start_time": "2024-11-04T01:31:29.516Z"
   },
   {
    "duration": 4,
    "start_time": "2024-11-04T01:31:45.959Z"
   },
   {
    "duration": 4,
    "start_time": "2024-11-04T01:31:55.396Z"
   },
   {
    "duration": 372,
    "start_time": "2024-11-04T01:32:12.279Z"
   },
   {
    "duration": 19,
    "start_time": "2024-11-04T01:33:42.352Z"
   },
   {
    "duration": 19,
    "start_time": "2024-11-04T01:35:30.186Z"
   },
   {
    "duration": 97,
    "start_time": "2024-11-04T01:37:07.592Z"
   },
   {
    "duration": 99,
    "start_time": "2024-11-04T01:37:15.920Z"
   },
   {
    "duration": 94,
    "start_time": "2024-11-04T01:37:38.194Z"
   },
   {
    "duration": 5,
    "start_time": "2024-11-04T01:39:13.337Z"
   },
   {
    "duration": 4,
    "start_time": "2024-11-04T01:39:17.292Z"
   },
   {
    "duration": 5,
    "start_time": "2024-11-04T01:39:22.262Z"
   },
   {
    "duration": 4,
    "start_time": "2024-11-04T01:39:32.250Z"
   },
   {
    "duration": 6,
    "start_time": "2024-11-04T01:41:14.281Z"
   },
   {
    "duration": 4,
    "start_time": "2024-11-04T01:43:56.797Z"
   },
   {
    "duration": 5,
    "start_time": "2024-11-04T01:44:41.839Z"
   },
   {
    "duration": 5,
    "start_time": "2024-11-04T01:44:50.166Z"
   },
   {
    "duration": 5,
    "start_time": "2024-11-04T01:44:54.258Z"
   },
   {
    "duration": 4,
    "start_time": "2024-11-04T01:45:02.364Z"
   },
   {
    "duration": 5,
    "start_time": "2024-11-04T01:45:12.729Z"
   },
   {
    "duration": 4,
    "start_time": "2024-11-04T01:46:37.988Z"
   },
   {
    "duration": 2569,
    "start_time": "2024-11-04T02:35:59.259Z"
   },
   {
    "duration": 1259,
    "start_time": "2024-11-04T02:36:01.831Z"
   },
   {
    "duration": 21,
    "start_time": "2024-11-04T02:36:03.091Z"
   },
   {
    "duration": 3,
    "start_time": "2024-11-04T02:36:03.114Z"
   },
   {
    "duration": 67,
    "start_time": "2024-11-04T02:36:03.119Z"
   },
   {
    "duration": 6,
    "start_time": "2024-11-04T02:36:03.188Z"
   },
   {
    "duration": 4,
    "start_time": "2024-11-04T02:36:03.210Z"
   },
   {
    "duration": 72,
    "start_time": "2024-11-04T02:36:03.216Z"
   },
   {
    "duration": 31,
    "start_time": "2024-11-04T02:36:03.290Z"
   },
   {
    "duration": 176,
    "start_time": "2024-11-04T02:36:03.322Z"
   },
   {
    "duration": 2689,
    "start_time": "2024-11-04T02:36:03.500Z"
   },
   {
    "duration": 105,
    "start_time": "2024-11-04T02:36:06.191Z"
   },
   {
    "duration": 119,
    "start_time": "2024-11-04T02:36:06.298Z"
   },
   {
    "duration": 110,
    "start_time": "2024-11-04T02:36:06.420Z"
   },
   {
    "duration": 104,
    "start_time": "2024-11-04T02:36:06.531Z"
   },
   {
    "duration": 6,
    "start_time": "2024-11-04T02:36:06.637Z"
   },
   {
    "duration": 664,
    "start_time": "2024-11-04T02:36:06.645Z"
   },
   {
    "duration": 0,
    "start_time": "2024-11-04T02:36:07.310Z"
   },
   {
    "duration": 0,
    "start_time": "2024-11-04T02:36:07.312Z"
   },
   {
    "duration": 0,
    "start_time": "2024-11-04T02:36:07.313Z"
   },
   {
    "duration": 0,
    "start_time": "2024-11-04T02:36:07.315Z"
   },
   {
    "duration": 5,
    "start_time": "2024-11-04T02:37:22.123Z"
   },
   {
    "duration": 173,
    "start_time": "2024-11-04T02:37:28.466Z"
   },
   {
    "duration": 4,
    "start_time": "2024-11-04T02:37:28.642Z"
   },
   {
    "duration": 3,
    "start_time": "2024-11-04T02:37:28.743Z"
   },
   {
    "duration": 4,
    "start_time": "2024-11-04T02:37:32.000Z"
   },
   {
    "duration": 15,
    "start_time": "2024-11-04T02:52:36.255Z"
   },
   {
    "duration": 8,
    "start_time": "2024-11-04T02:52:46.343Z"
   },
   {
    "duration": 24,
    "start_time": "2024-11-04T02:53:19.759Z"
   },
   {
    "duration": 1175,
    "start_time": "2024-11-04T02:53:40.911Z"
   },
   {
    "duration": 15,
    "start_time": "2024-11-04T02:54:36.754Z"
   },
   {
    "duration": 76,
    "start_time": "2024-11-04T02:54:38.432Z"
   },
   {
    "duration": 2617,
    "start_time": "2024-11-04T17:58:59.784Z"
   },
   {
    "duration": 1376,
    "start_time": "2024-11-04T17:59:02.403Z"
   },
   {
    "duration": 20,
    "start_time": "2024-11-04T17:59:03.781Z"
   },
   {
    "duration": 3,
    "start_time": "2024-11-04T17:59:03.803Z"
   },
   {
    "duration": 75,
    "start_time": "2024-11-04T17:59:03.809Z"
   },
   {
    "duration": 6,
    "start_time": "2024-11-04T17:59:03.887Z"
   },
   {
    "duration": 14,
    "start_time": "2024-11-04T17:59:03.895Z"
   },
   {
    "duration": 97,
    "start_time": "2024-11-04T17:59:03.910Z"
   },
   {
    "duration": 18,
    "start_time": "2024-11-04T17:59:04.009Z"
   },
   {
    "duration": 166,
    "start_time": "2024-11-04T17:59:04.029Z"
   },
   {
    "duration": 1843,
    "start_time": "2024-11-04T17:59:04.198Z"
   },
   {
    "duration": 114,
    "start_time": "2024-11-04T17:59:06.043Z"
   },
   {
    "duration": 101,
    "start_time": "2024-11-04T17:59:06.159Z"
   },
   {
    "duration": 112,
    "start_time": "2024-11-04T17:59:06.269Z"
   },
   {
    "duration": 107,
    "start_time": "2024-11-04T17:59:06.383Z"
   },
   {
    "duration": 5,
    "start_time": "2024-11-04T17:59:06.492Z"
   },
   {
    "duration": 5,
    "start_time": "2024-11-04T17:59:06.499Z"
   },
   {
    "duration": 198,
    "start_time": "2024-11-04T17:59:06.506Z"
   },
   {
    "duration": 4,
    "start_time": "2024-11-04T17:59:06.707Z"
   },
   {
    "duration": 4,
    "start_time": "2024-11-04T17:59:06.713Z"
   },
   {
    "duration": 4,
    "start_time": "2024-11-04T17:59:06.718Z"
   },
   {
    "duration": 128,
    "start_time": "2024-11-04T18:20:12.796Z"
   },
   {
    "duration": 379,
    "start_time": "2024-11-04T18:20:25.921Z"
   },
   {
    "duration": 4,
    "start_time": "2024-11-04T18:21:01.621Z"
   },
   {
    "duration": 12,
    "start_time": "2024-11-04T18:23:44.298Z"
   },
   {
    "duration": 72,
    "start_time": "2024-11-04T18:23:46.563Z"
   },
   {
    "duration": 789,
    "start_time": "2024-11-04T18:23:56.041Z"
   },
   {
    "duration": 1452,
    "start_time": "2024-11-04T18:23:56.832Z"
   },
   {
    "duration": 21,
    "start_time": "2024-11-04T18:23:58.285Z"
   },
   {
    "duration": 3,
    "start_time": "2024-11-04T18:23:58.309Z"
   },
   {
    "duration": 74,
    "start_time": "2024-11-04T18:23:58.314Z"
   },
   {
    "duration": 6,
    "start_time": "2024-11-04T18:23:58.391Z"
   },
   {
    "duration": 13,
    "start_time": "2024-11-04T18:23:58.398Z"
   },
   {
    "duration": 87,
    "start_time": "2024-11-04T18:23:58.412Z"
   },
   {
    "duration": 18,
    "start_time": "2024-11-04T18:23:58.501Z"
   },
   {
    "duration": 168,
    "start_time": "2024-11-04T18:23:58.522Z"
   },
   {
    "duration": 2553,
    "start_time": "2024-11-04T18:23:58.692Z"
   },
   {
    "duration": 103,
    "start_time": "2024-11-04T18:24:01.247Z"
   },
   {
    "duration": 104,
    "start_time": "2024-11-04T18:24:01.352Z"
   },
   {
    "duration": 107,
    "start_time": "2024-11-04T18:24:01.458Z"
   },
   {
    "duration": 18,
    "start_time": "2024-11-04T18:24:01.570Z"
   },
   {
    "duration": 4,
    "start_time": "2024-11-04T18:24:01.590Z"
   },
   {
    "duration": 113,
    "start_time": "2024-11-04T18:24:01.596Z"
   },
   {
    "duration": 5,
    "start_time": "2024-11-04T18:24:01.711Z"
   },
   {
    "duration": 8,
    "start_time": "2024-11-04T18:24:01.717Z"
   },
   {
    "duration": 113,
    "start_time": "2024-11-04T18:24:01.727Z"
   },
   {
    "duration": 4,
    "start_time": "2024-11-04T18:24:01.842Z"
   },
   {
    "duration": 4,
    "start_time": "2024-11-04T18:24:01.848Z"
   },
   {
    "duration": 19,
    "start_time": "2024-11-04T18:24:01.853Z"
   },
   {
    "duration": 279,
    "start_time": "2024-11-04T18:26:32.560Z"
   },
   {
    "duration": 2,
    "start_time": "2024-11-04T18:26:44.460Z"
   },
   {
    "duration": 25,
    "start_time": "2024-11-04T18:26:53.586Z"
   },
   {
    "duration": 830,
    "start_time": "2024-11-04T18:27:11.272Z"
   },
   {
    "duration": 1295,
    "start_time": "2024-11-04T18:27:12.104Z"
   },
   {
    "duration": 20,
    "start_time": "2024-11-04T18:27:13.401Z"
   },
   {
    "duration": 3,
    "start_time": "2024-11-04T18:27:13.423Z"
   },
   {
    "duration": 64,
    "start_time": "2024-11-04T18:27:13.428Z"
   },
   {
    "duration": 7,
    "start_time": "2024-11-04T18:27:13.494Z"
   },
   {
    "duration": 234,
    "start_time": "2024-11-04T18:27:13.502Z"
   },
   {
    "duration": 0,
    "start_time": "2024-11-04T18:27:13.739Z"
   },
   {
    "duration": 0,
    "start_time": "2024-11-04T18:27:13.740Z"
   },
   {
    "duration": 0,
    "start_time": "2024-11-04T18:27:13.742Z"
   },
   {
    "duration": 0,
    "start_time": "2024-11-04T18:27:13.744Z"
   },
   {
    "duration": 0,
    "start_time": "2024-11-04T18:27:13.745Z"
   },
   {
    "duration": 0,
    "start_time": "2024-11-04T18:27:13.747Z"
   },
   {
    "duration": 0,
    "start_time": "2024-11-04T18:27:13.748Z"
   },
   {
    "duration": 0,
    "start_time": "2024-11-04T18:27:13.750Z"
   },
   {
    "duration": 0,
    "start_time": "2024-11-04T18:27:13.751Z"
   },
   {
    "duration": 0,
    "start_time": "2024-11-04T18:27:13.752Z"
   },
   {
    "duration": 0,
    "start_time": "2024-11-04T18:27:13.770Z"
   },
   {
    "duration": 0,
    "start_time": "2024-11-04T18:27:13.771Z"
   },
   {
    "duration": 0,
    "start_time": "2024-11-04T18:27:13.773Z"
   },
   {
    "duration": 0,
    "start_time": "2024-11-04T18:27:13.774Z"
   },
   {
    "duration": 0,
    "start_time": "2024-11-04T18:27:13.776Z"
   },
   {
    "duration": 0,
    "start_time": "2024-11-04T18:27:13.777Z"
   },
   {
    "duration": 21,
    "start_time": "2024-11-04T18:28:46.524Z"
   },
   {
    "duration": 84,
    "start_time": "2024-11-04T18:28:49.354Z"
   },
   {
    "duration": 810,
    "start_time": "2024-11-04T18:29:02.780Z"
   },
   {
    "duration": 1238,
    "start_time": "2024-11-04T18:29:03.593Z"
   },
   {
    "duration": 20,
    "start_time": "2024-11-04T18:29:04.833Z"
   },
   {
    "duration": 3,
    "start_time": "2024-11-04T18:29:04.855Z"
   },
   {
    "duration": 64,
    "start_time": "2024-11-04T18:29:04.861Z"
   },
   {
    "duration": 7,
    "start_time": "2024-11-04T18:29:04.927Z"
   },
   {
    "duration": 14,
    "start_time": "2024-11-04T18:29:04.936Z"
   },
   {
    "duration": 92,
    "start_time": "2024-11-04T18:29:04.951Z"
   },
   {
    "duration": 31,
    "start_time": "2024-11-04T18:29:05.045Z"
   },
   {
    "duration": 158,
    "start_time": "2024-11-04T18:29:05.078Z"
   },
   {
    "duration": 2598,
    "start_time": "2024-11-04T18:29:05.238Z"
   },
   {
    "duration": 104,
    "start_time": "2024-11-04T18:29:07.838Z"
   },
   {
    "duration": 104,
    "start_time": "2024-11-04T18:29:07.944Z"
   },
   {
    "duration": 113,
    "start_time": "2024-11-04T18:29:08.051Z"
   },
   {
    "duration": 20,
    "start_time": "2024-11-04T18:29:08.170Z"
   },
   {
    "duration": 3,
    "start_time": "2024-11-04T18:29:08.192Z"
   },
   {
    "duration": 110,
    "start_time": "2024-11-04T18:29:08.197Z"
   },
   {
    "duration": 4,
    "start_time": "2024-11-04T18:29:08.308Z"
   },
   {
    "duration": 5,
    "start_time": "2024-11-04T18:29:08.314Z"
   },
   {
    "duration": 107,
    "start_time": "2024-11-04T18:29:08.320Z"
   },
   {
    "duration": 4,
    "start_time": "2024-11-04T18:29:08.429Z"
   },
   {
    "duration": 4,
    "start_time": "2024-11-04T18:29:08.435Z"
   },
   {
    "duration": 5,
    "start_time": "2024-11-04T18:29:08.441Z"
   },
   {
    "duration": 8,
    "start_time": "2024-11-04T18:39:04.201Z"
   },
   {
    "duration": 4,
    "start_time": "2024-11-04T19:04:23.247Z"
   },
   {
    "duration": 111,
    "start_time": "2024-11-04T19:04:27.075Z"
   },
   {
    "duration": 105,
    "start_time": "2024-11-04T19:04:37.025Z"
   },
   {
    "duration": 23,
    "start_time": "2024-11-04T19:04:42.137Z"
   },
   {
    "duration": 3,
    "start_time": "2024-11-04T19:07:42.574Z"
   },
   {
    "duration": 11,
    "start_time": "2024-11-04T19:07:46.328Z"
   },
   {
    "duration": 14,
    "start_time": "2024-11-04T19:08:00.844Z"
   },
   {
    "duration": 841,
    "start_time": "2024-11-04T19:08:09.210Z"
   },
   {
    "duration": 1274,
    "start_time": "2024-11-04T19:08:10.053Z"
   },
   {
    "duration": 20,
    "start_time": "2024-11-04T19:08:11.329Z"
   },
   {
    "duration": 3,
    "start_time": "2024-11-04T19:08:11.352Z"
   },
   {
    "duration": 72,
    "start_time": "2024-11-04T19:08:11.357Z"
   },
   {
    "duration": 8,
    "start_time": "2024-11-04T19:08:11.431Z"
   },
   {
    "duration": 12,
    "start_time": "2024-11-04T19:08:11.440Z"
   },
   {
    "duration": 87,
    "start_time": "2024-11-04T19:08:11.454Z"
   },
   {
    "duration": 36,
    "start_time": "2024-11-04T19:08:11.543Z"
   },
   {
    "duration": 164,
    "start_time": "2024-11-04T19:08:11.583Z"
   },
   {
    "duration": 2338,
    "start_time": "2024-11-04T19:08:11.749Z"
   },
   {
    "duration": 96,
    "start_time": "2024-11-04T19:08:14.089Z"
   },
   {
    "duration": 109,
    "start_time": "2024-11-04T19:08:14.187Z"
   },
   {
    "duration": 106,
    "start_time": "2024-11-04T19:08:14.297Z"
   },
   {
    "duration": 6,
    "start_time": "2024-11-04T19:08:14.405Z"
   },
   {
    "duration": 4,
    "start_time": "2024-11-04T19:08:14.412Z"
   },
   {
    "duration": 157,
    "start_time": "2024-11-04T19:08:14.418Z"
   },
   {
    "duration": 4,
    "start_time": "2024-11-04T19:08:14.577Z"
   },
   {
    "duration": 4,
    "start_time": "2024-11-04T19:08:14.583Z"
   },
   {
    "duration": 109,
    "start_time": "2024-11-04T19:08:14.589Z"
   },
   {
    "duration": 4,
    "start_time": "2024-11-04T19:08:14.700Z"
   },
   {
    "duration": 4,
    "start_time": "2024-11-04T19:08:14.706Z"
   },
   {
    "duration": 4,
    "start_time": "2024-11-04T19:08:14.711Z"
   },
   {
    "duration": 21,
    "start_time": "2024-11-04T19:11:21.097Z"
   },
   {
    "duration": 745,
    "start_time": "2024-11-04T19:11:43.347Z"
   },
   {
    "duration": 1242,
    "start_time": "2024-11-04T19:11:44.094Z"
   },
   {
    "duration": 21,
    "start_time": "2024-11-04T19:11:45.338Z"
   },
   {
    "duration": 3,
    "start_time": "2024-11-04T19:11:45.361Z"
   },
   {
    "duration": 69,
    "start_time": "2024-11-04T19:11:48.200Z"
   },
   {
    "duration": 9,
    "start_time": "2024-11-04T19:11:51.128Z"
   },
   {
    "duration": 14,
    "start_time": "2024-11-04T19:11:53.378Z"
   },
   {
    "duration": 12,
    "start_time": "2024-11-04T19:13:07.628Z"
   },
   {
    "duration": 15,
    "start_time": "2024-11-04T19:13:12.172Z"
   },
   {
    "duration": 4,
    "start_time": "2024-11-04T19:13:51.277Z"
   },
   {
    "duration": 67,
    "start_time": "2024-11-04T19:14:14.425Z"
   },
   {
    "duration": 21,
    "start_time": "2024-11-04T19:19:09.303Z"
   },
   {
    "duration": 21,
    "start_time": "2024-11-04T19:19:10.014Z"
   },
   {
    "duration": 150,
    "start_time": "2024-11-04T19:19:13.633Z"
   },
   {
    "duration": 11,
    "start_time": "2024-11-04T19:23:53.701Z"
   },
   {
    "duration": 761,
    "start_time": "2024-11-04T19:25:27.739Z"
   },
   {
    "duration": 1279,
    "start_time": "2024-11-04T19:25:28.502Z"
   },
   {
    "duration": 21,
    "start_time": "2024-11-04T19:25:29.782Z"
   },
   {
    "duration": 3,
    "start_time": "2024-11-04T19:25:29.806Z"
   },
   {
    "duration": 81,
    "start_time": "2024-11-04T19:25:29.811Z"
   },
   {
    "duration": 8,
    "start_time": "2024-11-04T19:25:29.894Z"
   },
   {
    "duration": 14,
    "start_time": "2024-11-04T19:25:29.903Z"
   },
   {
    "duration": 5,
    "start_time": "2024-11-04T19:25:29.918Z"
   },
   {
    "duration": 92,
    "start_time": "2024-11-04T19:25:29.925Z"
   },
   {
    "duration": 22,
    "start_time": "2024-11-04T19:25:30.020Z"
   },
   {
    "duration": 175,
    "start_time": "2024-11-04T19:25:30.043Z"
   },
   {
    "duration": 11,
    "start_time": "2024-11-04T19:25:30.220Z"
   },
   {
    "duration": 226,
    "start_time": "2024-11-04T19:25:30.233Z"
   },
   {
    "duration": 0,
    "start_time": "2024-11-04T19:25:30.461Z"
   },
   {
    "duration": 0,
    "start_time": "2024-11-04T19:25:30.463Z"
   },
   {
    "duration": 0,
    "start_time": "2024-11-04T19:25:30.470Z"
   },
   {
    "duration": 0,
    "start_time": "2024-11-04T19:25:30.472Z"
   },
   {
    "duration": 0,
    "start_time": "2024-11-04T19:25:30.473Z"
   },
   {
    "duration": 0,
    "start_time": "2024-11-04T19:25:30.474Z"
   },
   {
    "duration": 0,
    "start_time": "2024-11-04T19:25:30.476Z"
   },
   {
    "duration": 0,
    "start_time": "2024-11-04T19:25:30.477Z"
   },
   {
    "duration": 0,
    "start_time": "2024-11-04T19:25:30.478Z"
   },
   {
    "duration": 0,
    "start_time": "2024-11-04T19:25:30.479Z"
   },
   {
    "duration": 0,
    "start_time": "2024-11-04T19:25:30.480Z"
   },
   {
    "duration": 0,
    "start_time": "2024-11-04T19:25:30.481Z"
   },
   {
    "duration": 0,
    "start_time": "2024-11-04T19:25:30.482Z"
   },
   {
    "duration": 3573,
    "start_time": "2024-11-04T19:27:05.238Z"
   },
   {
    "duration": 3,
    "start_time": "2024-11-04T19:28:57.963Z"
   },
   {
    "duration": 5,
    "start_time": "2024-11-04T19:31:11.272Z"
   },
   {
    "duration": 8,
    "start_time": "2024-11-04T19:31:15.502Z"
   },
   {
    "duration": 86,
    "start_time": "2024-11-04T19:32:22.961Z"
   },
   {
    "duration": 5,
    "start_time": "2024-11-04T19:33:34.316Z"
   },
   {
    "duration": 5,
    "start_time": "2024-11-04T19:33:38.690Z"
   },
   {
    "duration": 90,
    "start_time": "2024-11-04T19:33:45.236Z"
   },
   {
    "duration": 14,
    "start_time": "2024-11-04T19:37:36.831Z"
   },
   {
    "duration": 4116,
    "start_time": "2024-11-04T19:37:42.787Z"
   },
   {
    "duration": 4191,
    "start_time": "2024-11-04T19:38:32.630Z"
   },
   {
    "duration": 4225,
    "start_time": "2024-11-04T19:39:06.573Z"
   },
   {
    "duration": 421,
    "start_time": "2024-11-04T19:40:35.589Z"
   },
   {
    "duration": 764,
    "start_time": "2024-11-04T19:41:17.842Z"
   },
   {
    "duration": 1190,
    "start_time": "2024-11-04T19:41:18.609Z"
   },
   {
    "duration": 22,
    "start_time": "2024-11-04T19:41:19.800Z"
   },
   {
    "duration": 4,
    "start_time": "2024-11-04T19:41:19.824Z"
   },
   {
    "duration": 95,
    "start_time": "2024-11-04T19:41:19.830Z"
   },
   {
    "duration": 10,
    "start_time": "2024-11-04T19:41:19.927Z"
   },
   {
    "duration": 14,
    "start_time": "2024-11-04T19:41:19.939Z"
   },
   {
    "duration": 18,
    "start_time": "2024-11-04T19:41:19.955Z"
   },
   {
    "duration": 68,
    "start_time": "2024-11-04T19:41:19.975Z"
   },
   {
    "duration": 39,
    "start_time": "2024-11-04T19:41:20.045Z"
   },
   {
    "duration": 168,
    "start_time": "2024-11-04T19:41:20.085Z"
   },
   {
    "duration": 20,
    "start_time": "2024-11-04T19:41:20.255Z"
   },
   {
    "duration": 3,
    "start_time": "2024-11-04T19:41:20.277Z"
   },
   {
    "duration": 98,
    "start_time": "2024-11-04T19:41:20.283Z"
   },
   {
    "duration": 419,
    "start_time": "2024-11-04T19:41:20.383Z"
   },
   {
    "duration": 277,
    "start_time": "2024-11-04T19:41:20.804Z"
   },
   {
    "duration": 0,
    "start_time": "2024-11-04T19:41:21.083Z"
   },
   {
    "duration": 0,
    "start_time": "2024-11-04T19:41:21.083Z"
   },
   {
    "duration": 0,
    "start_time": "2024-11-04T19:41:21.085Z"
   },
   {
    "duration": 0,
    "start_time": "2024-11-04T19:41:21.087Z"
   },
   {
    "duration": 0,
    "start_time": "2024-11-04T19:41:21.088Z"
   },
   {
    "duration": 0,
    "start_time": "2024-11-04T19:41:21.090Z"
   },
   {
    "duration": 0,
    "start_time": "2024-11-04T19:41:21.091Z"
   },
   {
    "duration": 0,
    "start_time": "2024-11-04T19:41:21.093Z"
   },
   {
    "duration": 0,
    "start_time": "2024-11-04T19:41:21.094Z"
   },
   {
    "duration": 0,
    "start_time": "2024-11-04T19:41:21.096Z"
   },
   {
    "duration": 0,
    "start_time": "2024-11-04T19:41:21.098Z"
   },
   {
    "duration": 0,
    "start_time": "2024-11-04T19:41:21.099Z"
   },
   {
    "duration": 605,
    "start_time": "2024-11-04T19:43:07.437Z"
   },
   {
    "duration": 403,
    "start_time": "2024-11-04T19:43:20.919Z"
   },
   {
    "duration": 4,
    "start_time": "2024-11-04T19:46:00.712Z"
   },
   {
    "duration": 3,
    "start_time": "2024-11-04T19:46:13.145Z"
   },
   {
    "duration": 4,
    "start_time": "2024-11-04T19:46:32.534Z"
   },
   {
    "duration": 6,
    "start_time": "2024-11-04T19:49:22.900Z"
   },
   {
    "duration": 6,
    "start_time": "2024-11-04T19:50:31.882Z"
   },
   {
    "duration": 477,
    "start_time": "2024-11-04T20:34:33.365Z"
   },
   {
    "duration": 7,
    "start_time": "2024-11-04T20:36:47.126Z"
   },
   {
    "duration": 8,
    "start_time": "2024-11-04T20:37:27.416Z"
   },
   {
    "duration": 20,
    "start_time": "2024-11-04T20:38:26.982Z"
   },
   {
    "duration": 110,
    "start_time": "2024-11-04T20:38:33.394Z"
   },
   {
    "duration": 109,
    "start_time": "2024-11-04T20:40:11.195Z"
   },
   {
    "duration": 106,
    "start_time": "2024-11-04T20:40:33.088Z"
   },
   {
    "duration": 98,
    "start_time": "2024-11-04T20:40:58.157Z"
   },
   {
    "duration": 100,
    "start_time": "2024-11-04T20:41:02.059Z"
   },
   {
    "duration": 16,
    "start_time": "2024-11-04T20:42:43.827Z"
   },
   {
    "duration": 2517,
    "start_time": "2024-11-04T23:42:02.270Z"
   },
   {
    "duration": 1367,
    "start_time": "2024-11-04T23:42:04.789Z"
   },
   {
    "duration": 22,
    "start_time": "2024-11-04T23:42:06.157Z"
   },
   {
    "duration": 3,
    "start_time": "2024-11-04T23:42:06.181Z"
   },
   {
    "duration": 67,
    "start_time": "2024-11-04T23:42:06.186Z"
   },
   {
    "duration": 7,
    "start_time": "2024-11-04T23:42:06.255Z"
   },
   {
    "duration": 14,
    "start_time": "2024-11-04T23:42:06.264Z"
   },
   {
    "duration": 4,
    "start_time": "2024-11-04T23:42:06.280Z"
   },
   {
    "duration": 85,
    "start_time": "2024-11-04T23:42:06.286Z"
   },
   {
    "duration": 37,
    "start_time": "2024-11-04T23:42:06.375Z"
   },
   {
    "duration": 177,
    "start_time": "2024-11-04T23:42:06.413Z"
   },
   {
    "duration": 19,
    "start_time": "2024-11-04T23:42:06.592Z"
   },
   {
    "duration": 2,
    "start_time": "2024-11-04T23:42:06.613Z"
   },
   {
    "duration": 97,
    "start_time": "2024-11-04T23:42:06.618Z"
   },
   {
    "duration": 435,
    "start_time": "2024-11-04T23:42:06.717Z"
   },
   {
    "duration": 6,
    "start_time": "2024-11-04T23:42:07.153Z"
   },
   {
    "duration": 111,
    "start_time": "2024-11-04T23:42:07.160Z"
   },
   {
    "duration": 578,
    "start_time": "2024-11-04T23:42:07.273Z"
   },
   {
    "duration": 0,
    "start_time": "2024-11-04T23:42:07.853Z"
   },
   {
    "duration": 1,
    "start_time": "2024-11-04T23:42:07.854Z"
   },
   {
    "duration": 0,
    "start_time": "2024-11-04T23:42:07.856Z"
   },
   {
    "duration": 0,
    "start_time": "2024-11-04T23:42:07.857Z"
   },
   {
    "duration": 0,
    "start_time": "2024-11-04T23:42:07.859Z"
   },
   {
    "duration": 0,
    "start_time": "2024-11-04T23:42:07.861Z"
   },
   {
    "duration": 0,
    "start_time": "2024-11-04T23:42:07.862Z"
   },
   {
    "duration": 0,
    "start_time": "2024-11-04T23:42:07.863Z"
   },
   {
    "duration": 0,
    "start_time": "2024-11-04T23:42:07.864Z"
   },
   {
    "duration": 0,
    "start_time": "2024-11-04T23:42:07.865Z"
   },
   {
    "duration": 0,
    "start_time": "2024-11-04T23:42:07.866Z"
   },
   {
    "duration": 0,
    "start_time": "2024-11-04T23:42:07.867Z"
   },
   {
    "duration": 376,
    "start_time": "2024-11-04T23:45:45.370Z"
   },
   {
    "duration": 759,
    "start_time": "2024-11-04T23:51:41.972Z"
   },
   {
    "duration": 1283,
    "start_time": "2024-11-04T23:51:42.733Z"
   },
   {
    "duration": 25,
    "start_time": "2024-11-04T23:51:44.018Z"
   },
   {
    "duration": 4,
    "start_time": "2024-11-04T23:51:44.046Z"
   },
   {
    "duration": 77,
    "start_time": "2024-11-04T23:51:44.052Z"
   },
   {
    "duration": 11,
    "start_time": "2024-11-04T23:51:44.131Z"
   },
   {
    "duration": 16,
    "start_time": "2024-11-04T23:51:44.144Z"
   },
   {
    "duration": 5,
    "start_time": "2024-11-04T23:51:44.162Z"
   },
   {
    "duration": 89,
    "start_time": "2024-11-04T23:51:44.168Z"
   },
   {
    "duration": 20,
    "start_time": "2024-11-04T23:51:44.261Z"
   },
   {
    "duration": 172,
    "start_time": "2024-11-04T23:51:44.282Z"
   },
   {
    "duration": 11,
    "start_time": "2024-11-04T23:51:44.456Z"
   },
   {
    "duration": 2,
    "start_time": "2024-11-04T23:51:44.469Z"
   },
   {
    "duration": 106,
    "start_time": "2024-11-04T23:51:44.473Z"
   },
   {
    "duration": 418,
    "start_time": "2024-11-04T23:51:44.580Z"
   },
   {
    "duration": 5,
    "start_time": "2024-11-04T23:51:45.005Z"
   },
   {
    "duration": 109,
    "start_time": "2024-11-04T23:51:45.012Z"
   },
   {
    "duration": 21,
    "start_time": "2024-11-04T23:51:45.123Z"
   },
   {
    "duration": 280,
    "start_time": "2024-11-04T23:51:45.146Z"
   },
   {
    "duration": 0,
    "start_time": "2024-11-04T23:51:45.429Z"
   },
   {
    "duration": 0,
    "start_time": "2024-11-04T23:51:45.430Z"
   },
   {
    "duration": 0,
    "start_time": "2024-11-04T23:51:45.431Z"
   },
   {
    "duration": 0,
    "start_time": "2024-11-04T23:51:45.433Z"
   },
   {
    "duration": 0,
    "start_time": "2024-11-04T23:51:45.434Z"
   },
   {
    "duration": 0,
    "start_time": "2024-11-04T23:51:45.436Z"
   },
   {
    "duration": 0,
    "start_time": "2024-11-04T23:51:45.437Z"
   },
   {
    "duration": 0,
    "start_time": "2024-11-04T23:51:45.439Z"
   },
   {
    "duration": 0,
    "start_time": "2024-11-04T23:51:45.440Z"
   },
   {
    "duration": 0,
    "start_time": "2024-11-04T23:51:45.442Z"
   },
   {
    "duration": 0,
    "start_time": "2024-11-04T23:51:45.443Z"
   },
   {
    "duration": 0,
    "start_time": "2024-11-04T23:51:45.445Z"
   },
   {
    "duration": 14,
    "start_time": "2024-11-04T23:53:03.546Z"
   },
   {
    "duration": 7,
    "start_time": "2024-11-04T23:55:08.209Z"
   },
   {
    "duration": 15,
    "start_time": "2024-11-04T23:55:35.524Z"
   },
   {
    "duration": 10,
    "start_time": "2024-11-04T23:55:40.022Z"
   },
   {
    "duration": 180741,
    "start_time": "2024-11-04T23:56:37.482Z"
   },
   {
    "duration": 10,
    "start_time": "2024-11-04T23:59:51.484Z"
   },
   {
    "duration": 335,
    "start_time": "2024-11-05T00:00:07.407Z"
   },
   {
    "duration": 8811,
    "start_time": "2024-11-05T00:17:04.303Z"
   },
   {
    "duration": 3019,
    "start_time": "2024-11-05T00:17:28.877Z"
   },
   {
    "duration": 771,
    "start_time": "2024-11-05T00:23:18.945Z"
   },
   {
    "duration": 1279,
    "start_time": "2024-11-05T00:23:19.719Z"
   },
   {
    "duration": 20,
    "start_time": "2024-11-05T00:23:21.000Z"
   },
   {
    "duration": 3,
    "start_time": "2024-11-05T00:23:21.022Z"
   },
   {
    "duration": 79,
    "start_time": "2024-11-05T00:23:21.026Z"
   },
   {
    "duration": 8,
    "start_time": "2024-11-05T00:23:21.106Z"
   },
   {
    "duration": 13,
    "start_time": "2024-11-05T00:23:21.115Z"
   },
   {
    "duration": 4,
    "start_time": "2024-11-05T00:23:21.130Z"
   },
   {
    "duration": 86,
    "start_time": "2024-11-05T00:23:21.136Z"
   },
   {
    "duration": 19,
    "start_time": "2024-11-05T00:23:21.224Z"
   },
   {
    "duration": 169,
    "start_time": "2024-11-05T00:23:21.245Z"
   },
   {
    "duration": 12,
    "start_time": "2024-11-05T00:23:21.416Z"
   },
   {
    "duration": 3412,
    "start_time": "2024-11-05T00:23:21.430Z"
   },
   {
    "duration": 96,
    "start_time": "2024-11-05T00:23:24.844Z"
   },
   {
    "duration": 484,
    "start_time": "2024-11-05T00:23:24.942Z"
   },
   {
    "duration": 6,
    "start_time": "2024-11-05T00:23:25.428Z"
   },
   {
    "duration": 107,
    "start_time": "2024-11-05T00:23:25.437Z"
   },
   {
    "duration": 14,
    "start_time": "2024-11-05T00:23:25.546Z"
   },
   {
    "duration": 395,
    "start_time": "2024-11-05T00:23:25.562Z"
   },
   {
    "duration": 4,
    "start_time": "2024-11-05T00:23:25.959Z"
   },
   {
    "duration": 0,
    "start_time": "2024-11-05T00:23:25.965Z"
   },
   {
    "duration": 0,
    "start_time": "2024-11-05T00:23:25.966Z"
   },
   {
    "duration": 0,
    "start_time": "2024-11-05T00:23:25.967Z"
   },
   {
    "duration": 0,
    "start_time": "2024-11-05T00:23:25.968Z"
   },
   {
    "duration": 0,
    "start_time": "2024-11-05T00:23:25.969Z"
   },
   {
    "duration": 0,
    "start_time": "2024-11-05T00:23:25.970Z"
   },
   {
    "duration": 0,
    "start_time": "2024-11-05T00:23:25.971Z"
   },
   {
    "duration": 0,
    "start_time": "2024-11-05T00:23:25.972Z"
   },
   {
    "duration": 0,
    "start_time": "2024-11-05T00:23:25.974Z"
   },
   {
    "duration": 18,
    "start_time": "2024-11-05T00:24:41.886Z"
   },
   {
    "duration": 5,
    "start_time": "2024-11-05T00:24:51.030Z"
   },
   {
    "duration": 113,
    "start_time": "2024-11-05T00:25:29.045Z"
   },
   {
    "duration": 5,
    "start_time": "2024-11-05T00:25:56.143Z"
   },
   {
    "duration": 5,
    "start_time": "2024-11-05T00:27:44.315Z"
   },
   {
    "duration": 602,
    "start_time": "2024-11-05T00:28:48.595Z"
   },
   {
    "duration": 85,
    "start_time": "2024-11-05T00:29:05.922Z"
   },
   {
    "duration": 4,
    "start_time": "2024-11-05T00:29:32.036Z"
   },
   {
    "duration": 4,
    "start_time": "2024-11-05T00:31:00.967Z"
   },
   {
    "duration": 86,
    "start_time": "2024-11-05T00:50:33.819Z"
   },
   {
    "duration": 86,
    "start_time": "2024-11-05T01:17:49.470Z"
   },
   {
    "duration": 89,
    "start_time": "2024-11-05T01:19:49.494Z"
   },
   {
    "duration": 4,
    "start_time": "2024-11-05T01:19:52.264Z"
   },
   {
    "duration": 5,
    "start_time": "2024-11-05T01:20:27.863Z"
   },
   {
    "duration": 14,
    "start_time": "2024-11-05T01:20:37.928Z"
   },
   {
    "duration": 5,
    "start_time": "2024-11-05T01:20:44.695Z"
   },
   {
    "duration": 12,
    "start_time": "2024-11-05T01:22:40.430Z"
   },
   {
    "duration": 6,
    "start_time": "2024-11-05T01:23:34.059Z"
   },
   {
    "duration": 12,
    "start_time": "2024-11-05T01:23:38.569Z"
   },
   {
    "duration": 92,
    "start_time": "2024-11-05T01:25:46.809Z"
   },
   {
    "duration": 4,
    "start_time": "2024-11-05T01:26:05.227Z"
   },
   {
    "duration": 3,
    "start_time": "2024-11-05T01:26:22.658Z"
   },
   {
    "duration": 96,
    "start_time": "2024-11-05T01:32:43.688Z"
   },
   {
    "duration": 99,
    "start_time": "2024-11-05T01:33:18.506Z"
   },
   {
    "duration": 4,
    "start_time": "2024-11-05T01:33:56.759Z"
   },
   {
    "duration": 6,
    "start_time": "2024-11-05T01:34:40.354Z"
   },
   {
    "duration": 103,
    "start_time": "2024-11-05T01:35:27.880Z"
   },
   {
    "duration": 43,
    "start_time": "2024-11-05T01:37:04.609Z"
   },
   {
    "duration": 7,
    "start_time": "2024-11-05T01:37:11.562Z"
   },
   {
    "duration": 19,
    "start_time": "2024-11-05T01:37:53.701Z"
   },
   {
    "duration": 26,
    "start_time": "2024-11-05T01:38:42.089Z"
   },
   {
    "duration": 20,
    "start_time": "2024-11-05T01:39:11.877Z"
   },
   {
    "duration": 4,
    "start_time": "2024-11-05T01:43:09.485Z"
   },
   {
    "duration": 2,
    "start_time": "2024-11-05T01:45:08.249Z"
   },
   {
    "duration": 12,
    "start_time": "2024-11-05T01:45:42.323Z"
   },
   {
    "duration": 3,
    "start_time": "2024-11-05T01:45:50.977Z"
   },
   {
    "duration": 8,
    "start_time": "2024-11-05T01:45:56.703Z"
   },
   {
    "duration": 9,
    "start_time": "2024-11-05T01:46:03.745Z"
   },
   {
    "duration": 5,
    "start_time": "2024-11-05T01:46:10.435Z"
   },
   {
    "duration": 14,
    "start_time": "2024-11-05T01:46:14.844Z"
   },
   {
    "duration": 7,
    "start_time": "2024-11-05T01:46:22.610Z"
   },
   {
    "duration": 23,
    "start_time": "2024-11-05T01:47:42.393Z"
   },
   {
    "duration": 9,
    "start_time": "2024-11-05T01:47:49.773Z"
   },
   {
    "duration": 9,
    "start_time": "2024-11-05T01:50:12.218Z"
   },
   {
    "duration": 13,
    "start_time": "2024-11-05T01:51:20.559Z"
   },
   {
    "duration": 9,
    "start_time": "2024-11-05T01:51:54.073Z"
   },
   {
    "duration": 14,
    "start_time": "2024-11-05T01:52:42.181Z"
   },
   {
    "duration": 3,
    "start_time": "2024-11-05T01:53:25.127Z"
   },
   {
    "duration": 9,
    "start_time": "2024-11-05T01:54:02.212Z"
   },
   {
    "duration": 17,
    "start_time": "2024-11-05T01:54:41.127Z"
   },
   {
    "duration": 18,
    "start_time": "2024-11-05T01:54:56.875Z"
   },
   {
    "duration": 248,
    "start_time": "2024-11-05T01:56:12.444Z"
   },
   {
    "duration": 100,
    "start_time": "2024-11-05T01:56:16.027Z"
   },
   {
    "duration": 101,
    "start_time": "2024-11-05T01:56:25.387Z"
   },
   {
    "duration": 18,
    "start_time": "2024-11-05T01:58:08.731Z"
   },
   {
    "duration": 18,
    "start_time": "2024-11-05T02:00:39.829Z"
   },
   {
    "duration": 18,
    "start_time": "2024-11-05T02:01:07.164Z"
   },
   {
    "duration": 11,
    "start_time": "2024-11-05T02:07:08.726Z"
   },
   {
    "duration": 23,
    "start_time": "2024-11-05T02:07:14.087Z"
   },
   {
    "duration": 4,
    "start_time": "2024-11-05T02:08:36.239Z"
   },
   {
    "duration": 48,
    "start_time": "2024-11-05T02:09:05.744Z"
   },
   {
    "duration": 17,
    "start_time": "2024-11-05T02:09:35.470Z"
   },
   {
    "duration": 17,
    "start_time": "2024-11-05T02:09:57.792Z"
   },
   {
    "duration": 7,
    "start_time": "2024-11-05T02:10:22.507Z"
   },
   {
    "duration": 12,
    "start_time": "2024-11-05T02:11:41.092Z"
   },
   {
    "duration": 8,
    "start_time": "2024-11-05T02:12:11.674Z"
   },
   {
    "duration": 6,
    "start_time": "2024-11-05T02:13:15.696Z"
   },
   {
    "duration": 92,
    "start_time": "2024-11-05T02:13:31.738Z"
   },
   {
    "duration": 41,
    "start_time": "2024-11-05T02:13:36.224Z"
   },
   {
    "duration": 830,
    "start_time": "2024-11-05T02:13:52.301Z"
   },
   {
    "duration": 1231,
    "start_time": "2024-11-05T02:13:53.133Z"
   },
   {
    "duration": 20,
    "start_time": "2024-11-05T02:13:54.367Z"
   },
   {
    "duration": 3,
    "start_time": "2024-11-05T02:13:54.388Z"
   },
   {
    "duration": 67,
    "start_time": "2024-11-05T02:13:54.395Z"
   },
   {
    "duration": 7,
    "start_time": "2024-11-05T02:13:54.464Z"
   },
   {
    "duration": 14,
    "start_time": "2024-11-05T02:13:54.472Z"
   },
   {
    "duration": 4,
    "start_time": "2024-11-05T02:13:54.505Z"
   },
   {
    "duration": 64,
    "start_time": "2024-11-05T02:13:54.510Z"
   },
   {
    "duration": 38,
    "start_time": "2024-11-05T02:13:54.576Z"
   },
   {
    "duration": 163,
    "start_time": "2024-11-05T02:13:54.615Z"
   },
   {
    "duration": 11,
    "start_time": "2024-11-05T02:13:54.779Z"
   },
   {
    "duration": 3440,
    "start_time": "2024-11-05T02:13:54.792Z"
   },
   {
    "duration": 92,
    "start_time": "2024-11-05T02:13:58.237Z"
   },
   {
    "duration": 429,
    "start_time": "2024-11-05T02:13:58.330Z"
   },
   {
    "duration": 5,
    "start_time": "2024-11-05T02:13:58.761Z"
   },
   {
    "duration": 110,
    "start_time": "2024-11-05T02:13:58.767Z"
   },
   {
    "duration": 15,
    "start_time": "2024-11-05T02:13:58.879Z"
   },
   {
    "duration": 357,
    "start_time": "2024-11-05T02:13:58.905Z"
   },
   {
    "duration": 4,
    "start_time": "2024-11-05T02:13:59.264Z"
   },
   {
    "duration": 86,
    "start_time": "2024-11-05T02:13:59.270Z"
   },
   {
    "duration": 5,
    "start_time": "2024-11-05T02:13:59.358Z"
   },
   {
    "duration": 106,
    "start_time": "2024-11-05T02:13:59.364Z"
   },
   {
    "duration": 4,
    "start_time": "2024-11-05T02:13:59.472Z"
   },
   {
    "duration": 7,
    "start_time": "2024-11-05T02:13:59.478Z"
   },
   {
    "duration": 137,
    "start_time": "2024-11-05T02:13:59.487Z"
   },
   {
    "duration": 612,
    "start_time": "2024-11-05T02:13:59.625Z"
   },
   {
    "duration": 0,
    "start_time": "2024-11-05T02:14:00.238Z"
   },
   {
    "duration": 0,
    "start_time": "2024-11-05T02:14:00.240Z"
   },
   {
    "duration": 0,
    "start_time": "2024-11-05T02:14:00.240Z"
   },
   {
    "duration": 0,
    "start_time": "2024-11-05T02:14:00.242Z"
   },
   {
    "duration": 0,
    "start_time": "2024-11-05T02:14:00.243Z"
   },
   {
    "duration": 3,
    "start_time": "2024-11-05T02:14:13.688Z"
   },
   {
    "duration": 4,
    "start_time": "2024-11-05T02:14:45.681Z"
   },
   {
    "duration": 3,
    "start_time": "2024-11-05T02:14:53.313Z"
   },
   {
    "duration": 18,
    "start_time": "2024-11-05T02:15:23.959Z"
   },
   {
    "duration": 18,
    "start_time": "2024-11-05T02:15:26.133Z"
   },
   {
    "duration": 11,
    "start_time": "2024-11-05T02:15:30.841Z"
   },
   {
    "duration": 11,
    "start_time": "2024-11-05T02:15:36.176Z"
   },
   {
    "duration": 43,
    "start_time": "2024-11-05T02:15:44.880Z"
   },
   {
    "duration": 16,
    "start_time": "2024-11-05T02:17:00.743Z"
   },
   {
    "duration": 12,
    "start_time": "2024-11-05T02:17:06.915Z"
   },
   {
    "duration": 12,
    "start_time": "2024-11-05T02:17:46.657Z"
   },
   {
    "duration": 13,
    "start_time": "2024-11-05T02:18:43.296Z"
   },
   {
    "duration": 20,
    "start_time": "2024-11-05T02:19:05.983Z"
   },
   {
    "duration": 20,
    "start_time": "2024-11-05T02:19:30.145Z"
   },
   {
    "duration": 13,
    "start_time": "2024-11-05T02:19:32.559Z"
   },
   {
    "duration": 14,
    "start_time": "2024-11-05T02:19:54.248Z"
   },
   {
    "duration": 34,
    "start_time": "2024-11-05T02:20:22.497Z"
   },
   {
    "duration": 800,
    "start_time": "2024-11-05T02:20:33.119Z"
   },
   {
    "duration": 1778,
    "start_time": "2024-11-05T02:20:33.921Z"
   },
   {
    "duration": 21,
    "start_time": "2024-11-05T02:20:35.700Z"
   },
   {
    "duration": 4,
    "start_time": "2024-11-05T02:20:35.724Z"
   },
   {
    "duration": 85,
    "start_time": "2024-11-05T02:20:35.731Z"
   },
   {
    "duration": 9,
    "start_time": "2024-11-05T02:20:35.818Z"
   },
   {
    "duration": 13,
    "start_time": "2024-11-05T02:20:35.828Z"
   },
   {
    "duration": 5,
    "start_time": "2024-11-05T02:20:35.842Z"
   },
   {
    "duration": 89,
    "start_time": "2024-11-05T02:20:35.849Z"
   },
   {
    "duration": 20,
    "start_time": "2024-11-05T02:20:35.940Z"
   },
   {
    "duration": 168,
    "start_time": "2024-11-05T02:20:35.961Z"
   },
   {
    "duration": 11,
    "start_time": "2024-11-05T02:20:36.131Z"
   },
   {
    "duration": 3392,
    "start_time": "2024-11-05T02:20:36.144Z"
   },
   {
    "duration": 98,
    "start_time": "2024-11-05T02:20:39.540Z"
   },
   {
    "duration": 425,
    "start_time": "2024-11-05T02:20:39.640Z"
   },
   {
    "duration": 6,
    "start_time": "2024-11-05T02:20:40.067Z"
   },
   {
    "duration": 111,
    "start_time": "2024-11-05T02:20:40.075Z"
   },
   {
    "duration": 23,
    "start_time": "2024-11-05T02:20:40.188Z"
   },
   {
    "duration": 349,
    "start_time": "2024-11-05T02:20:40.213Z"
   },
   {
    "duration": 5,
    "start_time": "2024-11-05T02:20:40.564Z"
   },
   {
    "duration": 91,
    "start_time": "2024-11-05T02:20:40.571Z"
   },
   {
    "duration": 4,
    "start_time": "2024-11-05T02:20:40.664Z"
   },
   {
    "duration": 110,
    "start_time": "2024-11-05T02:20:40.670Z"
   },
   {
    "duration": 5,
    "start_time": "2024-11-05T02:20:40.781Z"
   },
   {
    "duration": 20,
    "start_time": "2024-11-05T02:20:40.787Z"
   },
   {
    "duration": 106,
    "start_time": "2024-11-05T02:20:40.809Z"
   },
   {
    "duration": 3,
    "start_time": "2024-11-05T02:20:40.917Z"
   },
   {
    "duration": 18,
    "start_time": "2024-11-05T02:20:40.922Z"
   },
   {
    "duration": 29,
    "start_time": "2024-11-05T02:20:40.942Z"
   },
   {
    "duration": 32,
    "start_time": "2024-11-05T02:21:12.906Z"
   },
   {
    "duration": 220,
    "start_time": "2024-11-05T02:36:43.487Z"
   },
   {
    "duration": 6,
    "start_time": "2024-11-05T02:37:07.278Z"
   },
   {
    "duration": 5,
    "start_time": "2024-11-05T02:37:53.403Z"
   },
   {
    "duration": 7,
    "start_time": "2024-11-05T02:37:59.125Z"
   },
   {
    "duration": 8,
    "start_time": "2024-11-05T02:39:46.929Z"
   },
   {
    "duration": 8,
    "start_time": "2024-11-05T02:42:06.080Z"
   },
   {
    "duration": 10,
    "start_time": "2024-11-05T02:42:27.315Z"
   },
   {
    "duration": 5,
    "start_time": "2024-11-05T02:46:51.346Z"
   },
   {
    "duration": 6,
    "start_time": "2024-11-05T02:56:24.666Z"
   },
   {
    "duration": 12,
    "start_time": "2024-11-05T03:11:50.060Z"
   },
   {
    "duration": 13,
    "start_time": "2024-11-05T03:12:14.451Z"
   },
   {
    "duration": 6,
    "start_time": "2024-11-05T03:12:44.958Z"
   },
   {
    "duration": 160,
    "start_time": "2024-11-05T03:20:11.615Z"
   },
   {
    "duration": 214,
    "start_time": "2024-11-05T03:20:29.061Z"
   },
   {
    "duration": 490,
    "start_time": "2024-11-05T03:22:08.379Z"
   },
   {
    "duration": 275,
    "start_time": "2024-11-05T03:23:49.409Z"
   },
   {
    "duration": 419,
    "start_time": "2024-11-05T03:23:54.451Z"
   },
   {
    "duration": 414,
    "start_time": "2024-11-05T03:23:58.538Z"
   },
   {
    "duration": 4,
    "start_time": "2024-11-05T03:25:48.715Z"
   },
   {
    "duration": 4,
    "start_time": "2024-11-05T03:27:44.968Z"
   },
   {
    "duration": 4,
    "start_time": "2024-11-05T03:28:03.882Z"
   },
   {
    "duration": 4,
    "start_time": "2024-11-05T03:28:27.668Z"
   },
   {
    "duration": 5,
    "start_time": "2024-11-05T03:28:54.587Z"
   },
   {
    "duration": 20,
    "start_time": "2024-11-05T03:29:16.516Z"
   },
   {
    "duration": 125,
    "start_time": "2024-11-05T03:29:26.041Z"
   },
   {
    "duration": 347,
    "start_time": "2024-11-05T03:35:26.295Z"
   },
   {
    "duration": 341,
    "start_time": "2024-11-05T03:36:52.507Z"
   },
   {
    "duration": 353,
    "start_time": "2024-11-05T03:37:35.464Z"
   },
   {
    "duration": 9,
    "start_time": "2024-11-05T03:37:53.220Z"
   },
   {
    "duration": 12,
    "start_time": "2024-11-05T03:38:24.559Z"
   },
   {
    "duration": 143,
    "start_time": "2024-11-05T03:38:48.557Z"
   },
   {
    "duration": 8,
    "start_time": "2024-11-05T03:38:54.990Z"
   },
   {
    "duration": 15,
    "start_time": "2024-11-05T03:39:28.157Z"
   },
   {
    "duration": 16,
    "start_time": "2024-11-05T03:39:43.767Z"
   },
   {
    "duration": 303,
    "start_time": "2024-11-05T03:40:39.393Z"
   },
   {
    "duration": 15,
    "start_time": "2024-11-05T03:40:52.293Z"
   },
   {
    "duration": 340,
    "start_time": "2024-11-05T03:41:46.893Z"
   },
   {
    "duration": 4,
    "start_time": "2024-11-05T03:41:56.031Z"
   },
   {
    "duration": 4,
    "start_time": "2024-11-05T03:41:59.811Z"
   },
   {
    "duration": 3,
    "start_time": "2024-11-05T03:43:34.277Z"
   },
   {
    "duration": 5,
    "start_time": "2024-11-05T03:44:29.959Z"
   },
   {
    "duration": 4,
    "start_time": "2024-11-05T03:45:38.241Z"
   },
   {
    "duration": 5,
    "start_time": "2024-11-05T03:46:13.784Z"
   },
   {
    "duration": 4,
    "start_time": "2024-11-05T03:46:21.113Z"
   },
   {
    "duration": 358,
    "start_time": "2024-11-05T03:46:46.238Z"
   },
   {
    "duration": 4,
    "start_time": "2024-11-05T03:46:50.416Z"
   },
   {
    "duration": 3,
    "start_time": "2024-11-05T03:46:52.824Z"
   },
   {
    "duration": 5,
    "start_time": "2024-11-05T03:47:00.777Z"
   },
   {
    "duration": 2,
    "start_time": "2024-11-05T03:54:58.316Z"
   },
   {
    "duration": 12,
    "start_time": "2024-11-05T03:56:14.105Z"
   },
   {
    "duration": 365,
    "start_time": "2024-11-05T03:57:21.072Z"
   },
   {
    "duration": 4,
    "start_time": "2024-11-05T03:58:01.375Z"
   },
   {
    "duration": 362,
    "start_time": "2024-11-05T03:58:59.132Z"
   },
   {
    "duration": 5,
    "start_time": "2024-11-05T03:59:06.842Z"
   },
   {
    "duration": 365,
    "start_time": "2024-11-05T04:00:38.430Z"
   },
   {
    "duration": 4,
    "start_time": "2024-11-05T04:00:59.595Z"
   },
   {
    "duration": 4,
    "start_time": "2024-11-05T04:01:19.201Z"
   },
   {
    "duration": 5,
    "start_time": "2024-11-05T04:01:59.678Z"
   },
   {
    "duration": 12,
    "start_time": "2024-11-05T04:06:49.275Z"
   },
   {
    "duration": 395,
    "start_time": "2024-11-05T04:08:55.754Z"
   },
   {
    "duration": 556,
    "start_time": "2024-11-05T04:12:54.976Z"
   },
   {
    "duration": 377,
    "start_time": "2024-11-05T04:13:11.043Z"
   },
   {
    "duration": 5,
    "start_time": "2024-11-05T04:13:51.231Z"
   },
   {
    "duration": 4,
    "start_time": "2024-11-05T04:14:26.153Z"
   },
   {
    "duration": 16,
    "start_time": "2024-11-05T04:14:31.961Z"
   },
   {
    "duration": 356,
    "start_time": "2024-11-05T04:15:56.930Z"
   },
   {
    "duration": 378,
    "start_time": "2024-11-05T04:16:30.251Z"
   },
   {
    "duration": 7,
    "start_time": "2024-11-05T04:16:57.570Z"
   },
   {
    "duration": 15,
    "start_time": "2024-11-05T04:18:19.810Z"
   },
   {
    "duration": 13,
    "start_time": "2024-11-05T04:18:33.171Z"
   },
   {
    "duration": 16,
    "start_time": "2024-11-05T04:18:39.164Z"
   },
   {
    "duration": 16,
    "start_time": "2024-11-05T04:19:36.391Z"
   },
   {
    "duration": 4,
    "start_time": "2024-11-05T04:20:17.228Z"
   },
   {
    "duration": 6,
    "start_time": "2024-11-05T04:23:46.351Z"
   },
   {
    "duration": 2497,
    "start_time": "2024-11-06T16:59:20.403Z"
   },
   {
    "duration": 1427,
    "start_time": "2024-11-06T16:59:22.902Z"
   },
   {
    "duration": 21,
    "start_time": "2024-11-06T16:59:24.330Z"
   },
   {
    "duration": 3,
    "start_time": "2024-11-06T16:59:24.353Z"
   },
   {
    "duration": 68,
    "start_time": "2024-11-06T16:59:24.359Z"
   },
   {
    "duration": 9,
    "start_time": "2024-11-06T16:59:24.429Z"
   },
   {
    "duration": 14,
    "start_time": "2024-11-06T16:59:24.440Z"
   },
   {
    "duration": 6,
    "start_time": "2024-11-06T16:59:24.455Z"
   },
   {
    "duration": 88,
    "start_time": "2024-11-06T16:59:24.463Z"
   },
   {
    "duration": 35,
    "start_time": "2024-11-06T16:59:24.553Z"
   },
   {
    "duration": 158,
    "start_time": "2024-11-06T16:59:24.590Z"
   },
   {
    "duration": 12,
    "start_time": "2024-11-06T16:59:24.750Z"
   },
   {
    "duration": 3460,
    "start_time": "2024-11-06T16:59:24.764Z"
   },
   {
    "duration": 97,
    "start_time": "2024-11-06T16:59:28.229Z"
   },
   {
    "duration": 456,
    "start_time": "2024-11-06T16:59:28.327Z"
   },
   {
    "duration": 6,
    "start_time": "2024-11-06T16:59:28.784Z"
   },
   {
    "duration": 156,
    "start_time": "2024-11-06T16:59:28.792Z"
   },
   {
    "duration": 15,
    "start_time": "2024-11-06T16:59:28.950Z"
   },
   {
    "duration": 368,
    "start_time": "2024-11-06T16:59:28.967Z"
   },
   {
    "duration": 4,
    "start_time": "2024-11-06T16:59:29.337Z"
   },
   {
    "duration": 89,
    "start_time": "2024-11-06T16:59:29.343Z"
   },
   {
    "duration": 4,
    "start_time": "2024-11-06T16:59:29.434Z"
   },
   {
    "duration": 105,
    "start_time": "2024-11-06T16:59:29.439Z"
   },
   {
    "duration": 5,
    "start_time": "2024-11-06T16:59:29.545Z"
   },
   {
    "duration": 7,
    "start_time": "2024-11-06T16:59:29.551Z"
   },
   {
    "duration": 171,
    "start_time": "2024-11-06T16:59:29.561Z"
   },
   {
    "duration": 4,
    "start_time": "2024-11-06T16:59:29.735Z"
   },
   {
    "duration": 23,
    "start_time": "2024-11-06T16:59:29.741Z"
   },
   {
    "duration": 31,
    "start_time": "2024-11-06T16:59:29.786Z"
   },
   {
    "duration": 6,
    "start_time": "2024-11-06T16:59:29.818Z"
   },
   {
    "duration": 8,
    "start_time": "2024-11-06T16:59:29.826Z"
   },
   {
    "duration": 373,
    "start_time": "2024-11-06T16:59:29.836Z"
   },
   {
    "duration": 3,
    "start_time": "2024-11-06T16:59:30.211Z"
   },
   {
    "duration": 4,
    "start_time": "2024-11-06T16:59:30.216Z"
   },
   {
    "duration": 5,
    "start_time": "2024-11-06T16:59:30.221Z"
   },
   {
    "duration": 385,
    "start_time": "2024-11-06T16:59:30.228Z"
   },
   {
    "duration": 4,
    "start_time": "2024-11-06T16:59:30.615Z"
   },
   {
    "duration": 4,
    "start_time": "2024-11-06T16:59:30.621Z"
   },
   {
    "duration": 5,
    "start_time": "2024-11-06T16:59:30.626Z"
   },
   {
    "duration": 390,
    "start_time": "2024-11-06T16:59:30.633Z"
   },
   {
    "duration": 4,
    "start_time": "2024-11-06T16:59:31.029Z"
   },
   {
    "duration": 4,
    "start_time": "2024-11-06T16:59:31.035Z"
   },
   {
    "duration": 5,
    "start_time": "2024-11-06T16:59:31.040Z"
   },
   {
    "duration": 101,
    "start_time": "2024-11-06T17:00:48.842Z"
   },
   {
    "duration": 106,
    "start_time": "2024-11-06T17:01:16.460Z"
   },
   {
    "duration": 102,
    "start_time": "2024-11-06T17:01:24.696Z"
   },
   {
    "duration": 1286,
    "start_time": "2024-11-06T17:09:09.179Z"
   },
   {
    "duration": 19,
    "start_time": "2024-11-06T17:09:29.796Z"
   },
   {
    "duration": 11,
    "start_time": "2024-11-06T17:09:33.976Z"
   },
   {
    "duration": 894,
    "start_time": "2024-11-06T17:09:55.027Z"
   },
   {
    "duration": 7,
    "start_time": "2024-11-06T17:11:54.208Z"
   },
   {
    "duration": 1208,
    "start_time": "2024-11-06T17:11:58.024Z"
   },
   {
    "duration": 1230,
    "start_time": "2024-11-06T17:12:08.045Z"
   },
   {
    "duration": 3,
    "start_time": "2024-11-06T17:12:30.271Z"
   },
   {
    "duration": 4,
    "start_time": "2024-11-06T17:12:35.012Z"
   },
   {
    "duration": 337,
    "start_time": "2024-11-06T17:12:38.440Z"
   },
   {
    "duration": 5,
    "start_time": "2024-11-06T17:12:53.026Z"
   },
   {
    "duration": 362,
    "start_time": "2024-11-06T17:13:17.057Z"
   },
   {
    "duration": 5,
    "start_time": "2024-11-06T17:17:17.228Z"
   },
   {
    "duration": 97,
    "start_time": "2024-11-06T17:21:35.393Z"
   },
   {
    "duration": 8,
    "start_time": "2024-11-06T17:43:04.195Z"
   },
   {
    "duration": 9,
    "start_time": "2024-11-06T17:43:21.690Z"
   },
   {
    "duration": 356,
    "start_time": "2024-11-06T17:43:52.201Z"
   },
   {
    "duration": 6,
    "start_time": "2024-11-06T17:44:56.783Z"
   },
   {
    "duration": 8,
    "start_time": "2024-11-06T17:48:03.087Z"
   },
   {
    "duration": 96,
    "start_time": "2024-11-06T17:49:39.531Z"
   },
   {
    "duration": 16,
    "start_time": "2024-11-06T17:49:53.808Z"
   },
   {
    "duration": 91,
    "start_time": "2024-11-06T17:50:25.507Z"
   },
   {
    "duration": 87,
    "start_time": "2024-11-06T17:51:05.522Z"
   },
   {
    "duration": 97,
    "start_time": "2024-11-06T18:01:20.572Z"
   },
   {
    "duration": 104,
    "start_time": "2024-11-06T18:01:33.467Z"
   },
   {
    "duration": 100,
    "start_time": "2024-11-06T18:02:47.291Z"
   },
   {
    "duration": 818,
    "start_time": "2024-11-06T18:57:21.206Z"
   },
   {
    "duration": 1307,
    "start_time": "2024-11-06T18:57:22.026Z"
   },
   {
    "duration": 22,
    "start_time": "2024-11-06T18:57:23.335Z"
   },
   {
    "duration": 3,
    "start_time": "2024-11-06T18:57:23.359Z"
   },
   {
    "duration": 72,
    "start_time": "2024-11-06T18:57:23.364Z"
   },
   {
    "duration": 7,
    "start_time": "2024-11-06T18:57:23.438Z"
   },
   {
    "duration": 14,
    "start_time": "2024-11-06T18:57:23.447Z"
   },
   {
    "duration": 4,
    "start_time": "2024-11-06T18:57:23.462Z"
   },
   {
    "duration": 79,
    "start_time": "2024-11-06T18:57:23.468Z"
   },
   {
    "duration": 38,
    "start_time": "2024-11-06T18:57:23.551Z"
   },
   {
    "duration": 169,
    "start_time": "2024-11-06T18:57:23.590Z"
   },
   {
    "duration": 12,
    "start_time": "2024-11-06T18:57:23.762Z"
   },
   {
    "duration": 3460,
    "start_time": "2024-11-06T18:57:23.775Z"
   },
   {
    "duration": 112,
    "start_time": "2024-11-06T18:57:27.237Z"
   },
   {
    "duration": 404,
    "start_time": "2024-11-06T18:57:27.351Z"
   },
   {
    "duration": 6,
    "start_time": "2024-11-06T18:57:27.756Z"
   },
   {
    "duration": 404,
    "start_time": "2024-11-06T18:57:27.763Z"
   },
   {
    "duration": 153,
    "start_time": "2024-11-06T18:57:28.168Z"
   },
   {
    "duration": 15,
    "start_time": "2024-11-06T18:57:28.322Z"
   },
   {
    "duration": 320,
    "start_time": "2024-11-06T18:57:28.339Z"
   },
   {
    "duration": 4,
    "start_time": "2024-11-06T18:57:28.661Z"
   },
   {
    "duration": 89,
    "start_time": "2024-11-06T18:57:28.667Z"
   },
   {
    "duration": 4,
    "start_time": "2024-11-06T18:57:28.757Z"
   },
   {
    "duration": 108,
    "start_time": "2024-11-06T18:57:28.764Z"
   },
   {
    "duration": 4,
    "start_time": "2024-11-06T18:57:28.874Z"
   },
   {
    "duration": 8,
    "start_time": "2024-11-06T18:57:28.886Z"
   },
   {
    "duration": 109,
    "start_time": "2024-11-06T18:57:28.897Z"
   },
   {
    "duration": 4,
    "start_time": "2024-11-06T18:57:29.010Z"
   },
   {
    "duration": 19,
    "start_time": "2024-11-06T18:57:29.016Z"
   },
   {
    "duration": 56,
    "start_time": "2024-11-06T18:57:29.036Z"
   },
   {
    "duration": 110,
    "start_time": "2024-11-06T18:57:29.093Z"
   },
   {
    "duration": 10,
    "start_time": "2024-11-06T18:57:29.205Z"
   },
   {
    "duration": 104,
    "start_time": "2024-11-06T18:57:29.216Z"
   },
   {
    "duration": 367,
    "start_time": "2024-11-06T18:57:29.322Z"
   },
   {
    "duration": 6,
    "start_time": "2024-11-06T18:57:29.691Z"
   },
   {
    "duration": 4,
    "start_time": "2024-11-06T18:57:29.699Z"
   },
   {
    "duration": 4,
    "start_time": "2024-11-06T18:57:29.705Z"
   },
   {
    "duration": 390,
    "start_time": "2024-11-06T18:57:29.711Z"
   },
   {
    "duration": 4,
    "start_time": "2024-11-06T18:57:30.103Z"
   },
   {
    "duration": 4,
    "start_time": "2024-11-06T18:57:30.108Z"
   },
   {
    "duration": 4,
    "start_time": "2024-11-06T18:57:30.114Z"
   },
   {
    "duration": 439,
    "start_time": "2024-11-06T18:57:30.119Z"
   },
   {
    "duration": 6,
    "start_time": "2024-11-06T18:57:30.560Z"
   },
   {
    "duration": 3,
    "start_time": "2024-11-06T18:57:30.568Z"
   },
   {
    "duration": 18,
    "start_time": "2024-11-06T18:57:30.573Z"
   },
   {
    "duration": 4,
    "start_time": "2024-11-06T19:02:10.555Z"
   },
   {
    "duration": 5200,
    "start_time": "2024-11-06T19:13:03.434Z"
   },
   {
    "duration": 5400,
    "start_time": "2024-11-06T19:13:49.221Z"
   }
  ],
  "kernelspec": {
   "display_name": "Python 3 (ipykernel)",
   "language": "python",
   "name": "python3"
  },
  "language_info": {
   "codemirror_mode": {
    "name": "ipython",
    "version": 3
   },
   "file_extension": ".py",
   "mimetype": "text/x-python",
   "name": "python",
   "nbconvert_exporter": "python",
   "pygments_lexer": "ipython3",
   "version": "3.12.3"
  },
  "toc": {
   "base_numbering": 1,
   "nav_menu": {},
   "number_sections": true,
   "sideBar": true,
   "skip_h1_title": true,
   "title_cell": "Table of Contents",
   "title_sidebar": "Contents",
   "toc_cell": false,
   "toc_position": {
    "height": "calc(100% - 180px)",
    "left": "10px",
    "top": "150px",
    "width": "165px"
   },
   "toc_section_display": true,
   "toc_window_display": true
  }
 },
 "nbformat": 4,
 "nbformat_minor": 4
}
